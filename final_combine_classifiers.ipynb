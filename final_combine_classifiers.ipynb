{
 "cells": [
  {
   "cell_type": "code",
   "execution_count": 5,
   "metadata": {},
   "outputs": [],
   "source": [
    "from sklearn.model_selection import train_test_split\n",
    "#from sklearn.ensemble import RandomForestClassifier\n",
    "from sklearn_pandas import DataFrameMapper, cross_val_score\n",
    "from sklearn.feature_extraction.text import TfidfVectorizer\n",
    "import pandas as pd\n",
    "from sklearn.svm import LinearSVC\n",
    "from sklearn.linear_model import LinearRegression, RidgeCV\n",
    "from sklearn.multiclass import OneVsRestClassifier\n",
    "#Evaluation\n",
    "from sklearn.metrics import confusion_matrix, classification_report\n",
    "from sklearn.metrics import accuracy_score, precision_recall_fscore_support, fbeta_score\n",
    "import time"
   ]
  },
  {
   "cell_type": "code",
   "execution_count": 6,
   "metadata": {},
   "outputs": [],
   "source": [
    "dataFrame_7 = pd.read_csv(\"data/rawScaled7.csv\")\n",
    "df_7 = dataFrame_7\n",
    "# dataFrame_all = pd.read_csv(\"data/rawScaledAll.csv\")\n",
    "# df_all = dataFrame_all"
   ]
  },
  {
   "cell_type": "code",
   "execution_count": 13,
   "metadata": {},
   "outputs": [
    {
     "data": {
      "text/html": [
       "<div>\n",
       "<style scoped>\n",
       "    .dataframe tbody tr th:only-of-type {\n",
       "        vertical-align: middle;\n",
       "    }\n",
       "\n",
       "    .dataframe tbody tr th {\n",
       "        vertical-align: top;\n",
       "    }\n",
       "\n",
       "    .dataframe thead th {\n",
       "        text-align: right;\n",
       "    }\n",
       "</style>\n",
       "<table border=\"1\" class=\"dataframe\">\n",
       "  <thead>\n",
       "    <tr style=\"text-align: right;\">\n",
       "      <th></th>\n",
       "      <th>text</th>\n",
       "      <th>retweet_count</th>\n",
       "      <th>is_quote_status</th>\n",
       "      <th>user_name</th>\n",
       "      <th>followers_count</th>\n",
       "      <th>friends_count</th>\n",
       "      <th>listed_count</th>\n",
       "      <th>favourites_count</th>\n",
       "      <th>statuses_count</th>\n",
       "      <th>tweet_age</th>\n",
       "      <th>sentiment</th>\n",
       "      <th>text_length</th>\n",
       "      <th>hashtags_count</th>\n",
       "      <th>usermention_count</th>\n",
       "      <th>urls_count</th>\n",
       "      <th>emojis_count</th>\n",
       "      <th>activated_duration</th>\n",
       "      <th>dow</th>\n",
       "      <th>is_weekend</th>\n",
       "    </tr>\n",
       "  </thead>\n",
       "  <tbody>\n",
       "    <tr>\n",
       "      <th>0</th>\n",
       "      <td>touched carters story able pls help w chance d...</td>\n",
       "      <td>1381</td>\n",
       "      <td>0</td>\n",
       "      <td>katyperry</td>\n",
       "      <td>109577041.0</td>\n",
       "      <td>216.0</td>\n",
       "      <td>141387.0</td>\n",
       "      <td>6214</td>\n",
       "      <td>9220</td>\n",
       "      <td>7</td>\n",
       "      <td>0.50</td>\n",
       "      <td>77</td>\n",
       "      <td>0</td>\n",
       "      <td>0</td>\n",
       "      <td>1</td>\n",
       "      <td>1</td>\n",
       "      <td>9</td>\n",
       "      <td>1</td>\n",
       "      <td>0</td>\n",
       "    </tr>\n",
       "    <tr>\n",
       "      <th>1</th>\n",
       "      <td>rt thwofd cynthia germanotta momgerm explains ...</td>\n",
       "      <td>550</td>\n",
       "      <td>0</td>\n",
       "      <td>ladygaga</td>\n",
       "      <td>78902805.0</td>\n",
       "      <td>127004.0</td>\n",
       "      <td>224828.0</td>\n",
       "      <td>1915</td>\n",
       "      <td>8764</td>\n",
       "      <td>102</td>\n",
       "      <td>0.00</td>\n",
       "      <td>95</td>\n",
       "      <td>1</td>\n",
       "      <td>4</td>\n",
       "      <td>0</td>\n",
       "      <td>0</td>\n",
       "      <td>10</td>\n",
       "      <td>4</td>\n",
       "      <td>0</td>\n",
       "    </tr>\n",
       "    <tr>\n",
       "      <th>2</th>\n",
       "      <td>littlebigshots thursday theres better way cele...</td>\n",
       "      <td>347</td>\n",
       "      <td>0</td>\n",
       "      <td>TheEllenShow</td>\n",
       "      <td>78052818.0</td>\n",
       "      <td>35730.0</td>\n",
       "      <td>107416.0</td>\n",
       "      <td>954</td>\n",
       "      <td>16970</td>\n",
       "      <td>7</td>\n",
       "      <td>0.25</td>\n",
       "      <td>81</td>\n",
       "      <td>1</td>\n",
       "      <td>0</td>\n",
       "      <td>1</td>\n",
       "      <td>0</td>\n",
       "      <td>9</td>\n",
       "      <td>1</td>\n",
       "      <td>0</td>\n",
       "    </tr>\n",
       "    <tr>\n",
       "      <th>3</th>\n",
       "      <td>tuesday mood kaceymusgraves</td>\n",
       "      <td>87</td>\n",
       "      <td>0</td>\n",
       "      <td>TheEllenShow</td>\n",
       "      <td>78052818.0</td>\n",
       "      <td>35730.0</td>\n",
       "      <td>107416.0</td>\n",
       "      <td>954</td>\n",
       "      <td>16970</td>\n",
       "      <td>8</td>\n",
       "      <td>0.00</td>\n",
       "      <td>28</td>\n",
       "      <td>0</td>\n",
       "      <td>1</td>\n",
       "      <td>1</td>\n",
       "      <td>0</td>\n",
       "      <td>9</td>\n",
       "      <td>1</td>\n",
       "      <td>0</td>\n",
       "    </tr>\n",
       "    <tr>\n",
       "      <th>4</th>\n",
       "      <td>someone watching show gonna way riches</td>\n",
       "      <td>101</td>\n",
       "      <td>0</td>\n",
       "      <td>TheEllenShow</td>\n",
       "      <td>78052818.0</td>\n",
       "      <td>35730.0</td>\n",
       "      <td>107416.0</td>\n",
       "      <td>954</td>\n",
       "      <td>16970</td>\n",
       "      <td>9</td>\n",
       "      <td>0.00</td>\n",
       "      <td>39</td>\n",
       "      <td>0</td>\n",
       "      <td>0</td>\n",
       "      <td>1</td>\n",
       "      <td>0</td>\n",
       "      <td>9</td>\n",
       "      <td>1</td>\n",
       "      <td>0</td>\n",
       "    </tr>\n",
       "  </tbody>\n",
       "</table>\n",
       "</div>"
      ],
      "text/plain": [
       "                                                text  retweet_count  \\\n",
       "0  touched carters story able pls help w chance d...           1381   \n",
       "1  rt thwofd cynthia germanotta momgerm explains ...            550   \n",
       "2  littlebigshots thursday theres better way cele...            347   \n",
       "3                       tuesday mood kaceymusgraves              87   \n",
       "4            someone watching show gonna way riches             101   \n",
       "\n",
       "   is_quote_status     user_name  followers_count  friends_count  \\\n",
       "0                0     katyperry      109577041.0          216.0   \n",
       "1                0      ladygaga       78902805.0       127004.0   \n",
       "2                0  TheEllenShow       78052818.0        35730.0   \n",
       "3                0  TheEllenShow       78052818.0        35730.0   \n",
       "4                0  TheEllenShow       78052818.0        35730.0   \n",
       "\n",
       "   listed_count  favourites_count  statuses_count  tweet_age  sentiment  \\\n",
       "0      141387.0              6214            9220          7       0.50   \n",
       "1      224828.0              1915            8764        102       0.00   \n",
       "2      107416.0               954           16970          7       0.25   \n",
       "3      107416.0               954           16970          8       0.00   \n",
       "4      107416.0               954           16970          9       0.00   \n",
       "\n",
       "   text_length  hashtags_count  usermention_count  urls_count  emojis_count  \\\n",
       "0           77               0                  0           1             1   \n",
       "1           95               1                  4           0             0   \n",
       "2           81               1                  0           1             0   \n",
       "3           28               0                  1           1             0   \n",
       "4           39               0                  0           1             0   \n",
       "\n",
       "   activated_duration  dow  is_weekend  \n",
       "0                   9    1           0  \n",
       "1                  10    4           0  \n",
       "2                   9    1           0  \n",
       "3                   9    1           0  \n",
       "4                   9    1           0  "
      ]
     },
     "execution_count": 13,
     "metadata": {},
     "output_type": "execute_result"
    }
   ],
   "source": [
    "df_7.head()"
   ]
  },
  {
   "cell_type": "code",
   "execution_count": 7,
   "metadata": {},
   "outputs": [],
   "source": [
    "classifiers = [\n",
    "    ('LinearSVC', OneVsRestClassifier(LinearSVC(random_state=23))),\n",
    "    ('Linear Regression', LinearRegression()),\n",
    "    ('Ridge CV', RidgeCV()),            \n",
    "]"
   ]
  },
  {
   "cell_type": "code",
   "execution_count": 8,
   "metadata": {},
   "outputs": [],
   "source": [
    "#Add the features of the dataframe that you want to transform and/or combine\n",
    "mapper = DataFrameMapper([\n",
    "     ('text', TfidfVectorizer()),     \n",
    "     ('is_quote_status', None),\n",
    "     ('user_name', TfidfVectorizer()),\n",
    "     ('followers_count', None),\n",
    "     ('friends_count', None),\n",
    "     ('listed_count', None),\n",
    "     ('favourites_count', None),\n",
    "     ('statuses_count', None),\n",
    "     ('tweet_age', None),\n",
    "     ('sentiment', None),\n",
    "     ('text_length', None),\n",
    "     ('hashtags_count', None),\n",
    "     ('usermention_count', None),\n",
    "     ('urls_count', None),\n",
    "     ('emojis_count', None),\n",
    "     ('activated_duration', None),\n",
    "     ('dow', None),\n",
    "     ('is_weekend', None),\n",
    " ])\n",
    " \n",
    "\"\"\"\n",
    "Use the fit_transform method to transform the old dataframe into a new one\n",
    "that can be fed to the machine learning algorithm.\n",
    "\"\"\"\n",
    " \n",
    "#sample Usage\n",
    "features = mapper.fit_transform(df_7)\n",
    "target = df_7['retweet_count']\n",
    " \n",
    "# Split the data between train and test\n",
    "x, x_test, y, y_test = train_test_split(features, target, test_size=0.2, train_size=0.8, random_state = 0)"
   ]
  },
  {
   "cell_type": "code",
   "execution_count": 20,
   "metadata": {},
   "outputs": [
    {
     "data": {
      "text/plain": [
       "7078"
      ]
     },
     "execution_count": 20,
     "metadata": {},
     "output_type": "execute_result"
    }
   ],
   "source": [
    "len(x)"
   ]
  },
  {
   "cell_type": "code",
   "execution_count": 10,
   "metadata": {},
   "outputs": [],
   "source": [
    "cls_dict = {}\n",
    "cls_dict_pred = {}\n",
    "for clf_name, classifier in classifiers:\n",
    "    y_pred = classifier.fit(x, y)\n",
    "    cls_dict.update({clf_name: y_pred})\n",
    "    predictions = y_pred.predict(x_test)\n",
    "    cls_dict_pred.update({clf_name: predictions})"
   ]
  },
  {
   "cell_type": "code",
   "execution_count": 11,
   "metadata": {},
   "outputs": [
    {
     "data": {
      "text/plain": [
       "0.0008476970895733258"
      ]
     },
     "execution_count": 11,
     "metadata": {},
     "output_type": "execute_result"
    }
   ],
   "source": [
    "cls_dict['LinearSVC'].score(x,y)"
   ]
  },
  {
   "cell_type": "code",
   "execution_count": 22,
   "metadata": {},
   "outputs": [
    {
     "data": {
      "text/plain": [
       "0.0011299435028248588"
      ]
     },
     "execution_count": 22,
     "metadata": {},
     "output_type": "execute_result"
    }
   ],
   "source": [
    "cls_dict['LinearSVC'].score(x_test, y_test)"
   ]
  },
  {
   "cell_type": "code",
   "execution_count": 23,
   "metadata": {},
   "outputs": [
    {
     "data": {
      "text/plain": [
       "-15344777.43342054"
      ]
     },
     "execution_count": 23,
     "metadata": {},
     "output_type": "execute_result"
    }
   ],
   "source": [
    "cls_dict['Linear Regression'].score(x_test, y_test)"
   ]
  },
  {
   "cell_type": "code",
   "execution_count": 24,
   "metadata": {},
   "outputs": [
    {
     "data": {
      "text/plain": [
       "-5.771381228278708"
      ]
     },
     "execution_count": 24,
     "metadata": {},
     "output_type": "execute_result"
    }
   ],
   "source": [
    "cls_dict['Ridge CV'].score(x_test, y_test)"
   ]
  },
  {
   "cell_type": "code",
   "execution_count": 17,
   "metadata": {},
   "outputs": [],
   "source": [
    "from sklearn import metrics\n",
    "from sklearn.metrics import accuracy_score, precision_recall_fscore_support, fbeta_score\n",
    "import time\n",
    "import seaborn as sns\n",
    "import numpy as np"
   ]
  },
  {
   "cell_type": "code",
   "execution_count": 19,
   "metadata": {},
   "outputs": [
    {
     "name": "stdout",
     "output_type": "stream",
     "text": [
      "MAE: 6272128.303607552\n",
      "MSE: 254924875302076.22\n",
      "RMSE: 15966367.003863974\n"
     ]
    }
   ],
   "source": [
    "#linear Regression\n",
    "print(\"MAE:\", metrics.mean_absolute_error(y_test, cls_dict_pred['Linear Regression']))\n",
    "print(\"MSE:\", metrics.mean_squared_error(y_test, cls_dict_pred['Linear Regression']))\n",
    "print(\"RMSE:\", np.sqrt(metrics.mean_squared_error(y_test, cls_dict_pred['Linear Regression'])))\n",
    "\n",
    "#print confidence intervals for the model coefficients"
   ]
  },
  {
   "cell_type": "code",
   "execution_count": 20,
   "metadata": {},
   "outputs": [
    {
     "name": "stdout",
     "output_type": "stream",
     "text": [
      "MAE: 3562.3468926553674\n",
      "MSE: 29227099.89265537\n",
      "RMSE: 5406.209382983179\n"
     ]
    }
   ],
   "source": [
    "#linear SVC\n",
    "print(\"MAE:\", metrics.mean_absolute_error(y_test, cls_dict_pred['LinearSVC']))\n",
    "print(\"MSE:\", metrics.mean_squared_error(y_test, cls_dict_pred['LinearSVC']))\n",
    "print(\"RMSE:\", np.sqrt(metrics.mean_squared_error(y_test, cls_dict_pred['LinearSVC'])))\n",
    "\n",
    "#print confidence intervals for the model coefficients"
   ]
  },
  {
   "cell_type": "code",
   "execution_count": 21,
   "metadata": {},
   "outputs": [
    {
     "name": "stdout",
     "output_type": "stream",
     "text": [
      "MAE: 7367.1929747493205\n",
      "MSE: 112493870.32413341\n",
      "RMSE: 10606.312758170645\n"
     ]
    }
   ],
   "source": [
    "#Ridge CV\n",
    "print(\"MAE:\", metrics.mean_absolute_error(y_test, cls_dict_pred['Ridge CV']))\n",
    "print(\"MSE:\", metrics.mean_squared_error(y_test, cls_dict_pred['Ridge CV']))\n",
    "print(\"RMSE:\", np.sqrt(metrics.mean_squared_error(y_test, cls_dict_pred['Ridge CV'])))\n",
    "\n",
    "#print confidence intervals for the model coefficients"
   ]
  },
  {
   "cell_type": "code",
   "execution_count": 26,
   "metadata": {},
   "outputs": [],
   "source": [
    "import matplotlib.pyplot as plt"
   ]
  },
  {
   "cell_type": "code",
   "execution_count": 28,
   "metadata": {},
   "outputs": [
    {
     "data": {
      "text/plain": [
       "Text(0.5,1,'Actual vs Predicted with Linear Regression')"
      ]
     },
     "execution_count": 28,
     "metadata": {},
     "output_type": "execute_result"
    },
    {
     "data": {
      "image/png": "[encoded data removed]",
      "text/plain": [
       "<Figure size 432x288 with 1 Axes>"
      ]
     },
     "metadata": {},
     "output_type": "display_data"
    }
   ],
   "source": [
    "plt.scatter(y_test, cls_dict_pred['Linear Regression'])\n",
    "plt.xlabel(\"Actual\")\n",
    "plt.ylabel(\"Predicted\")\n",
    "plt.title(\"Actual vs Predicted with Linear Regression\")"
   ]
  },
  {
   "cell_type": "code",
   "execution_count": 29,
   "metadata": {},
   "outputs": [
    {
     "data": {
      "text/plain": [
       "Text(0.5,1,'Actual vs Predicted with Ridge CV')"
      ]
     },
     "execution_count": 29,
     "metadata": {},
     "output_type": "execute_result"
    },
    {
     "data": {
      "image/png": "[encoded data removed]",
      "text/plain": [
       "<Figure size 432x288 with 1 Axes>"
      ]
     },
     "metadata": {},
     "output_type": "display_data"
    }
   ],
   "source": [
    "plt.scatter(y_test, cls_dict_pred['Ridge CV'])\n",
    "plt.xlabel(\"Actual\")\n",
    "plt.ylabel(\"Predicted\")\n",
    "plt.title(\"Actual vs Predicted with Ridge CV\")"
   ]
  },
  {
   "cell_type": "code",
   "execution_count": 31,
   "metadata": {},
   "outputs": [
    {
     "data": {
      "text/plain": [
       "Text(0.5,1,'Actual vs Predicted with LinearSVC')"
      ]
     },
     "execution_count": 31,
     "metadata": {},
     "output_type": "execute_result"
    },
    {
     "data": {
      "image/png": "[encoded data removed]",
      "text/plain": [
       "<Figure size 432x288 with 1 Axes>"
      ]
     },
     "metadata": {},
     "output_type": "display_data"
    }
   ],
   "source": [
    "plt.scatter(y_test, cls_dict_pred['LinearSVC'])\n",
    "plt.xlabel(\"Actual\")\n",
    "plt.ylabel(\"Predicted\")\n",
    "plt.title(\"Actual vs Predicted with LinearSVC\")"
   ]
  },
  {
   "cell_type": "code",
   "execution_count": 23,
   "metadata": {},
   "outputs": [
    {
     "data": {
      "text/plain": [
       "RandomForestClassifier(bootstrap=True, class_weight=None, criterion='gini',\n",
       "            max_depth=None, max_features='auto', max_leaf_nodes=None,\n",
       "            min_impurity_decrease=0.0, min_impurity_split=None,\n",
       "            min_samples_leaf=1, min_samples_split=2,\n",
       "            min_weight_fraction_leaf=0.0, n_estimators=10, n_jobs=1,\n",
       "            oob_score=False, random_state=0, verbose=0, warm_start=False)"
      ]
     },
     "execution_count": 23,
     "metadata": {},
     "output_type": "execute_result"
    }
   ],
   "source": [
    "clf = RandomForestClassifier(random_state=0)\n",
    "clf.fit(x, y)"
   ]
  },
  {
   "cell_type": "code",
   "execution_count": 24,
   "metadata": {},
   "outputs": [],
   "source": [
    "predicted = clf.predict(x_test)"
   ]
  },
  {
   "cell_type": "code",
   "execution_count": 25,
   "metadata": {},
   "outputs": [
    {
     "ename": "ModuleNotFoundError",
     "evalue": "No module named 'xgboost'",
     "output_type": "error",
     "traceback": [
      "\u001b[1;31m---------------------------------------------------------------------------\u001b[0m",
      "\u001b[1;31mModuleNotFoundError\u001b[0m                       Traceback (most recent call last)",
      "\u001b[1;32m<ipython-input-25-57e9d030e465>\u001b[0m in \u001b[0;36m<module>\u001b[1;34m()\u001b[0m\n\u001b[0;32m      1\u001b[0m \u001b[1;32mimport\u001b[0m \u001b[0mseaborn\u001b[0m \u001b[1;32mas\u001b[0m \u001b[0msns\u001b[0m\u001b[1;33m\u001b[0m\u001b[0m\n\u001b[0;32m      2\u001b[0m \u001b[1;32mimport\u001b[0m \u001b[0mscipy\u001b[0m \u001b[1;32mas\u001b[0m \u001b[0msp\u001b[0m\u001b[1;33m\u001b[0m\u001b[0m\n\u001b[1;32m----> 3\u001b[1;33m \u001b[1;32mimport\u001b[0m \u001b[0mxgboost\u001b[0m \u001b[1;32mas\u001b[0m \u001b[0mxgb\u001b[0m\u001b[1;33m\u001b[0m\u001b[0m\n\u001b[0m",
      "\u001b[1;31mModuleNotFoundError\u001b[0m: No module named 'xgboost'"
     ]
    }
   ],
   "source": [
    "import seaborn as sns\n",
    "import scipy as sp\n",
    "import xgboost as xgb"
   ]
  },
  {
   "cell_type": "code",
   "execution_count": null,
   "metadata": {},
   "outputs": [],
   "source": [
    "model_xgb = xgb.XGBRegressor(max_depth=4, learning_rate=0.01, n_estimators=596)\n",
    "model_xgb.fit(x, y)"
   ]
  },
  {
   "cell_type": "code",
   "execution_count": null,
   "metadata": {},
   "outputs": [],
   "source": [
    "y_pred = model_xgb.predict(x_test)\n",
    "RMSE = mean_squared_error(y_test, y_pred)**0.5\n",
    "print(RMSE)"
   ]
  },
  {
   "cell_type": "code",
   "execution_count": null,
   "metadata": {},
   "outputs": [],
   "source": [
    "x_test.shape"
   ]
  },
  {
   "cell_type": "code",
   "execution_count": null,
   "metadata": {},
   "outputs": [],
   "source": [
    "plt.scatter(y_test, y_pred)\n",
    "plt.xlabel(\"Actual retweet\")\n",
    "plt.ylabel(\"Predicted retweet\")\n",
    "plt.title(\"retweet vs Predicted rewteet\")"
   ]
  },
  {
   "cell_type": "code",
   "execution_count": null,
   "metadata": {},
   "outputs": [],
   "source": [
    "import matplotlib.pyplot as plt\n",
    "# plot it as in the example at http://scikit-learn.org/\n",
    "plt.scatter(y_test, y_pred,  color='black')\n",
    "plt.plot(y_test, y_pred, color='blue', linewidth=3)\n",
    "plt.xticks(())\n",
    "plt.yticks(())\n",
    "plt.show()"
   ]
  }
 ],
 "metadata": {
  "kernelspec": {
   "display_name": "Python 3",
   "language": "python",
   "name": "python3"
  },
  "language_info": {
   "codemirror_mode": {
    "name": "ipython",
    "version": 3
   },
   "file_extension": ".py",
   "mimetype": "text/x-python",
   "name": "python",
   "nbconvert_exporter": "python",
   "pygments_lexer": "ipython3",
   "version": "3.6.5"
  }
 },
 "nbformat": 4,
 "nbformat_minor": 2
}
