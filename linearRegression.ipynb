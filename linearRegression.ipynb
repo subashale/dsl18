{
 "cells": [
  {
   "cell_type": "code",
   "execution_count": 1,
   "metadata": {},
   "outputs": [],
   "source": [
    "import pandas as pd\n",
    "from sklearn.feature_extraction.text import TfidfVectorizer, CountVectorizer, TfidfTransformer\n",
    "from sklearn.feature_extraction import DictVectorizer\n",
    "from scipy.sparse import hstack, csr_matrix\n",
    "from sklearn.linear_model import Ridge\n",
    "import numpy as np\n",
    "from sklearn.model_selection import train_test_split"
   ]
  },
  {
   "cell_type": "code",
   "execution_count": 8,
   "metadata": {},
   "outputs": [],
   "source": [
    "dataFrame = pd.read_csv(\"../../data/featured/featured.csv\")"
   ]
  },
  {
   "cell_type": "code",
   "execution_count": 9,
   "metadata": {},
   "outputs": [],
   "source": [
    "df = dataFrame\n",
    "bf = df"
   ]
  },
  {
   "cell_type": "code",
   "execution_count": 10,
   "metadata": {},
   "outputs": [
    {
     "data": {
      "text/plain": [
       "user_name            0\n",
       "text                 0\n",
       "retweet_count        0\n",
       "tweet_age            0\n",
       "sentiment            0\n",
       "text_length          0\n",
       "hashtags_count       0\n",
       "usermention_count    0\n",
       "urls_count           0\n",
       "dtype: int64"
      ]
     },
     "execution_count": 10,
     "metadata": {},
     "output_type": "execute_result"
    }
   ],
   "source": [
    "seed = 7 \n",
    "#df = pd.read_csv('feat.csv')\n",
    "df['text'].fillna(value='Missing', inplace=True)\n",
    "X = df['text'].values\n",
    "y = np.log1p(df['retweet_count'].values)\n",
    "df.head()\n",
    "len(X)\n",
    "## process\n",
    "df = df.replace('?', np.nan)\n",
    "df = df.dropna()\n",
    "df.isnull().sum()"
   ]
  },
  {
   "cell_type": "code",
   "execution_count": 11,
   "metadata": {},
   "outputs": [
    {
     "data": {
      "text/plain": [
       "10585"
      ]
     },
     "execution_count": 11,
     "metadata": {},
     "output_type": "execute_result"
    }
   ],
   "source": [
    "len(df)"
   ]
  },
  {
   "cell_type": "code",
   "execution_count": 16,
   "metadata": {},
   "outputs": [],
   "source": [
    "train = df[2000:].copy()\n",
    "test = df[:2000].copy()"
   ]
  },
  {
   "cell_type": "code",
   "execution_count": 18,
   "metadata": {},
   "outputs": [
    {
     "data": {
      "text/plain": [
       "8585"
      ]
     },
     "execution_count": 18,
     "metadata": {},
     "output_type": "execute_result"
    }
   ],
   "source": [
    "len(train)"
   ]
  },
  {
   "cell_type": "code",
   "execution_count": 19,
   "metadata": {},
   "outputs": [
    {
     "data": {
      "text/html": [
       "<div>\n",
       "<style scoped>\n",
       "    .dataframe tbody tr th:only-of-type {\n",
       "        vertical-align: middle;\n",
       "    }\n",
       "\n",
       "    .dataframe tbody tr th {\n",
       "        vertical-align: top;\n",
       "    }\n",
       "\n",
       "    .dataframe thead th {\n",
       "        text-align: right;\n",
       "    }\n",
       "</style>\n",
       "<table border=\"1\" class=\"dataframe\">\n",
       "  <thead>\n",
       "    <tr style=\"text-align: right;\">\n",
       "      <th></th>\n",
       "      <th>user_name</th>\n",
       "      <th>text</th>\n",
       "      <th>retweet_count</th>\n",
       "      <th>tweet_age</th>\n",
       "      <th>sentiment</th>\n",
       "      <th>text_length</th>\n",
       "      <th>hashtags_count</th>\n",
       "      <th>usermention_count</th>\n",
       "      <th>urls_count</th>\n",
       "    </tr>\n",
       "  </thead>\n",
       "  <tbody>\n",
       "    <tr>\n",
       "      <th>0</th>\n",
       "      <td>katyperry</td>\n",
       "      <td>touched carters story able pls help w chance d...</td>\n",
       "      <td>1381</td>\n",
       "      <td>0</td>\n",
       "      <td>0.50</td>\n",
       "      <td>76</td>\n",
       "      <td>0</td>\n",
       "      <td>0</td>\n",
       "      <td>1</td>\n",
       "    </tr>\n",
       "    <tr>\n",
       "      <th>1</th>\n",
       "      <td>ladygaga</td>\n",
       "      <td>rt thwofd cynthia germanotta momgerm explains ...</td>\n",
       "      <td>550</td>\n",
       "      <td>4</td>\n",
       "      <td>0.00</td>\n",
       "      <td>95</td>\n",
       "      <td>1</td>\n",
       "      <td>4</td>\n",
       "      <td>0</td>\n",
       "    </tr>\n",
       "    <tr>\n",
       "      <th>2</th>\n",
       "      <td>TheEllenShow</td>\n",
       "      <td>littlebigshots thursday theres better way cele...</td>\n",
       "      <td>347</td>\n",
       "      <td>0</td>\n",
       "      <td>0.25</td>\n",
       "      <td>80</td>\n",
       "      <td>1</td>\n",
       "      <td>0</td>\n",
       "      <td>1</td>\n",
       "    </tr>\n",
       "    <tr>\n",
       "      <th>3</th>\n",
       "      <td>TheEllenShow</td>\n",
       "      <td>tuesday mood kaceymusgraves</td>\n",
       "      <td>87</td>\n",
       "      <td>0</td>\n",
       "      <td>0.00</td>\n",
       "      <td>27</td>\n",
       "      <td>0</td>\n",
       "      <td>1</td>\n",
       "      <td>1</td>\n",
       "    </tr>\n",
       "    <tr>\n",
       "      <th>4</th>\n",
       "      <td>TheEllenShow</td>\n",
       "      <td>someone watching show gonna way riches</td>\n",
       "      <td>101</td>\n",
       "      <td>0</td>\n",
       "      <td>0.00</td>\n",
       "      <td>38</td>\n",
       "      <td>0</td>\n",
       "      <td>0</td>\n",
       "      <td>1</td>\n",
       "    </tr>\n",
       "  </tbody>\n",
       "</table>\n",
       "</div>"
      ],
      "text/plain": [
       "      user_name                                               text  \\\n",
       "0     katyperry  touched carters story able pls help w chance d...   \n",
       "1      ladygaga  rt thwofd cynthia germanotta momgerm explains ...   \n",
       "2  TheEllenShow  littlebigshots thursday theres better way cele...   \n",
       "3  TheEllenShow                        tuesday mood kaceymusgraves   \n",
       "4  TheEllenShow             someone watching show gonna way riches   \n",
       "\n",
       "   retweet_count  tweet_age  sentiment  text_length  hashtags_count  \\\n",
       "0           1381          0       0.50           76               0   \n",
       "1            550          4       0.00           95               1   \n",
       "2            347          0       0.25           80               1   \n",
       "3             87          0       0.00           27               0   \n",
       "4            101          0       0.00           38               0   \n",
       "\n",
       "   usermention_count  urls_count  \n",
       "0                  0           1  \n",
       "1                  4           0  \n",
       "2                  0           1  \n",
       "3                  1           1  \n",
       "4                  0           1  "
      ]
     },
     "execution_count": 19,
     "metadata": {},
     "output_type": "execute_result"
    }
   ],
   "source": [
    "test.head()"
   ]
  },
  {
   "cell_type": "code",
   "execution_count": 20,
   "metadata": {},
   "outputs": [],
   "source": [
    "# Convert a collection of raw documents to a matrix of TF-IDF features with TfidfVectorizer\n",
    "vectorizer = TfidfVectorizer(min_df=5)\n",
    "X_tfidf = vectorizer.fit_transform(train['text']) "
   ]
  },
  {
   "cell_type": "code",
   "execution_count": 21,
   "metadata": {},
   "outputs": [],
   "source": [
    "vectorizer = TfidfVectorizer(min_df=5)\n",
    "enc = DictVectorizer()\n",
    "clf = Ridge(alpha=1.0, random_state=241)"
   ]
  },
  {
   "cell_type": "code",
   "execution_count": 22,
   "metadata": {},
   "outputs": [
    {
     "data": {
      "text/plain": [
       "Index(['user_name', 'text', 'retweet_count', 'tweet_age', 'sentiment',\n",
       "       'text_length', 'hashtags_count', 'usermention_count', 'urls_count'],\n",
       "      dtype='object')"
      ]
     },
     "execution_count": 22,
     "metadata": {},
     "output_type": "execute_result"
    }
   ],
   "source": [
    "df.keys()"
   ]
  },
  {
   "cell_type": "code",
   "execution_count": 23,
   "metadata": {},
   "outputs": [
    {
     "data": {
      "text/plain": [
       "Ridge(alpha=1.0, copy_X=True, fit_intercept=True, max_iter=None,\n",
       "   normalize=False, random_state=241, solver='auto', tol=0.001)"
      ]
     },
     "execution_count": 23,
     "metadata": {},
     "output_type": "execute_result"
    }
   ],
   "source": [
    "# train data set\n",
    "X_train = vectorizer.fit_transform(train['text'])\n",
    "X_train_categ = enc.fit_transform(train[['tweet_age', 'sentiment', 'text_length', 'hashtags_count',\n",
    "                                        'usermention_count', 'urls_count']].to_dict('records'))\n",
    "X_train = hstack([X_train, X_train_categ])\n",
    "\n",
    "# train the model\n",
    "clf.fit(X_train, train['retweet_count'])"
   ]
  },
  {
   "cell_type": "code",
   "execution_count": 29,
   "metadata": {},
   "outputs": [],
   "source": [
    "# test data set\n",
    "X_test = vectorizer.transform(test['text'])\n",
    "X_test_categ =  enc.fit_transform(test[['tweet_age', 'sentiment', 'text_length', 'hashtags_count',\n",
    "                                        'usermention_count', 'urls_count']].to_dict('records'))\n",
    "X_test = hstack([X_test, X_test_categ])\n",
    "\n",
    "# prediction ...    \n",
    "rslt = clf.predict(X_test)"
   ]
  },
  {
   "cell_type": "code",
   "execution_count": 56,
   "metadata": {},
   "outputs": [],
   "source": [
    "import seaborn as sns\n",
    "import scipy as sp\n",
    "import xgboost as xgb"
   ]
  },
  {
   "cell_type": "code",
   "execution_count": null,
   "metadata": {},
   "outputs": [],
   "source": [
    "model_xgb = xgb.XGBRegressor(max_depth=4, learning_rate=0.01, n_estimators=596)\n",
    "model_xgb.fit(X_train, X_test)"
   ]
  },
  {
   "cell_type": "code",
   "execution_count": 43,
   "metadata": {},
   "outputs": [
    {
     "data": {
      "text/plain": [
       "2000"
      ]
     },
     "execution_count": 43,
     "metadata": {},
     "output_type": "execute_result"
    }
   ],
   "source": []
  },
  {
   "cell_type": "code",
   "execution_count": 44,
   "metadata": {},
   "outputs": [],
   "source": [
    "#Linear regression\n",
    "import matplotlib.pyplot as plt\n",
    "from sklearn import linear_model\n",
    "from sklearn.metrics import mean_squared_error, r2_score"
   ]
  },
  {
   "cell_type": "code",
   "execution_count": 46,
   "metadata": {},
   "outputs": [],
   "source": [
    "# Make predictions using the testing set\n",
    "diabetes_y_pred = regr.predict(X_test)"
   ]
  },
  {
   "cell_type": "code",
   "execution_count": null,
   "metadata": {},
   "outputs": [],
   "source": [
    "# The coefficients\n",
    "print('Coefficients: \\n', rslt.coef_)\n",
    "# The mean squared error\n",
    "print(\"Mean squared error: %.2f\"\n",
    "      % mean_squared_error(diabetes_y_test, diabetes_y_pred))\n",
    "# Explained variance score: 1 is perfect prediction\n",
    "print('Variance score: %.2f' % r2_score(diabetes_y_test, diabetes_y_pred))\n",
    "\n",
    "# Plot outputs\n",
    "plt.scatter(diabetes_X_test, diabetes_y_test,  color='black')\n",
    "plt.plot(diabetes_X_test, diabetes_y_pred, color='blue', linewidth=3)\n",
    "\n",
    "plt.xticks(())\n",
    "plt.yticks(())\n",
    "\n",
    "plt.show()"
   ]
  },
  {
   "cell_type": "code",
   "execution_count": 58,
   "metadata": {},
   "outputs": [
    {
     "data": {
      "text/plain": [
       "2000"
      ]
     },
     "execution_count": 58,
     "metadata": {},
     "output_type": "execute_result"
    }
   ],
   "source": [
    "len(rslt)\n",
    "len(test.retweet_count)"
   ]
  },
  {
   "cell_type": "code",
   "execution_count": null,
   "metadata": {},
   "outputs": [],
   "source": [
    "# The coefficients\n",
    "print('Coefficients: \\n', rslt.coef_)\n",
    "# The mean squared error\n",
    "print(\"Mean squared error: %.2f\"\n",
    "      % mean_squared_error(test.retweet_count, rslt))\n",
    "# Explained variance score: 1 is perfect prediction\n",
    "print('Variance score: %.2f' % r2_score(test.retweet_count, rslt))\n",
    "\n",
    "# Plot outputs\n",
    "plt.scatter(diabetes_X_test, diabetes_y_test,  color='black')\n",
    "plt.plot(diabetes_X_test, diabetes_y_pred, color='blue', linewidth=3)\n",
    "\n",
    "plt.xticks(())\n",
    "plt.yticks(())\n",
    "\n",
    "plt.show()"
   ]
  },
  {
   "cell_type": "code",
   "execution_count": 66,
   "metadata": {},
   "outputs": [
    {
     "data": {
      "text/plain": [
       "5695"
      ]
     },
     "execution_count": 66,
     "metadata": {},
     "output_type": "execute_result"
    }
   ],
   "source": [
    "test.retweet_count[1345]"
   ]
  },
  {
   "cell_type": "code",
   "execution_count": 65,
   "metadata": {},
   "outputs": [
    {
     "data": {
      "text/plain": [
       "256.8941275413022"
      ]
     },
     "execution_count": 65,
     "metadata": {},
     "output_type": "execute_result"
    }
   ],
   "source": [
    "rslt[1345]"
   ]
  },
  {
   "cell_type": "code",
   "execution_count": 70,
   "metadata": {},
   "outputs": [
    {
     "data": {
      "text/plain": [
       "(2000, 3303)"
      ]
     },
     "execution_count": 70,
     "metadata": {},
     "output_type": "execute_result"
    }
   ],
   "source": [
    "X_test.shape"
   ]
  },
  {
   "cell_type": "code",
   "execution_count": 60,
   "metadata": {},
   "outputs": [
    {
     "ename": "TypeError",
     "evalue": "'coo_matrix' object is not subscriptable",
     "output_type": "error",
     "traceback": [
      "\u001b[0;31m---------------------------------------------------------------------------\u001b[0m",
      "\u001b[0;31mTypeError\u001b[0m                                 Traceback (most recent call last)",
      "\u001b[0;32m<ipython-input-60-9e970ec3af6e>\u001b[0m in \u001b[0;36m<module>\u001b[0;34m()\u001b[0m\n\u001b[1;32m      1\u001b[0m \u001b[0;32mimport\u001b[0m \u001b[0mmatplotlib\u001b[0m\u001b[0;34m.\u001b[0m\u001b[0mpyplot\u001b[0m \u001b[0;32mas\u001b[0m \u001b[0mplt\u001b[0m\u001b[0;34m\u001b[0m\u001b[0m\n\u001b[1;32m      2\u001b[0m \u001b[0;31m# plot it as in the example at http://scikit-learn.org/\u001b[0m\u001b[0;34m\u001b[0m\u001b[0;34m\u001b[0m\u001b[0m\n\u001b[0;32m----> 3\u001b[0;31m \u001b[0mplt\u001b[0m\u001b[0;34m.\u001b[0m\u001b[0mscatter\u001b[0m\u001b[0;34m(\u001b[0m\u001b[0mX_train\u001b[0m\u001b[0;34m,\u001b[0m \u001b[0mX_test\u001b[0m\u001b[0;34m,\u001b[0m  \u001b[0mcolor\u001b[0m\u001b[0;34m=\u001b[0m\u001b[0;34m'black'\u001b[0m\u001b[0;34m)\u001b[0m\u001b[0;34m\u001b[0m\u001b[0m\n\u001b[0m\u001b[1;32m      4\u001b[0m \u001b[0mplt\u001b[0m\u001b[0;34m.\u001b[0m\u001b[0mplot\u001b[0m\u001b[0;34m(\u001b[0m\u001b[0mtest\u001b[0m\u001b[0;34m.\u001b[0m\u001b[0mretweet_count\u001b[0m\u001b[0;34m,\u001b[0m \u001b[0mrslt\u001b[0m\u001b[0;34m,\u001b[0m \u001b[0mcolor\u001b[0m\u001b[0;34m=\u001b[0m\u001b[0;34m'blue'\u001b[0m\u001b[0;34m,\u001b[0m \u001b[0mlinewidth\u001b[0m\u001b[0;34m=\u001b[0m\u001b[0;36m3\u001b[0m\u001b[0;34m)\u001b[0m\u001b[0;34m\u001b[0m\u001b[0m\n\u001b[1;32m      5\u001b[0m \u001b[0mplt\u001b[0m\u001b[0;34m.\u001b[0m\u001b[0mxticks\u001b[0m\u001b[0;34m(\u001b[0m\u001b[0;34m(\u001b[0m\u001b[0;34m)\u001b[0m\u001b[0;34m)\u001b[0m\u001b[0;34m\u001b[0m\u001b[0m\n",
      "\u001b[0;32m~/anaconda3/lib/python3.6/site-packages/matplotlib/pyplot.py\u001b[0m in \u001b[0;36mscatter\u001b[0;34m(x, y, s, c, marker, cmap, norm, vmin, vmax, alpha, linewidths, verts, edgecolors, hold, data, **kwargs)\u001b[0m\n\u001b[1;32m   3468\u001b[0m                          \u001b[0mvmin\u001b[0m\u001b[0;34m=\u001b[0m\u001b[0mvmin\u001b[0m\u001b[0;34m,\u001b[0m \u001b[0mvmax\u001b[0m\u001b[0;34m=\u001b[0m\u001b[0mvmax\u001b[0m\u001b[0;34m,\u001b[0m \u001b[0malpha\u001b[0m\u001b[0;34m=\u001b[0m\u001b[0malpha\u001b[0m\u001b[0;34m,\u001b[0m\u001b[0;34m\u001b[0m\u001b[0m\n\u001b[1;32m   3469\u001b[0m                          \u001b[0mlinewidths\u001b[0m\u001b[0;34m=\u001b[0m\u001b[0mlinewidths\u001b[0m\u001b[0;34m,\u001b[0m \u001b[0mverts\u001b[0m\u001b[0;34m=\u001b[0m\u001b[0mverts\u001b[0m\u001b[0;34m,\u001b[0m\u001b[0;34m\u001b[0m\u001b[0m\n\u001b[0;32m-> 3470\u001b[0;31m                          edgecolors=edgecolors, data=data, **kwargs)\n\u001b[0m\u001b[1;32m   3471\u001b[0m     \u001b[0;32mfinally\u001b[0m\u001b[0;34m:\u001b[0m\u001b[0;34m\u001b[0m\u001b[0m\n\u001b[1;32m   3472\u001b[0m         \u001b[0max\u001b[0m\u001b[0;34m.\u001b[0m\u001b[0m_hold\u001b[0m \u001b[0;34m=\u001b[0m \u001b[0mwashold\u001b[0m\u001b[0;34m\u001b[0m\u001b[0m\n",
      "\u001b[0;32m~/anaconda3/lib/python3.6/site-packages/matplotlib/__init__.py\u001b[0m in \u001b[0;36minner\u001b[0;34m(ax, *args, **kwargs)\u001b[0m\n\u001b[1;32m   1853\u001b[0m                         \u001b[0;34m\"the Matplotlib list!)\"\u001b[0m \u001b[0;34m%\u001b[0m \u001b[0;34m(\u001b[0m\u001b[0mlabel_namer\u001b[0m\u001b[0;34m,\u001b[0m \u001b[0mfunc\u001b[0m\u001b[0;34m.\u001b[0m\u001b[0m__name__\u001b[0m\u001b[0;34m)\u001b[0m\u001b[0;34m,\u001b[0m\u001b[0;34m\u001b[0m\u001b[0m\n\u001b[1;32m   1854\u001b[0m                         RuntimeWarning, stacklevel=2)\n\u001b[0;32m-> 1855\u001b[0;31m             \u001b[0;32mreturn\u001b[0m \u001b[0mfunc\u001b[0m\u001b[0;34m(\u001b[0m\u001b[0max\u001b[0m\u001b[0;34m,\u001b[0m \u001b[0;34m*\u001b[0m\u001b[0margs\u001b[0m\u001b[0;34m,\u001b[0m \u001b[0;34m**\u001b[0m\u001b[0mkwargs\u001b[0m\u001b[0;34m)\u001b[0m\u001b[0;34m\u001b[0m\u001b[0m\n\u001b[0m\u001b[1;32m   1856\u001b[0m \u001b[0;34m\u001b[0m\u001b[0m\n\u001b[1;32m   1857\u001b[0m         inner.__doc__ = _add_data_doc(inner.__doc__,\n",
      "\u001b[0;32m~/anaconda3/lib/python3.6/site-packages/matplotlib/axes/_axes.py\u001b[0m in \u001b[0;36mscatter\u001b[0;34m(self, x, y, s, c, marker, cmap, norm, vmin, vmax, alpha, linewidths, verts, edgecolors, **kwargs)\u001b[0m\n\u001b[1;32m   4232\u001b[0m \u001b[0;34m\u001b[0m\u001b[0m\n\u001b[1;32m   4233\u001b[0m         \u001b[0mself\u001b[0m\u001b[0;34m.\u001b[0m\u001b[0m_process_unit_info\u001b[0m\u001b[0;34m(\u001b[0m\u001b[0mxdata\u001b[0m\u001b[0;34m=\u001b[0m\u001b[0mx\u001b[0m\u001b[0;34m,\u001b[0m \u001b[0mydata\u001b[0m\u001b[0;34m=\u001b[0m\u001b[0my\u001b[0m\u001b[0;34m,\u001b[0m \u001b[0mkwargs\u001b[0m\u001b[0;34m=\u001b[0m\u001b[0mkwargs\u001b[0m\u001b[0;34m)\u001b[0m\u001b[0;34m\u001b[0m\u001b[0m\n\u001b[0;32m-> 4234\u001b[0;31m         \u001b[0mx\u001b[0m \u001b[0;34m=\u001b[0m \u001b[0mself\u001b[0m\u001b[0;34m.\u001b[0m\u001b[0mconvert_xunits\u001b[0m\u001b[0;34m(\u001b[0m\u001b[0mx\u001b[0m\u001b[0;34m)\u001b[0m\u001b[0;34m\u001b[0m\u001b[0m\n\u001b[0m\u001b[1;32m   4235\u001b[0m         \u001b[0my\u001b[0m \u001b[0;34m=\u001b[0m \u001b[0mself\u001b[0m\u001b[0;34m.\u001b[0m\u001b[0mconvert_yunits\u001b[0m\u001b[0;34m(\u001b[0m\u001b[0my\u001b[0m\u001b[0;34m)\u001b[0m\u001b[0;34m\u001b[0m\u001b[0m\n\u001b[1;32m   4236\u001b[0m \u001b[0;34m\u001b[0m\u001b[0m\n",
      "\u001b[0;32m~/anaconda3/lib/python3.6/site-packages/matplotlib/artist.py\u001b[0m in \u001b[0;36mconvert_xunits\u001b[0;34m(self, x)\u001b[0m\n\u001b[1;32m    189\u001b[0m         \u001b[0;32mif\u001b[0m \u001b[0max\u001b[0m \u001b[0;32mis\u001b[0m \u001b[0;32mNone\u001b[0m \u001b[0;32mor\u001b[0m \u001b[0max\u001b[0m\u001b[0;34m.\u001b[0m\u001b[0mxaxis\u001b[0m \u001b[0;32mis\u001b[0m \u001b[0;32mNone\u001b[0m\u001b[0;34m:\u001b[0m\u001b[0;34m\u001b[0m\u001b[0m\n\u001b[1;32m    190\u001b[0m             \u001b[0;32mreturn\u001b[0m \u001b[0mx\u001b[0m\u001b[0;34m\u001b[0m\u001b[0m\n\u001b[0;32m--> 191\u001b[0;31m         \u001b[0;32mreturn\u001b[0m \u001b[0max\u001b[0m\u001b[0;34m.\u001b[0m\u001b[0mxaxis\u001b[0m\u001b[0;34m.\u001b[0m\u001b[0mconvert_units\u001b[0m\u001b[0;34m(\u001b[0m\u001b[0mx\u001b[0m\u001b[0;34m)\u001b[0m\u001b[0;34m\u001b[0m\u001b[0m\n\u001b[0m\u001b[1;32m    192\u001b[0m \u001b[0;34m\u001b[0m\u001b[0m\n\u001b[1;32m    193\u001b[0m     \u001b[0;32mdef\u001b[0m \u001b[0mconvert_yunits\u001b[0m\u001b[0;34m(\u001b[0m\u001b[0mself\u001b[0m\u001b[0;34m,\u001b[0m \u001b[0my\u001b[0m\u001b[0;34m)\u001b[0m\u001b[0;34m:\u001b[0m\u001b[0;34m\u001b[0m\u001b[0m\n",
      "\u001b[0;32m~/anaconda3/lib/python3.6/site-packages/matplotlib/axis.py\u001b[0m in \u001b[0;36mconvert_units\u001b[0;34m(self, x)\u001b[0m\n\u001b[1;32m   1515\u001b[0m     \u001b[0;32mdef\u001b[0m \u001b[0mconvert_units\u001b[0m\u001b[0;34m(\u001b[0m\u001b[0mself\u001b[0m\u001b[0;34m,\u001b[0m \u001b[0mx\u001b[0m\u001b[0;34m)\u001b[0m\u001b[0;34m:\u001b[0m\u001b[0;34m\u001b[0m\u001b[0m\n\u001b[1;32m   1516\u001b[0m         \u001b[0;31m# If x is already a number, doesn't need converting\u001b[0m\u001b[0;34m\u001b[0m\u001b[0;34m\u001b[0m\u001b[0m\n\u001b[0;32m-> 1517\u001b[0;31m         \u001b[0;32mif\u001b[0m \u001b[0mmunits\u001b[0m\u001b[0;34m.\u001b[0m\u001b[0mConversionInterface\u001b[0m\u001b[0;34m.\u001b[0m\u001b[0mis_numlike\u001b[0m\u001b[0;34m(\u001b[0m\u001b[0mx\u001b[0m\u001b[0;34m)\u001b[0m\u001b[0;34m:\u001b[0m\u001b[0;34m\u001b[0m\u001b[0m\n\u001b[0m\u001b[1;32m   1518\u001b[0m             \u001b[0;32mreturn\u001b[0m \u001b[0mx\u001b[0m\u001b[0;34m\u001b[0m\u001b[0m\n\u001b[1;32m   1519\u001b[0m \u001b[0;34m\u001b[0m\u001b[0m\n",
      "\u001b[0;32m~/anaconda3/lib/python3.6/site-packages/matplotlib/units.py\u001b[0m in \u001b[0;36mis_numlike\u001b[0;34m(x)\u001b[0m\n\u001b[1;32m    125\u001b[0m         \"\"\"\n\u001b[1;32m    126\u001b[0m         \u001b[0;32mif\u001b[0m \u001b[0miterable\u001b[0m\u001b[0;34m(\u001b[0m\u001b[0mx\u001b[0m\u001b[0;34m)\u001b[0m\u001b[0;34m:\u001b[0m\u001b[0;34m\u001b[0m\u001b[0m\n\u001b[0;32m--> 127\u001b[0;31m             \u001b[0;32mfor\u001b[0m \u001b[0mthisx\u001b[0m \u001b[0;32min\u001b[0m \u001b[0mx\u001b[0m\u001b[0;34m:\u001b[0m\u001b[0;34m\u001b[0m\u001b[0m\n\u001b[0m\u001b[1;32m    128\u001b[0m                 \u001b[0;32mreturn\u001b[0m \u001b[0mis_numlike\u001b[0m\u001b[0;34m(\u001b[0m\u001b[0mthisx\u001b[0m\u001b[0;34m)\u001b[0m\u001b[0;34m\u001b[0m\u001b[0m\n\u001b[1;32m    129\u001b[0m         \u001b[0;32melse\u001b[0m\u001b[0;34m:\u001b[0m\u001b[0;34m\u001b[0m\u001b[0m\n",
      "\u001b[0;32m~/anaconda3/lib/python3.6/site-packages/scipy/sparse/base.py\u001b[0m in \u001b[0;36m__iter__\u001b[0;34m(self)\u001b[0m\n\u001b[1;32m    207\u001b[0m     \u001b[0;32mdef\u001b[0m \u001b[0m__iter__\u001b[0m\u001b[0;34m(\u001b[0m\u001b[0mself\u001b[0m\u001b[0;34m)\u001b[0m\u001b[0;34m:\u001b[0m\u001b[0;34m\u001b[0m\u001b[0m\n\u001b[1;32m    208\u001b[0m         \u001b[0;32mfor\u001b[0m \u001b[0mr\u001b[0m \u001b[0;32min\u001b[0m \u001b[0mxrange\u001b[0m\u001b[0;34m(\u001b[0m\u001b[0mself\u001b[0m\u001b[0;34m.\u001b[0m\u001b[0mshape\u001b[0m\u001b[0;34m[\u001b[0m\u001b[0;36m0\u001b[0m\u001b[0;34m]\u001b[0m\u001b[0;34m)\u001b[0m\u001b[0;34m:\u001b[0m\u001b[0;34m\u001b[0m\u001b[0m\n\u001b[0;32m--> 209\u001b[0;31m             \u001b[0;32myield\u001b[0m \u001b[0mself\u001b[0m\u001b[0;34m[\u001b[0m\u001b[0mr\u001b[0m\u001b[0;34m,\u001b[0m \u001b[0;34m:\u001b[0m\u001b[0;34m]\u001b[0m\u001b[0;34m\u001b[0m\u001b[0m\n\u001b[0m\u001b[1;32m    210\u001b[0m \u001b[0;34m\u001b[0m\u001b[0m\n\u001b[1;32m    211\u001b[0m     \u001b[0;32mdef\u001b[0m \u001b[0mgetmaxprint\u001b[0m\u001b[0;34m(\u001b[0m\u001b[0mself\u001b[0m\u001b[0;34m)\u001b[0m\u001b[0;34m:\u001b[0m\u001b[0;34m\u001b[0m\u001b[0m\n",
      "\u001b[0;31mTypeError\u001b[0m: 'coo_matrix' object is not subscriptable"
     ]
    },
    {
     "data": {
      "image/png": "[encoded data removed]",
      "text/plain": [
       "<Figure size 432x288 with 1 Axes>"
      ]
     },
     "metadata": {},
     "output_type": "display_data"
    }
   ],
   "source": [
    "import matplotlib.pyplot as plt\n",
    "# plot it as in the example at http://scikit-learn.org/\n",
    "plt.scatter(X_train, X_test,  color='black')\n",
    "plt.plot(test.retweet_count, rslt, color='blue', linewidth=3)\n",
    "plt.xticks(())\n",
    "plt.yticks(())\n",
    "plt.show()"
   ]
  },
  {
   "cell_type": "code",
   "execution_count": 36,
   "metadata": {},
   "outputs": [
    {
     "name": "stdout",
     "output_type": "stream",
     "text": [
      "Predicted  -279.339027   -244.693239   -214.852104   -184.359258   \\\n",
      "Actual                                                              \n",
      "0                     0             0             0             0   \n",
      "1                     0             0             0             0   \n",
      "2                     0             0             0             0   \n",
      "3                     0             0             0             0   \n",
      "4                     0             0             0             0   \n",
      "5                     0             0             0             0   \n",
      "6                     0             0             0             0   \n",
      "7                     0             0             0             0   \n",
      "8                     0             1             0             0   \n",
      "9                     0             0             0             0   \n",
      "13                    0             0             0             0   \n",
      "14                    0             0             0             0   \n",
      "15                    0             0             0             0   \n",
      "16                    0             0             0             0   \n",
      "17                    0             0             0             0   \n",
      "18                    0             0             0             0   \n",
      "19                    0             0             0             0   \n",
      "20                    0             0             0             0   \n",
      "21                    0             0             0             0   \n",
      "22                    0             0             0             0   \n",
      "23                    0             0             0             0   \n",
      "24                    0             0             0             0   \n",
      "25                    0             0             0             0   \n",
      "26                    0             0             0             0   \n",
      "27                    0             0             0             0   \n",
      "28                    0             0             0             0   \n",
      "29                    0             0             0             0   \n",
      "30                    0             0             0             0   \n",
      "31                    0             0             0             0   \n",
      "32                    0             0             0             0   \n",
      "...                 ...           ...           ...           ...   \n",
      "12986                 0             0             0             0   \n",
      "13877                 0             0             0             0   \n",
      "14619                 0             0             0             0   \n",
      "14696                 0             0             0             0   \n",
      "15190                 0             0             0             0   \n",
      "15497                 0             0             0             0   \n",
      "15988                 0             0             0             0   \n",
      "16002                 0             0             0             0   \n",
      "16011                 0             0             0             0   \n",
      "16554                 0             0             0             0   \n",
      "16627                 0             0             0             0   \n",
      "17125                 0             0             0             0   \n",
      "17762                 0             0             0             0   \n",
      "18746                 0             0             0             0   \n",
      "19652                 0             0             0             0   \n",
      "21216                 0             0             0             0   \n",
      "22480                 0             0             0             0   \n",
      "22678                 0             0             0             0   \n",
      "23061                 0             0             0             0   \n",
      "23093                 0             0             0             0   \n",
      "24538                 0             0             0             0   \n",
      "25512                 0             0             0             0   \n",
      "28338                 0             0             0             0   \n",
      "28613                 0             0             0             0   \n",
      "30824                 0             0             0             0   \n",
      "35489                 0             0             0             0   \n",
      "44902                 0             0             0             0   \n",
      "59029                 0             0             0             0   \n",
      "65825                 0             0             0             0   \n",
      "70361                 0             0             0             0   \n",
      "\n",
      "Predicted  -183.116398   -182.158991   -157.687986   -146.298912   \\\n",
      "Actual                                                              \n",
      "0                     0             0             0             0   \n",
      "1                     0             0             0             0   \n",
      "2                     0             0             0             0   \n",
      "3                     0             0             0             0   \n",
      "4                     0             0             0             0   \n",
      "5                     0             0             0             0   \n",
      "6                     0             0             0             0   \n",
      "7                     0             0             0             0   \n",
      "8                     0             0             0             0   \n",
      "9                     0             0             0             0   \n",
      "13                    0             0             0             0   \n",
      "14                    0             0             0             0   \n",
      "15                    0             0             0             0   \n",
      "16                    0             0             0             0   \n",
      "17                    0             0             0             0   \n",
      "18                    0             0             0             0   \n",
      "19                    0             0             0             0   \n",
      "20                    0             0             0             0   \n",
      "21                    0             0             0             0   \n",
      "22                    0             0             0             0   \n",
      "23                    0             0             0             0   \n",
      "24                    0             0             0             0   \n",
      "25                    0             0             0             0   \n",
      "26                    0             0             0             0   \n",
      "27                    0             0             0             0   \n",
      "28                    0             0             0             0   \n",
      "29                    0             0             0             0   \n",
      "30                    0             0             0             0   \n",
      "31                    0             0             0             0   \n",
      "32                    0             0             0             0   \n",
      "...                 ...           ...           ...           ...   \n",
      "12986                 0             0             0             0   \n",
      "13877                 0             0             0             0   \n",
      "14619                 0             0             0             0   \n",
      "14696                 0             0             0             0   \n",
      "15190                 0             0             0             0   \n",
      "15497                 0             0             0             0   \n",
      "15988                 0             0             0             0   \n",
      "16002                 0             0             0             0   \n",
      "16011                 0             0             0             0   \n",
      "16554                 0             0             0             0   \n",
      "16627                 0             0             0             0   \n",
      "17125                 0             0             0             0   \n",
      "17762                 0             0             0             0   \n",
      "18746                 0             0             0             0   \n",
      "19652                 0             0             0             0   \n",
      "21216                 0             0             0             0   \n",
      "22480                 0             0             0             0   \n",
      "22678                 0             0             0             0   \n",
      "23061                 0             0             0             0   \n",
      "23093                 0             0             0             0   \n",
      "24538                 0             0             0             0   \n",
      "25512                 0             0             0             0   \n",
      "28338                 0             0             0             0   \n",
      "28613                 0             0             0             0   \n",
      "30824                 0             0             0             0   \n",
      "35489                 0             0             0             0   \n",
      "44902                 0             0             0             0   \n",
      "59029                 0             0             0             0   \n",
      "65825                 0             0             0             0   \n",
      "70361                 0             0             0             0   \n",
      "\n",
      "Predicted  -142.533514   -138.276643       ...        2100.357921  \\\n",
      "Actual                                     ...                      \n",
      "0                     0             0      ...                  0   \n",
      "1                     0             0      ...                  0   \n",
      "2                     0             0      ...                  0   \n",
      "3                     0             0      ...                  0   \n",
      "4                     0             0      ...                  0   \n",
      "5                     0             0      ...                  0   \n",
      "6                     0             0      ...                  0   \n",
      "7                     0             0      ...                  0   \n",
      "8                     0             0      ...                  0   \n",
      "9                     0             0      ...                  0   \n",
      "13                    0             0      ...                  0   \n",
      "14                    0             0      ...                  0   \n",
      "15                    0             0      ...                  0   \n",
      "16                    0             0      ...                  0   \n",
      "17                    0             0      ...                  0   \n",
      "18                    0             0      ...                  0   \n",
      "19                    0             0      ...                  0   \n",
      "20                    0             0      ...                  0   \n",
      "21                    0             0      ...                  0   \n",
      "22                    0             0      ...                  0   \n",
      "23                    0             0      ...                  0   \n",
      "24                    0             0      ...                  0   \n",
      "25                    0             0      ...                  0   \n",
      "26                    0             0      ...                  0   \n",
      "27                    0             0      ...                  0   \n",
      "28                    0             0      ...                  0   \n",
      "29                    0             0      ...                  0   \n",
      "30                    0             0      ...                  0   \n",
      "31                    0             0      ...                  0   \n",
      "32                    0             0      ...                  0   \n",
      "...                 ...           ...      ...                ...   \n",
      "12986                 0             0      ...                  0   \n",
      "13877                 0             0      ...                  0   \n",
      "14619                 0             0      ...                  0   \n",
      "14696                 0             0      ...                  0   \n",
      "15190                 0             0      ...                  0   \n",
      "15497                 0             0      ...                  0   \n",
      "15988                 0             0      ...                  0   \n",
      "16002                 0             0      ...                  0   \n",
      "16011                 0             0      ...                  0   \n",
      "16554                 0             0      ...                  0   \n",
      "16627                 0             0      ...                  0   \n",
      "17125                 0             0      ...                  0   \n",
      "17762                 0             0      ...                  0   \n",
      "18746                 0             0      ...                  0   \n",
      "19652                 0             0      ...                  0   \n",
      "21216                 0             0      ...                  0   \n",
      "22480                 0             0      ...                  0   \n",
      "22678                 0             0      ...                  0   \n",
      "23061                 0             0      ...                  0   \n",
      "23093                 0             0      ...                  0   \n",
      "24538                 0             0      ...                  0   \n",
      "25512                 0             0      ...                  0   \n",
      "28338                 0             0      ...                  0   \n",
      "28613                 0             0      ...                  0   \n",
      "30824                 0             0      ...                  0   \n",
      "35489                 0             0      ...                  0   \n",
      "44902                 0             0      ...                  0   \n",
      "59029                 0             0      ...                  0   \n",
      "65825                 0             0      ...                  0   \n",
      "70361                 0             0      ...                  0   \n",
      "\n",
      "Predicted   2104.098536   2184.797685   2215.928378   2284.516156  \\\n",
      "Actual                                                              \n",
      "0                     0             0             0             0   \n",
      "1                     0             0             0             0   \n",
      "2                     0             0             0             0   \n",
      "3                     0             0             0             0   \n",
      "4                     0             0             0             0   \n",
      "5                     0             0             0             0   \n",
      "6                     0             0             0             0   \n",
      "7                     0             0             0             0   \n",
      "8                     0             0             0             0   \n",
      "9                     0             0             0             0   \n",
      "13                    0             0             0             0   \n",
      "14                    0             0             0             0   \n",
      "15                    0             0             0             0   \n",
      "16                    0             0             0             0   \n",
      "17                    0             0             0             0   \n",
      "18                    0             0             0             0   \n",
      "19                    0             0             0             0   \n",
      "20                    0             0             0             0   \n",
      "21                    0             0             0             0   \n",
      "22                    0             0             0             0   \n",
      "23                    0             0             0             0   \n",
      "24                    0             0             0             0   \n",
      "25                    0             0             0             0   \n",
      "26                    0             0             0             0   \n",
      "27                    0             0             0             0   \n",
      "28                    0             0             0             0   \n",
      "29                    0             0             0             0   \n",
      "30                    0             0             0             0   \n",
      "31                    0             0             0             0   \n",
      "32                    0             0             0             0   \n",
      "...                 ...           ...           ...           ...   \n",
      "12986                 0             0             0             0   \n",
      "13877                 0             0             0             0   \n",
      "14619                 0             0             0             0   \n",
      "14696                 0             0             0             0   \n",
      "15190                 0             0             0             0   \n",
      "15497                 0             0             0             0   \n",
      "15988                 0             0             0             0   \n",
      "16002                 0             0             0             0   \n",
      "16011                 0             0             0             0   \n",
      "16554                 0             0             0             0   \n",
      "16627                 0             0             0             0   \n",
      "17125                 0             0             0             0   \n",
      "17762                 0             0             0             0   \n",
      "18746                 0             0             0             0   \n",
      "19652                 0             0             0             0   \n",
      "21216                 0             0             0             0   \n",
      "22480                 0             0             0             0   \n",
      "22678                 0             0             0             0   \n",
      "23061                 0             0             0             0   \n",
      "23093                 0             0             0             0   \n",
      "24538                 0             0             0             0   \n",
      "25512                 0             0             0             0   \n",
      "28338                 0             0             0             0   \n",
      "28613                 0             0             0             0   \n",
      "30824                 0             0             0             0   \n",
      "35489                 0             0             0             0   \n",
      "44902                 0             0             0             0   \n",
      "59029                 0             0             0             0   \n",
      "65825                 0             0             0             0   \n",
      "70361                 0             0             0             0   \n",
      "\n",
      "Predicted   2290.211438   2315.238902   2707.688566   2965.976996  \\\n",
      "Actual                                                              \n",
      "0                     0             0             0             0   \n",
      "1                     0             0             0             0   \n",
      "2                     0             0             0             0   \n",
      "3                     0             0             0             0   \n",
      "4                     0             0             0             0   \n",
      "5                     0             0             0             0   \n",
      "6                     0             0             0             0   \n",
      "7                     0             0             0             0   \n",
      "8                     0             0             0             0   \n",
      "9                     0             0             0             0   \n",
      "13                    0             0             0             0   \n",
      "14                    0             0             0             0   \n",
      "15                    0             0             0             0   \n",
      "16                    0             0             0             0   \n",
      "17                    0             0             0             0   \n",
      "18                    0             0             0             0   \n",
      "19                    0             0             0             0   \n",
      "20                    0             0             0             0   \n",
      "21                    0             0             0             0   \n",
      "22                    0             0             0             0   \n",
      "23                    0             0             0             0   \n",
      "24                    0             0             0             0   \n",
      "25                    0             0             0             0   \n",
      "26                    0             0             0             0   \n",
      "27                    0             0             0             0   \n",
      "28                    0             0             0             0   \n",
      "29                    0             0             0             0   \n",
      "30                    0             0             0             0   \n",
      "31                    0             0             0             0   \n",
      "32                    0             0             0             0   \n",
      "...                 ...           ...           ...           ...   \n",
      "12986                 0             0             0             0   \n",
      "13877                 0             0             0             0   \n",
      "14619                 0             0             0             0   \n",
      "14696                 0             0             0             0   \n",
      "15190                 1             0             0             0   \n",
      "15497                 0             0             0             0   \n",
      "15988                 0             0             0             0   \n",
      "16002                 0             0             0             0   \n",
      "16011                 0             0             0             0   \n",
      "16554                 0             0             0             0   \n",
      "16627                 0             0             0             0   \n",
      "17125                 0             0             0             0   \n",
      "17762                 0             0             0             0   \n",
      "18746                 0             0             0             0   \n",
      "19652                 0             0             0             0   \n",
      "21216                 0             0             0             0   \n",
      "22480                 0             0             0             0   \n",
      "22678                 0             0             0             0   \n",
      "23061                 0             0             0             0   \n",
      "23093                 0             0             0             0   \n",
      "24538                 0             0             0             0   \n",
      "25512                 0             0             0             0   \n",
      "28338                 0             0             0             0   \n",
      "28613                 0             0             0             0   \n",
      "30824                 0             0             0             0   \n",
      "35489                 0             0             0             0   \n",
      "44902                 0             0             0             0   \n",
      "59029                 0             0             0             0   \n",
      "65825                 0             0             0             0   \n",
      "70361                 0             0             0             0   \n",
      "\n",
      "Predicted   3604.314709  \n",
      "Actual                   \n",
      "0                     0  \n",
      "1                     0  \n",
      "2                     0  \n",
      "3                     0  \n",
      "4                     0  \n",
      "5                     0  \n",
      "6                     0  \n",
      "7                     0  \n",
      "8                     0  \n",
      "9                     0  \n",
      "13                    0  \n",
      "14                    0  \n",
      "15                    0  \n",
      "16                    0  \n",
      "17                    0  \n",
      "18                    0  \n",
      "19                    0  \n",
      "20                    0  \n",
      "21                    0  \n",
      "22                    0  \n",
      "23                    0  \n",
      "24                    0  \n",
      "25                    0  \n",
      "26                    0  \n",
      "27                    0  \n",
      "28                    0  \n",
      "29                    0  \n",
      "30                    0  \n",
      "31                    0  \n",
      "32                    0  \n",
      "...                 ...  \n",
      "12986                 0  \n",
      "13877                 0  \n",
      "14619                 0  \n",
      "14696                 0  \n",
      "15190                 0  \n",
      "15497                 0  \n",
      "15988                 0  \n",
      "16002                 0  \n",
      "16011                 0  \n",
      "16554                 0  \n",
      "16627                 0  \n",
      "17125                 0  \n",
      "17762                 0  \n",
      "18746                 0  \n",
      "19652                 0  \n",
      "21216                 0  \n",
      "22480                 0  \n",
      "22678                 0  \n",
      "23061                 0  \n",
      "23093                 0  \n",
      "24538                 0  \n",
      "25512                 0  \n",
      "28338                 0  \n",
      "28613                 0  \n",
      "30824                 0  \n",
      "35489                 0  \n",
      "44902                 0  \n",
      "59029                 0  \n",
      "65825                 0  \n",
      "70361                 0  \n",
      "\n",
      "[836 rows x 1931 columns]\n",
      "\n",
      " \n",
      "\n"
     ]
    },
    {
     "ename": "NameError",
     "evalue": "name 'classification_report' is not defined",
     "output_type": "error",
     "traceback": [
      "\u001b[0;31m---------------------------------------------------------------------------\u001b[0m",
      "\u001b[0;31mNameError\u001b[0m                                 Traceback (most recent call last)",
      "\u001b[0;32m<ipython-input-36-52e12a534650>\u001b[0m in \u001b[0;36m<module>\u001b[0;34m()\u001b[0m\n\u001b[1;32m      5\u001b[0m     \u001b[0mprint\u001b[0m\u001b[0;34m(\u001b[0m\u001b[0mclassification_report\u001b[0m\u001b[0;34m(\u001b[0m\u001b[0mexp\u001b[0m\u001b[0;34m,\u001b[0m \u001b[0mpred\u001b[0m\u001b[0;34m)\u001b[0m\u001b[0;34m)\u001b[0m\u001b[0;34m\u001b[0m\u001b[0m\n\u001b[1;32m      6\u001b[0m \u001b[0;34m\u001b[0m\u001b[0m\n\u001b[0;32m----> 7\u001b[0;31m \u001b[0mprintreport\u001b[0m\u001b[0;34m(\u001b[0m\u001b[0mtest\u001b[0m\u001b[0;34m.\u001b[0m\u001b[0mretweet_count\u001b[0m\u001b[0;34m,\u001b[0m \u001b[0mrslt\u001b[0m\u001b[0;34m)\u001b[0m\u001b[0;34m\u001b[0m\u001b[0m\n\u001b[0m",
      "\u001b[0;32m<ipython-input-36-52e12a534650>\u001b[0m in \u001b[0;36mprintreport\u001b[0;34m(exp, pred)\u001b[0m\n\u001b[1;32m      3\u001b[0m \u001b[0;34m\u001b[0m\u001b[0m\n\u001b[1;32m      4\u001b[0m     \u001b[0mprint\u001b[0m\u001b[0;34m(\u001b[0m\u001b[0;34m'\\n \\n'\u001b[0m\u001b[0;34m)\u001b[0m\u001b[0;34m\u001b[0m\u001b[0m\n\u001b[0;32m----> 5\u001b[0;31m     \u001b[0mprint\u001b[0m\u001b[0;34m(\u001b[0m\u001b[0mclassification_report\u001b[0m\u001b[0;34m(\u001b[0m\u001b[0mexp\u001b[0m\u001b[0;34m,\u001b[0m \u001b[0mpred\u001b[0m\u001b[0;34m)\u001b[0m\u001b[0;34m)\u001b[0m\u001b[0;34m\u001b[0m\u001b[0m\n\u001b[0m\u001b[1;32m      6\u001b[0m \u001b[0;34m\u001b[0m\u001b[0m\n\u001b[1;32m      7\u001b[0m \u001b[0mprintreport\u001b[0m\u001b[0;34m(\u001b[0m\u001b[0mtest\u001b[0m\u001b[0;34m.\u001b[0m\u001b[0mretweet_count\u001b[0m\u001b[0;34m,\u001b[0m \u001b[0mrslt\u001b[0m\u001b[0;34m)\u001b[0m\u001b[0;34m\u001b[0m\u001b[0m\n",
      "\u001b[0;31mNameError\u001b[0m: name 'classification_report' is not defined"
     ]
    }
   ],
   "source": [
    "def printreport(exp, pred):\n",
    "    print(pd.crosstab(exp, pred, rownames=['Actual'], colnames=['Predicted']))\n",
    " \n",
    "    print('\\n \\n')\n",
    "    print(classification_report(exp, pred))\n",
    " \n",
    "printreport(test.retweet_count, rslt)"
   ]
  },
  {
   "cell_type": "code",
   "execution_count": 32,
   "metadata": {},
   "outputs": [
    {
     "ename": "AttributeError",
     "evalue": "'numpy.ndarray' object has no attribute 'score'",
     "output_type": "error",
     "traceback": [
      "\u001b[0;31m---------------------------------------------------------------------------\u001b[0m",
      "\u001b[0;31mAttributeError\u001b[0m                            Traceback (most recent call last)",
      "\u001b[0;32m<ipython-input-32-c55acd79043b>\u001b[0m in \u001b[0;36m<module>\u001b[0;34m()\u001b[0m\n\u001b[0;32m----> 1\u001b[0;31m \u001b[0mprint\u001b[0m\u001b[0;34m(\u001b[0m\u001b[0;34m'Accuracy of logistic regression classifier on test set: {:.2f}'\u001b[0m\u001b[0;34m.\u001b[0m\u001b[0mformat\u001b[0m\u001b[0;34m(\u001b[0m\u001b[0mrslt\u001b[0m\u001b[0;34m.\u001b[0m\u001b[0mscore\u001b[0m\u001b[0;34m(\u001b[0m\u001b[0mX_test\u001b[0m\u001b[0;34m,\u001b[0m \u001b[0my_test\u001b[0m\u001b[0;34m)\u001b[0m\u001b[0;34m)\u001b[0m\u001b[0;34m)\u001b[0m\u001b[0;34m\u001b[0m\u001b[0m\n\u001b[0m",
      "\u001b[0;31mAttributeError\u001b[0m: 'numpy.ndarray' object has no attribute 'score'"
     ]
    }
   ],
   "source": [
    "print('Accuracy of logistic regression classifier on test set: {:.2f}'.format(logreg.score(X_test, y_test)))"
   ]
  },
  {
   "cell_type": "code",
   "execution_count": 27,
   "metadata": {},
   "outputs": [],
   "source": [
    "test['pred_retweet'] = clf.predict(X_test)"
   ]
  },
  {
   "cell_type": "code",
   "execution_count": 28,
   "metadata": {},
   "outputs": [
    {
     "data": {
      "text/html": [
       "<div>\n",
       "<style scoped>\n",
       "    .dataframe tbody tr th:only-of-type {\n",
       "        vertical-align: middle;\n",
       "    }\n",
       "\n",
       "    .dataframe tbody tr th {\n",
       "        vertical-align: top;\n",
       "    }\n",
       "\n",
       "    .dataframe thead th {\n",
       "        text-align: right;\n",
       "    }\n",
       "</style>\n",
       "<table border=\"1\" class=\"dataframe\">\n",
       "  <thead>\n",
       "    <tr style=\"text-align: right;\">\n",
       "      <th></th>\n",
       "      <th>user_name</th>\n",
       "      <th>text</th>\n",
       "      <th>retweet_count</th>\n",
       "      <th>tweet_age</th>\n",
       "      <th>sentiment</th>\n",
       "      <th>text_length</th>\n",
       "      <th>hashtags_count</th>\n",
       "      <th>usermention_count</th>\n",
       "      <th>urls_count</th>\n",
       "      <th>pred_retweet</th>\n",
       "    </tr>\n",
       "  </thead>\n",
       "  <tbody>\n",
       "    <tr>\n",
       "      <th>0</th>\n",
       "      <td>katyperry</td>\n",
       "      <td>touched carters story able pls help w chance d...</td>\n",
       "      <td>1381</td>\n",
       "      <td>0</td>\n",
       "      <td>0.50</td>\n",
       "      <td>76</td>\n",
       "      <td>0</td>\n",
       "      <td>0</td>\n",
       "      <td>1</td>\n",
       "      <td>166.864923</td>\n",
       "    </tr>\n",
       "    <tr>\n",
       "      <th>1</th>\n",
       "      <td>ladygaga</td>\n",
       "      <td>rt thwofd cynthia germanotta momgerm explains ...</td>\n",
       "      <td>550</td>\n",
       "      <td>4</td>\n",
       "      <td>0.00</td>\n",
       "      <td>95</td>\n",
       "      <td>1</td>\n",
       "      <td>4</td>\n",
       "      <td>0</td>\n",
       "      <td>816.276584</td>\n",
       "    </tr>\n",
       "    <tr>\n",
       "      <th>2</th>\n",
       "      <td>TheEllenShow</td>\n",
       "      <td>littlebigshots thursday theres better way cele...</td>\n",
       "      <td>347</td>\n",
       "      <td>0</td>\n",
       "      <td>0.25</td>\n",
       "      <td>80</td>\n",
       "      <td>1</td>\n",
       "      <td>0</td>\n",
       "      <td>1</td>\n",
       "      <td>358.629302</td>\n",
       "    </tr>\n",
       "    <tr>\n",
       "      <th>3</th>\n",
       "      <td>TheEllenShow</td>\n",
       "      <td>tuesday mood kaceymusgraves</td>\n",
       "      <td>87</td>\n",
       "      <td>0</td>\n",
       "      <td>0.00</td>\n",
       "      <td>27</td>\n",
       "      <td>0</td>\n",
       "      <td>1</td>\n",
       "      <td>1</td>\n",
       "      <td>-23.716053</td>\n",
       "    </tr>\n",
       "    <tr>\n",
       "      <th>4</th>\n",
       "      <td>TheEllenShow</td>\n",
       "      <td>someone watching show gonna way riches</td>\n",
       "      <td>101</td>\n",
       "      <td>0</td>\n",
       "      <td>0.00</td>\n",
       "      <td>38</td>\n",
       "      <td>0</td>\n",
       "      <td>0</td>\n",
       "      <td>1</td>\n",
       "      <td>32.926752</td>\n",
       "    </tr>\n",
       "  </tbody>\n",
       "</table>\n",
       "</div>"
      ],
      "text/plain": [
       "      user_name                                               text  \\\n",
       "0     katyperry  touched carters story able pls help w chance d...   \n",
       "1      ladygaga  rt thwofd cynthia germanotta momgerm explains ...   \n",
       "2  TheEllenShow  littlebigshots thursday theres better way cele...   \n",
       "3  TheEllenShow                        tuesday mood kaceymusgraves   \n",
       "4  TheEllenShow             someone watching show gonna way riches   \n",
       "\n",
       "   retweet_count  tweet_age  sentiment  text_length  hashtags_count  \\\n",
       "0           1381          0       0.50           76               0   \n",
       "1            550          4       0.00           95               1   \n",
       "2            347          0       0.25           80               1   \n",
       "3             87          0       0.00           27               0   \n",
       "4            101          0       0.00           38               0   \n",
       "\n",
       "   usermention_count  urls_count  pred_retweet  \n",
       "0                  0           1    166.864923  \n",
       "1                  4           0    816.276584  \n",
       "2                  0           1    358.629302  \n",
       "3                  1           1    -23.716053  \n",
       "4                  0           1     32.926752  "
      ]
     },
     "execution_count": 28,
     "metadata": {},
     "output_type": "execute_result"
    }
   ],
   "source": [
    "test.head()"
   ]
  },
  {
   "cell_type": "code",
   "execution_count": null,
   "metadata": {},
   "outputs": [],
   "source": []
  }
 ],
 "metadata": {
  "kernelspec": {
   "display_name": "Python 3",
   "language": "python",
   "name": "python3"
  },
  "language_info": {
   "codemirror_mode": {
    "name": "ipython",
    "version": 3
   },
   "file_extension": ".py",
   "mimetype": "text/x-python",
   "name": "python",
   "nbconvert_exporter": "python",
   "pygments_lexer": "ipython3",
   "version": "3.6.5"
  }
 },
 "nbformat": 4,
 "nbformat_minor": 2
}
