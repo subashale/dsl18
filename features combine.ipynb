{
 "cells": [
  {
   "cell_type": "code",
   "execution_count": 4,
   "metadata": {},
   "outputs": [],
   "source": [
    "from sklearn.model_selection import train_test_split\n",
    "from sklearn.ensemble import RandomForestClassifier\n",
    "from sklearn_pandas import DataFrameMapper, cross_val_score\n",
    "from sklearn.feature_extraction.text import TfidfVectorizer\n",
    "from sklearn.naive_bayes import MultinomialNB\n",
    "import pandas as pd"
   ]
  },
  {
   "cell_type": "code",
   "execution_count": 6,
   "metadata": {},
   "outputs": [],
   "source": [
    "dataFrame = pd.read_csv(\"../data/featured/featured.csv\")"
   ]
  },
  {
   "cell_type": "code",
   "execution_count": 9,
   "metadata": {},
   "outputs": [],
   "source": [
    "df = dataFrame\n",
    "bf = df"
   ]
  },
  {
   "cell_type": "code",
   "execution_count": 10,
   "metadata": {},
   "outputs": [
    {
     "data": {
      "text/html": [
       "<div>\n",
       "<style scoped>\n",
       "    .dataframe tbody tr th:only-of-type {\n",
       "        vertical-align: middle;\n",
       "    }\n",
       "\n",
       "    .dataframe tbody tr th {\n",
       "        vertical-align: top;\n",
       "    }\n",
       "\n",
       "    .dataframe thead th {\n",
       "        text-align: right;\n",
       "    }\n",
       "</style>\n",
       "<table border=\"1\" class=\"dataframe\">\n",
       "  <thead>\n",
       "    <tr style=\"text-align: right;\">\n",
       "      <th></th>\n",
       "      <th>user_name</th>\n",
       "      <th>text</th>\n",
       "      <th>retweet_count</th>\n",
       "      <th>tweet_age</th>\n",
       "      <th>sentiment</th>\n",
       "      <th>text_length</th>\n",
       "      <th>hashtags_count</th>\n",
       "      <th>usermention_count</th>\n",
       "      <th>urls_count</th>\n",
       "    </tr>\n",
       "  </thead>\n",
       "  <tbody>\n",
       "    <tr>\n",
       "      <th>0</th>\n",
       "      <td>katyperry</td>\n",
       "      <td>touched carters story able pls help w chance d...</td>\n",
       "      <td>1381</td>\n",
       "      <td>0</td>\n",
       "      <td>0.50</td>\n",
       "      <td>76</td>\n",
       "      <td>0</td>\n",
       "      <td>0</td>\n",
       "      <td>1</td>\n",
       "    </tr>\n",
       "    <tr>\n",
       "      <th>1</th>\n",
       "      <td>ladygaga</td>\n",
       "      <td>rt thwofd cynthia germanotta momgerm explains ...</td>\n",
       "      <td>550</td>\n",
       "      <td>4</td>\n",
       "      <td>0.00</td>\n",
       "      <td>95</td>\n",
       "      <td>1</td>\n",
       "      <td>4</td>\n",
       "      <td>0</td>\n",
       "    </tr>\n",
       "    <tr>\n",
       "      <th>2</th>\n",
       "      <td>TheEllenShow</td>\n",
       "      <td>littlebigshots thursday theres better way cele...</td>\n",
       "      <td>347</td>\n",
       "      <td>0</td>\n",
       "      <td>0.25</td>\n",
       "      <td>80</td>\n",
       "      <td>1</td>\n",
       "      <td>0</td>\n",
       "      <td>1</td>\n",
       "    </tr>\n",
       "    <tr>\n",
       "      <th>3</th>\n",
       "      <td>TheEllenShow</td>\n",
       "      <td>tuesday mood kaceymusgraves</td>\n",
       "      <td>87</td>\n",
       "      <td>0</td>\n",
       "      <td>0.00</td>\n",
       "      <td>27</td>\n",
       "      <td>0</td>\n",
       "      <td>1</td>\n",
       "      <td>1</td>\n",
       "    </tr>\n",
       "    <tr>\n",
       "      <th>4</th>\n",
       "      <td>TheEllenShow</td>\n",
       "      <td>someone watching show gonna way riches</td>\n",
       "      <td>101</td>\n",
       "      <td>0</td>\n",
       "      <td>0.00</td>\n",
       "      <td>38</td>\n",
       "      <td>0</td>\n",
       "      <td>0</td>\n",
       "      <td>1</td>\n",
       "    </tr>\n",
       "  </tbody>\n",
       "</table>\n",
       "</div>"
      ],
      "text/plain": [
       "      user_name                                               text  \\\n",
       "0     katyperry  touched carters story able pls help w chance d...   \n",
       "1      ladygaga  rt thwofd cynthia germanotta momgerm explains ...   \n",
       "2  TheEllenShow  littlebigshots thursday theres better way cele...   \n",
       "3  TheEllenShow                        tuesday mood kaceymusgraves   \n",
       "4  TheEllenShow             someone watching show gonna way riches   \n",
       "\n",
       "   retweet_count  tweet_age  sentiment  text_length  hashtags_count  \\\n",
       "0           1381          0       0.50           76               0   \n",
       "1            550          4       0.00           95               1   \n",
       "2            347          0       0.25           80               1   \n",
       "3             87          0       0.00           27               0   \n",
       "4            101          0       0.00           38               0   \n",
       "\n",
       "   usermention_count  urls_count  \n",
       "0                  0           1  \n",
       "1                  4           0  \n",
       "2                  0           1  \n",
       "3                  1           1  \n",
       "4                  0           1  "
      ]
     },
     "execution_count": 10,
     "metadata": {},
     "output_type": "execute_result"
    }
   ],
   "source": [
    "bf.head()"
   ]
  },
  {
   "cell_type": "code",
   "execution_count": 11,
   "metadata": {},
   "outputs": [
    {
     "data": {
      "text/plain": [
       "(10585, 18564)"
      ]
     },
     "execution_count": 11,
     "metadata": {},
     "output_type": "execute_result"
    }
   ],
   "source": [
    "categories = bf['retweet_count']\n",
    "desc = bf['text'].fillna('')\n",
    " \n",
    "vectoriser = TfidfVectorizer()\n",
    "features = vectoriser.fit_transform(desc)\n",
    " \n",
    "features.shape\n",
    "#(35182, 66023)"
   ]
  },
  {
   "cell_type": "code",
   "execution_count": 12,
   "metadata": {},
   "outputs": [],
   "source": [
    "x, x_test, y, y_test = train_test_split(features,categories,test_size=0.2,train_size=0.8, random_state = 0)\n",
    " \n",
    "clf = MultinomialNB().fit(x, y)\n",
    "predicted = clf.predict(x_test)"
   ]
  },
  {
   "cell_type": "code",
   "execution_count": 15,
   "metadata": {},
   "outputs": [
    {
     "data": {
      "text/plain": [
       "0.09211147850732168"
      ]
     },
     "execution_count": 15,
     "metadata": {},
     "output_type": "execute_result"
    }
   ],
   "source": [
    "clf.score(x_test, y_test)"
   ]
  },
  {
   "cell_type": "code",
   "execution_count": 16,
   "metadata": {},
   "outputs": [
    {
     "data": {
      "text/html": [
       "<div>\n",
       "<style scoped>\n",
       "    .dataframe tbody tr th:only-of-type {\n",
       "        vertical-align: middle;\n",
       "    }\n",
       "\n",
       "    .dataframe tbody tr th {\n",
       "        vertical-align: top;\n",
       "    }\n",
       "\n",
       "    .dataframe thead th {\n",
       "        text-align: right;\n",
       "    }\n",
       "</style>\n",
       "<table border=\"1\" class=\"dataframe\">\n",
       "  <thead>\n",
       "    <tr style=\"text-align: right;\">\n",
       "      <th></th>\n",
       "      <th>user_name</th>\n",
       "      <th>text</th>\n",
       "      <th>retweet_count</th>\n",
       "      <th>tweet_age</th>\n",
       "      <th>sentiment</th>\n",
       "      <th>text_length</th>\n",
       "      <th>hashtags_count</th>\n",
       "      <th>usermention_count</th>\n",
       "      <th>urls_count</th>\n",
       "    </tr>\n",
       "  </thead>\n",
       "  <tbody>\n",
       "    <tr>\n",
       "      <th>0</th>\n",
       "      <td>katyperry</td>\n",
       "      <td>touched carters story able pls help w chance d...</td>\n",
       "      <td>1381</td>\n",
       "      <td>0</td>\n",
       "      <td>0.50</td>\n",
       "      <td>76</td>\n",
       "      <td>0</td>\n",
       "      <td>0</td>\n",
       "      <td>1</td>\n",
       "    </tr>\n",
       "    <tr>\n",
       "      <th>1</th>\n",
       "      <td>ladygaga</td>\n",
       "      <td>rt thwofd cynthia germanotta momgerm explains ...</td>\n",
       "      <td>550</td>\n",
       "      <td>4</td>\n",
       "      <td>0.00</td>\n",
       "      <td>95</td>\n",
       "      <td>1</td>\n",
       "      <td>4</td>\n",
       "      <td>0</td>\n",
       "    </tr>\n",
       "    <tr>\n",
       "      <th>2</th>\n",
       "      <td>TheEllenShow</td>\n",
       "      <td>littlebigshots thursday theres better way cele...</td>\n",
       "      <td>347</td>\n",
       "      <td>0</td>\n",
       "      <td>0.25</td>\n",
       "      <td>80</td>\n",
       "      <td>1</td>\n",
       "      <td>0</td>\n",
       "      <td>1</td>\n",
       "    </tr>\n",
       "    <tr>\n",
       "      <th>3</th>\n",
       "      <td>TheEllenShow</td>\n",
       "      <td>tuesday mood kaceymusgraves</td>\n",
       "      <td>87</td>\n",
       "      <td>0</td>\n",
       "      <td>0.00</td>\n",
       "      <td>27</td>\n",
       "      <td>0</td>\n",
       "      <td>1</td>\n",
       "      <td>1</td>\n",
       "    </tr>\n",
       "    <tr>\n",
       "      <th>4</th>\n",
       "      <td>TheEllenShow</td>\n",
       "      <td>someone watching show gonna way riches</td>\n",
       "      <td>101</td>\n",
       "      <td>0</td>\n",
       "      <td>0.00</td>\n",
       "      <td>38</td>\n",
       "      <td>0</td>\n",
       "      <td>0</td>\n",
       "      <td>1</td>\n",
       "    </tr>\n",
       "  </tbody>\n",
       "</table>\n",
       "</div>"
      ],
      "text/plain": [
       "      user_name                                               text  \\\n",
       "0     katyperry  touched carters story able pls help w chance d...   \n",
       "1      ladygaga  rt thwofd cynthia germanotta momgerm explains ...   \n",
       "2  TheEllenShow  littlebigshots thursday theres better way cele...   \n",
       "3  TheEllenShow                        tuesday mood kaceymusgraves   \n",
       "4  TheEllenShow             someone watching show gonna way riches   \n",
       "\n",
       "   retweet_count  tweet_age  sentiment  text_length  hashtags_count  \\\n",
       "0           1381          0       0.50           76               0   \n",
       "1            550          4       0.00           95               1   \n",
       "2            347          0       0.25           80               1   \n",
       "3             87          0       0.00           27               0   \n",
       "4            101          0       0.00           38               0   \n",
       "\n",
       "   usermention_count  urls_count  \n",
       "0                  0           1  \n",
       "1                  4           0  \n",
       "2                  0           1  \n",
       "3                  1           1  \n",
       "4                  0           1  "
      ]
     },
     "execution_count": 16,
     "metadata": {},
     "output_type": "execute_result"
    }
   ],
   "source": [
    "data = bf.fillna('')\n",
    "data.head()"
   ]
  },
  {
   "cell_type": "code",
   "execution_count": 18,
   "metadata": {},
   "outputs": [],
   "source": [
    "#Add the features of the dataframe that you want to transform and/or combine\n",
    "mapper = DataFrameMapper([\n",
    "     ('text', TfidfVectorizer()),\n",
    "     ('user_name', TfidfVectorizer()),\n",
    "     ('tweet_age', None),\n",
    "     ('sentiment', None),\n",
    "     ('text_length', None),\n",
    "     ('hashtags_count', None),\n",
    "     ('usermention_count', None),\n",
    "     ('urls_count', None),\n",
    " ])\n",
    " \n",
    "\"\"\"\n",
    "Use the fit_transform method to transform the old dataframe into a new one\n",
    "that can be fed to the machine learning algorithm.\n",
    "\"\"\"\n",
    " \n",
    "#sample Usage\n",
    "features = mapper.fit_transform(data)\n",
    "categories = data['retweet_count']\n",
    " \n",
    "# Split the data between train and test\n",
    "x, x_test, y, y_test = train_test_split(features,categories,test_size=0.2,train_size=0.8, random_state = 0)\n",
    " \n",
    "clf = RandomForestClassifier(random_state=0)\n",
    "clf.fit(x, y)\n",
    " \n",
    "predicted = clf.predict(x_test)\n"
   ]
  },
  {
   "cell_type": "code",
   "execution_count": 54,
   "metadata": {},
   "outputs": [],
   "source": [
    "import seaborn as sns\n",
    "import scipy as sp\n",
    "import xgboost as xgb"
   ]
  },
  {
   "cell_type": "code",
   "execution_count": null,
   "metadata": {},
   "outputs": [],
   "source": [
    "model_xgb = xgb.XGBRegressor(max_depth=4, learning_rate=0.01, n_estimators=596)\n",
    "model_xgb.fit(x, y)"
   ]
  },
  {
   "cell_type": "code",
   "execution_count": null,
   "metadata": {},
   "outputs": [],
   "source": [
    "y_pred = model_xgb.predict(X_test)\n",
    "RMSE = mean_squared_error(y_test, y_pred)**0.5\n",
    "print(RMSE)"
   ]
  },
  {
   "cell_type": "code",
   "execution_count": null,
   "metadata": {},
   "outputs": [],
   "source": []
  },
  {
   "cell_type": "code",
   "execution_count": 32,
   "metadata": {},
   "outputs": [
    {
     "data": {
      "text/plain": [
       "LinearRegression(copy_X=True, fit_intercept=True, n_jobs=1, normalize=False)"
      ]
     },
     "execution_count": 32,
     "metadata": {},
     "output_type": "execute_result"
    }
   ],
   "source": [
    "from sklearn import linear_model\n",
    "# Create linear regression object\n",
    "regr = linear_model.LinearRegression()\n",
    "\n",
    "# Train the model using the training sets\n",
    "regr.fit(x, y)"
   ]
  },
  {
   "cell_type": "code",
   "execution_count": 46,
   "metadata": {},
   "outputs": [],
   "source": [
    "# Make predictions using the testing set\n",
    "d_y_pred = regr.predict(x_test)"
   ]
  },
  {
   "cell_type": "code",
   "execution_count": null,
   "metadata": {},
   "outputs": [],
   "source": [
    "import matplotlib.pyplot as plt\n",
    "# plot it as in the example at http://scikit-learn.org/\n",
    "plt.scatter(x, y,  color='black')\n",
    "plt.plot(x, regr.predict(x_test), color='blue', linewidth=3)\n",
    "plt.xticks(())\n",
    "plt.yticks(())\n",
    "plt.show()"
   ]
  },
  {
   "cell_type": "code",
   "execution_count": 52,
   "metadata": {},
   "outputs": [
    {
     "data": {
      "text/plain": [
       "17732.705224387075"
      ]
     },
     "execution_count": 52,
     "metadata": {},
     "output_type": "execute_result"
    }
   ],
   "source": [
    "d_y_pred[65]"
   ]
  },
  {
   "cell_type": "code",
   "execution_count": 49,
   "metadata": {},
   "outputs": [
    {
     "data": {
      "text/plain": [
       "1381"
      ]
     },
     "execution_count": 49,
     "metadata": {},
     "output_type": "execute_result"
    }
   ],
   "source": [
    "categories[0]"
   ]
  },
  {
   "cell_type": "code",
   "execution_count": 33,
   "metadata": {},
   "outputs": [],
   "source": [
    "import matplotlib.pyplot as plt\n",
    "import numpy as np\n",
    "from sklearn.metrics import mean_squared_error, r2_score"
   ]
  },
  {
   "cell_type": "code",
   "execution_count": 45,
   "metadata": {},
   "outputs": [
    {
     "name": "stdout",
     "output_type": "stream",
     "text": [
      "Coefficients: \n",
      " [-1.29408575e+05  3.78251903e+03 -2.97730892e+04 ... -5.17325412e+01\n",
      "  1.69203177e+03 -3.53880746e+03]\n",
      "Mean squared error: 3564454131.29\n",
      "Variance score: -344.38\n"
     ]
    },
    {
     "ename": "ValueError",
     "evalue": "x and y must be the same size",
     "output_type": "error",
     "traceback": [
      "\u001b[0;31m---------------------------------------------------------------------------\u001b[0m",
      "\u001b[0;31mValueError\u001b[0m                                Traceback (most recent call last)",
      "\u001b[0;32m<ipython-input-45-0c52f7d91ca2>\u001b[0m in \u001b[0;36m<module>\u001b[0;34m()\u001b[0m\n\u001b[1;32m     11\u001b[0m \u001b[0;34m\u001b[0m\u001b[0m\n\u001b[1;32m     12\u001b[0m \u001b[0;31m# Plot outputs\u001b[0m\u001b[0;34m\u001b[0m\u001b[0;34m\u001b[0m\u001b[0m\n\u001b[0;32m---> 13\u001b[0;31m \u001b[0mplt\u001b[0m\u001b[0;34m.\u001b[0m\u001b[0mscatter\u001b[0m\u001b[0;34m(\u001b[0m\u001b[0mx_test\u001b[0m\u001b[0;34m,\u001b[0m \u001b[0my_test\u001b[0m\u001b[0;34m,\u001b[0m  \u001b[0mcolor\u001b[0m\u001b[0;34m=\u001b[0m\u001b[0;34m'black'\u001b[0m\u001b[0;34m)\u001b[0m\u001b[0;34m\u001b[0m\u001b[0m\n\u001b[0m\u001b[1;32m     14\u001b[0m \u001b[0mplt\u001b[0m\u001b[0;34m.\u001b[0m\u001b[0mplot\u001b[0m\u001b[0;34m(\u001b[0m\u001b[0mx_test\u001b[0m\u001b[0;34m,\u001b[0m \u001b[0md_y_pred\u001b[0m\u001b[0;34m,\u001b[0m \u001b[0mcolor\u001b[0m\u001b[0;34m=\u001b[0m\u001b[0;34m'blue'\u001b[0m\u001b[0;34m,\u001b[0m \u001b[0mlinewidth\u001b[0m\u001b[0;34m=\u001b[0m\u001b[0;36m3\u001b[0m\u001b[0;34m)\u001b[0m\u001b[0;34m\u001b[0m\u001b[0m\n\u001b[1;32m     15\u001b[0m \u001b[0;34m\u001b[0m\u001b[0m\n",
      "\u001b[0;32m~/anaconda3/lib/python3.6/site-packages/matplotlib/pyplot.py\u001b[0m in \u001b[0;36mscatter\u001b[0;34m(x, y, s, c, marker, cmap, norm, vmin, vmax, alpha, linewidths, verts, edgecolors, hold, data, **kwargs)\u001b[0m\n\u001b[1;32m   3468\u001b[0m                          \u001b[0mvmin\u001b[0m\u001b[0;34m=\u001b[0m\u001b[0mvmin\u001b[0m\u001b[0;34m,\u001b[0m \u001b[0mvmax\u001b[0m\u001b[0;34m=\u001b[0m\u001b[0mvmax\u001b[0m\u001b[0;34m,\u001b[0m \u001b[0malpha\u001b[0m\u001b[0;34m=\u001b[0m\u001b[0malpha\u001b[0m\u001b[0;34m,\u001b[0m\u001b[0;34m\u001b[0m\u001b[0m\n\u001b[1;32m   3469\u001b[0m                          \u001b[0mlinewidths\u001b[0m\u001b[0;34m=\u001b[0m\u001b[0mlinewidths\u001b[0m\u001b[0;34m,\u001b[0m \u001b[0mverts\u001b[0m\u001b[0;34m=\u001b[0m\u001b[0mverts\u001b[0m\u001b[0;34m,\u001b[0m\u001b[0;34m\u001b[0m\u001b[0m\n\u001b[0;32m-> 3470\u001b[0;31m                          edgecolors=edgecolors, data=data, **kwargs)\n\u001b[0m\u001b[1;32m   3471\u001b[0m     \u001b[0;32mfinally\u001b[0m\u001b[0;34m:\u001b[0m\u001b[0;34m\u001b[0m\u001b[0m\n\u001b[1;32m   3472\u001b[0m         \u001b[0max\u001b[0m\u001b[0;34m.\u001b[0m\u001b[0m_hold\u001b[0m \u001b[0;34m=\u001b[0m \u001b[0mwashold\u001b[0m\u001b[0;34m\u001b[0m\u001b[0m\n",
      "\u001b[0;32m~/anaconda3/lib/python3.6/site-packages/matplotlib/__init__.py\u001b[0m in \u001b[0;36minner\u001b[0;34m(ax, *args, **kwargs)\u001b[0m\n\u001b[1;32m   1853\u001b[0m                         \u001b[0;34m\"the Matplotlib list!)\"\u001b[0m \u001b[0;34m%\u001b[0m \u001b[0;34m(\u001b[0m\u001b[0mlabel_namer\u001b[0m\u001b[0;34m,\u001b[0m \u001b[0mfunc\u001b[0m\u001b[0;34m.\u001b[0m\u001b[0m__name__\u001b[0m\u001b[0;34m)\u001b[0m\u001b[0;34m,\u001b[0m\u001b[0;34m\u001b[0m\u001b[0m\n\u001b[1;32m   1854\u001b[0m                         RuntimeWarning, stacklevel=2)\n\u001b[0;32m-> 1855\u001b[0;31m             \u001b[0;32mreturn\u001b[0m \u001b[0mfunc\u001b[0m\u001b[0;34m(\u001b[0m\u001b[0max\u001b[0m\u001b[0;34m,\u001b[0m \u001b[0;34m*\u001b[0m\u001b[0margs\u001b[0m\u001b[0;34m,\u001b[0m \u001b[0;34m**\u001b[0m\u001b[0mkwargs\u001b[0m\u001b[0;34m)\u001b[0m\u001b[0;34m\u001b[0m\u001b[0m\n\u001b[0m\u001b[1;32m   1856\u001b[0m \u001b[0;34m\u001b[0m\u001b[0m\n\u001b[1;32m   1857\u001b[0m         inner.__doc__ = _add_data_doc(inner.__doc__,\n",
      "\u001b[0;32m~/anaconda3/lib/python3.6/site-packages/matplotlib/axes/_axes.py\u001b[0m in \u001b[0;36mscatter\u001b[0;34m(self, x, y, s, c, marker, cmap, norm, vmin, vmax, alpha, linewidths, verts, edgecolors, **kwargs)\u001b[0m\n\u001b[1;32m   4241\u001b[0m         \u001b[0my\u001b[0m \u001b[0;34m=\u001b[0m \u001b[0mnp\u001b[0m\u001b[0;34m.\u001b[0m\u001b[0mma\u001b[0m\u001b[0;34m.\u001b[0m\u001b[0mravel\u001b[0m\u001b[0;34m(\u001b[0m\u001b[0my\u001b[0m\u001b[0;34m)\u001b[0m\u001b[0;34m\u001b[0m\u001b[0m\n\u001b[1;32m   4242\u001b[0m         \u001b[0;32mif\u001b[0m \u001b[0mx\u001b[0m\u001b[0;34m.\u001b[0m\u001b[0msize\u001b[0m \u001b[0;34m!=\u001b[0m \u001b[0my\u001b[0m\u001b[0;34m.\u001b[0m\u001b[0msize\u001b[0m\u001b[0;34m:\u001b[0m\u001b[0;34m\u001b[0m\u001b[0m\n\u001b[0;32m-> 4243\u001b[0;31m             \u001b[0;32mraise\u001b[0m \u001b[0mValueError\u001b[0m\u001b[0;34m(\u001b[0m\u001b[0;34m\"x and y must be the same size\"\u001b[0m\u001b[0;34m)\u001b[0m\u001b[0;34m\u001b[0m\u001b[0m\n\u001b[0m\u001b[1;32m   4244\u001b[0m \u001b[0;34m\u001b[0m\u001b[0m\n\u001b[1;32m   4245\u001b[0m         \u001b[0;32mif\u001b[0m \u001b[0ms\u001b[0m \u001b[0;32mis\u001b[0m \u001b[0;32mNone\u001b[0m\u001b[0;34m:\u001b[0m\u001b[0;34m\u001b[0m\u001b[0m\n",
      "\u001b[0;31mValueError\u001b[0m: x and y must be the same size"
     ]
    },
    {
     "data": {
      "image/png": "[encoded data removed]",
      "text/plain": [
       "<Figure size 432x288 with 1 Axes>"
      ]
     },
     "metadata": {},
     "output_type": "display_data"
    }
   ],
   "source": [
    "\n",
    "\n",
    "# The coefficients\n",
    "print('Coefficients: \\n', regr.coef_)\n",
    "# The mean squared error\n",
    "print(\"Mean squared error: %.2f\"\n",
    "      % mean_squared_error(y_test, d_y_pred))\n",
    "# Explained variance score: 1 is perfect prediction\n",
    "print('Variance score: %.2f' % r2_score(y_test, d_y_pred))\n",
    "\n",
    "# Plot outputs\n",
    "plt.scatter(x_test, y_test,  color='black')\n",
    "plt.plot(x_test, d_y_pred, color='blue', linewidth=3)\n",
    "\n",
    "plt.xticks(())\n",
    "plt.yticks(())\n",
    "\n",
    "plt.show()"
   ]
  },
  {
   "cell_type": "code",
   "execution_count": 19,
   "metadata": {},
   "outputs": [
    {
     "data": {
      "text/plain": [
       "0.10297590930562116"
      ]
     },
     "execution_count": 19,
     "metadata": {},
     "output_type": "execute_result"
    }
   ],
   "source": [
    "clf.score(x_test, y_test)"
   ]
  },
  {
   "cell_type": "code",
   "execution_count": 20,
   "metadata": {},
   "outputs": [
    {
     "data": {
      "text/plain": [
       "(10585, 18659)"
      ]
     },
     "execution_count": 20,
     "metadata": {},
     "output_type": "execute_result"
    }
   ],
   "source": [
    "features.shape"
   ]
  },
  {
   "cell_type": "code",
   "execution_count": 30,
   "metadata": {},
   "outputs": [
    {
     "name": "stdout",
     "output_type": "stream",
     "text": [
      "Predicted  0      1      2      3      4      5      6      7      8      \\\n",
      "Actual                                                                     \n",
      "0            191      4      0      0      0      0      0      0      0   \n",
      "1             24      2      1      0      0      0      0      0      0   \n",
      "2              3      5      0      0      0      1      0      1      0   \n",
      "3              2      1      0      1      1      1      1      0      0   \n",
      "4              2      0      0      1      1      0      1      0      0   \n",
      "5              1      1      0      0      0      1      1      0      2   \n",
      "6              0      1      0      2      0      0      1      3      1   \n",
      "7              0      1      1      1      0      4      1      1      4   \n",
      "8              2      0      0      0      0      2      1      0      4   \n",
      "9              0      0      0      1      0      1      2      0      3   \n",
      "10             1      0      0      0      1      1      2      0      1   \n",
      "11             0      0      1      0      0      0      1      2      1   \n",
      "12             0      0      0      0      0      1      2      0      0   \n",
      "13             1      0      0      0      0      0      0      0      2   \n",
      "14             0      0      0      1      0      0      1      1      4   \n",
      "15             1      0      0      0      0      1      0      0      1   \n",
      "16             2      0      0      0      0      0      1      0      0   \n",
      "17             0      0      0      1      0      0      0      0      3   \n",
      "18             0      0      1      0      0      0      0      0      1   \n",
      "19             0      0      0      0      0      2      1      0      1   \n",
      "20             1      1      0      0      0      0      0      0      0   \n",
      "21             2      0      0      0      0      0      0      1      1   \n",
      "22             1      0      0      0      0      0      1      0      1   \n",
      "23             0      0      1      0      0      0      1      0      0   \n",
      "24             0      0      0      0      0      0      0      0      1   \n",
      "25             1      0      1      0      0      1      0      1      0   \n",
      "26             0      0      0      0      0      0      1      0      0   \n",
      "27             0      0      0      1      1      0      0      0      0   \n",
      "28             0      0      0      0      0      0      1      0      0   \n",
      "29             0      0      0      0      0      0      0      0      0   \n",
      "...          ...    ...    ...    ...    ...    ...    ...    ...    ...   \n",
      "6385           0      0      0      0      0      0      0      0      0   \n",
      "6687           0      0      0      0      0      0      0      0      0   \n",
      "6769           0      0      0      0      0      0      0      0      0   \n",
      "6884           0      0      0      0      0      0      0      0      0   \n",
      "7384           0      0      0      0      0      0      0      1      0   \n",
      "7794           0      0      0      0      0      0      0      0      0   \n",
      "7872           0      0      0      0      0      0      0      0      0   \n",
      "8195           0      0      0      0      0      0      0      1      0   \n",
      "8285           1      0      0      0      0      0      0      0      0   \n",
      "8991           0      0      0      0      0      0      0      0      0   \n",
      "9026           0      0      0      0      0      0      0      0      0   \n",
      "9710           0      0      0      0      0      0      0      0      0   \n",
      "10179          0      0      0      0      0      0      0      0      0   \n",
      "10497          0      0      0      0      0      0      0      0      0   \n",
      "11816          0      0      0      0      0      0      0      0      0   \n",
      "12022          0      0      0      0      0      0      0      0      0   \n",
      "12635          0      0      0      0      0      0      0      0      0   \n",
      "12818          0      0      0      0      0      0      0      0      0   \n",
      "12979          0      0      0      0      0      0      0      0      0   \n",
      "13106          1      0      0      0      0      0      0      0      0   \n",
      "13287          0      0      0      0      0      0      0      0      0   \n",
      "13877          0      0      0      0      0      0      0      0      0   \n",
      "16554          0      0      0      0      0      0      0      0      0   \n",
      "21812          0      0      0      0      0      0      0      0      0   \n",
      "24538          0      0      0      0      0      0      0      0      0   \n",
      "30824          0      0      0      0      0      0      0      0      0   \n",
      "56999          0      0      0      0      0      0      0      0      0   \n",
      "59029          0      0      0      0      0      0      0      0      0   \n",
      "70361          0      0      0      0      0      0      0      0      0   \n",
      "71694          1      0      0      0      0      0      0      0      0   \n",
      "\n",
      "Predicted  9      ...    4215   4356   4731   5741   5839   7714   11043  \\\n",
      "Actual            ...                                                      \n",
      "0              0  ...        0      0      0      0      0      0      0   \n",
      "1              0  ...        0      0      0      0      0      0      0   \n",
      "2              0  ...        0      0      0      0      0      0      0   \n",
      "3              0  ...        0      0      0      0      0      0      0   \n",
      "4              1  ...        0      0      0      0      0      0      0   \n",
      "5              1  ...        0      0      0      0      0      0      0   \n",
      "6              0  ...        0      0      0      0      0      0      0   \n",
      "7              0  ...        0      0      0      0      0      0      0   \n",
      "8              2  ...        0      0      0      0      0      0      0   \n",
      "9              0  ...        0      0      0      0      0      0      0   \n",
      "10             0  ...        0      0      0      0      0      0      0   \n",
      "11             1  ...        0      0      0      0      0      0      0   \n",
      "12             2  ...        0      0      0      0      0      0      0   \n",
      "13             0  ...        0      0      0      0      0      0      0   \n",
      "14             0  ...        0      0      0      0      0      0      0   \n",
      "15             0  ...        0      0      0      0      0      0      0   \n",
      "16             0  ...        0      0      0      0      0      0      0   \n",
      "17             0  ...        0      0      0      0      0      0      0   \n",
      "18             0  ...        0      0      0      0      0      0      0   \n",
      "19             0  ...        0      0      0      0      0      0      0   \n",
      "20             2  ...        0      0      0      0      0      0      0   \n",
      "21             0  ...        0      0      0      0      0      0      0   \n",
      "22             0  ...        0      0      0      0      0      0      0   \n",
      "23             1  ...        0      0      0      0      0      0      0   \n",
      "24             0  ...        0      0      0      0      0      0      0   \n",
      "25             0  ...        0      0      0      0      0      0      0   \n",
      "26             0  ...        0      0      0      0      0      0      0   \n",
      "27             0  ...        0      0      0      0      0      0      0   \n",
      "28             0  ...        0      0      0      0      0      0      0   \n",
      "29             0  ...        0      0      0      0      0      0      0   \n",
      "...          ...  ...      ...    ...    ...    ...    ...    ...    ...   \n",
      "6385           0  ...        0      0      0      0      0      0      0   \n",
      "6687           0  ...        0      0      0      0      0      0      0   \n",
      "6769           0  ...        0      0      0      0      0      0      0   \n",
      "6884           0  ...        0      0      0      0      0      1      0   \n",
      "7384           0  ...        0      0      0      0      0      0      0   \n",
      "7794           0  ...        0      0      0      0      0      0      0   \n",
      "7872           0  ...        0      0      0      0      0      0      0   \n",
      "8195           0  ...        0      0      0      0      0      0      0   \n",
      "8285           0  ...        0      0      0      0      0      0      0   \n",
      "8991           0  ...        0      0      1      0      0      0      0   \n",
      "9026           0  ...        0      0      0      0      0      0      0   \n",
      "9710           0  ...        0      0      0      0      0      0      0   \n",
      "10179          0  ...        0      0      0      0      0      0      0   \n",
      "10497          0  ...        0      0      0      0      0      0      0   \n",
      "11816          0  ...        0      0      0      0      0      0      0   \n",
      "12022          0  ...        0      0      0      0      0      0      0   \n",
      "12635          0  ...        0      0      0      0      0      0      0   \n",
      "12818          0  ...        0      0      0      0      0      0      0   \n",
      "12979          0  ...        0      0      0      0      0      0      0   \n",
      "13106          0  ...        0      0      0      0      0      0      0   \n",
      "13287          0  ...        0      0      0      0      0      0      0   \n",
      "13877          0  ...        0      0      0      0      0      0      0   \n",
      "16554          0  ...        0      0      1      0      0      0      0   \n",
      "21812          0  ...        0      0      0      0      0      0      0   \n",
      "24538          0  ...        0      0      1      0      0      0      0   \n",
      "30824          0  ...        0      0      0      0      0      0      0   \n",
      "56999          0  ...        0      0      0      0      0      0      0   \n",
      "59029          0  ...        0      0      0      0      0      0      0   \n",
      "70361          0  ...        0      0      0      1      0      0      0   \n",
      "71694          0  ...        0      0      0      0      0      0      0   \n",
      "\n",
      "Predicted  12143  22678  65825  \n",
      "Actual                          \n",
      "0              0      0      0  \n",
      "1              0      0      0  \n",
      "2              0      0      0  \n",
      "3              0      0      0  \n",
      "4              0      0      0  \n",
      "5              0      0      0  \n",
      "6              0      0      0  \n",
      "7              0      0      0  \n",
      "8              0      0      0  \n",
      "9              0      0      0  \n",
      "10             0      0      0  \n",
      "11             0      0      0  \n",
      "12             0      0      0  \n",
      "13             0      0      0  \n",
      "14             0      0      0  \n",
      "15             0      0      0  \n",
      "16             0      0      0  \n",
      "17             0      0      0  \n",
      "18             0      0      0  \n",
      "19             0      0      0  \n",
      "20             0      0      0  \n",
      "21             1      0      0  \n",
      "22             0      0      0  \n",
      "23             0      0      0  \n",
      "24             0      0      0  \n",
      "25             0      0      0  \n",
      "26             0      0      0  \n",
      "27             0      0      0  \n",
      "28             0      0      0  \n",
      "29             0      0      0  \n",
      "...          ...    ...    ...  \n",
      "6385           0      0      0  \n",
      "6687           0      0      0  \n",
      "6769           0      0      0  \n",
      "6884           0      0      0  \n",
      "7384           0      0      0  \n",
      "7794           0      0      0  \n",
      "7872           0      0      0  \n",
      "8195           0      0      0  \n",
      "8285           0      0      0  \n",
      "8991           0      0      0  \n",
      "9026           0      0      0  \n",
      "9710           0      0      0  \n",
      "10179          0      0      0  \n",
      "10497          0      0      0  \n",
      "11816          0      0      0  \n",
      "12022          0      0      0  \n",
      "12635          0      0      0  \n",
      "12818          0      0      0  \n",
      "12979          0      0      0  \n",
      "13106          0      0      0  \n",
      "13287          0      0      0  \n",
      "13877          0      0      0  \n",
      "16554          0      0      0  \n",
      "21812          0      0      0  \n",
      "24538          0      0      0  \n",
      "30824          0      0      0  \n",
      "56999          1      0      0  \n",
      "59029          0      0      1  \n",
      "70361          0      0      0  \n",
      "71694          0      0      0  \n",
      "\n",
      "[609 rows x 378 columns]\n",
      "\n",
      " \n",
      "\n"
     ]
    },
    {
     "ename": "NameError",
     "evalue": "name 'classification_report' is not defined",
     "output_type": "error",
     "traceback": [
      "\u001b[0;31m---------------------------------------------------------------------------\u001b[0m",
      "\u001b[0;31mNameError\u001b[0m                                 Traceback (most recent call last)",
      "\u001b[0;32m<ipython-input-30-b77846ad6341>\u001b[0m in \u001b[0;36m<module>\u001b[0;34m()\u001b[0m\n\u001b[0;32m----> 1\u001b[0;31m \u001b[0mprintreport\u001b[0m\u001b[0;34m(\u001b[0m\u001b[0my_test\u001b[0m\u001b[0;34m,\u001b[0m \u001b[0mpredicted\u001b[0m\u001b[0;34m)\u001b[0m\u001b[0;34m\u001b[0m\u001b[0m\n\u001b[0m",
      "\u001b[0;32m<ipython-input-29-80d510d8e14f>\u001b[0m in \u001b[0;36mprintreport\u001b[0;34m(exp, pred)\u001b[0m\n\u001b[1;32m      3\u001b[0m \u001b[0;34m\u001b[0m\u001b[0m\n\u001b[1;32m      4\u001b[0m     \u001b[0mprint\u001b[0m\u001b[0;34m(\u001b[0m\u001b[0;34m'\\n \\n'\u001b[0m\u001b[0;34m)\u001b[0m\u001b[0;34m\u001b[0m\u001b[0m\n\u001b[0;32m----> 5\u001b[0;31m     \u001b[0mprint\u001b[0m\u001b[0;34m(\u001b[0m\u001b[0mclassification_report\u001b[0m\u001b[0;34m(\u001b[0m\u001b[0mexp\u001b[0m\u001b[0;34m,\u001b[0m \u001b[0mpred\u001b[0m\u001b[0;34m)\u001b[0m\u001b[0;34m)\u001b[0m\u001b[0;34m\u001b[0m\u001b[0m\n\u001b[0m\u001b[1;32m      6\u001b[0m \u001b[0;34m\u001b[0m\u001b[0m\n\u001b[1;32m      7\u001b[0m \u001b[0mprintreport\u001b[0m\u001b[0;34m(\u001b[0m\u001b[0my_test\u001b[0m\u001b[0;34m,\u001b[0m \u001b[0mpredicted\u001b[0m\u001b[0;34m)\u001b[0m\u001b[0;34m\u001b[0m\u001b[0m\n",
      "\u001b[0;31mNameError\u001b[0m: name 'classification_report' is not defined"
     ]
    }
   ],
   "source": [
    "printreport(y_test, predicted)"
   ]
  },
  {
   "cell_type": "code",
   "execution_count": 29,
   "metadata": {},
   "outputs": [
    {
     "name": "stdout",
     "output_type": "stream",
     "text": [
      "Predicted  0      1      2      3      4      5      6      7      8      \\\n",
      "Actual                                                                     \n",
      "0            191      4      0      0      0      0      0      0      0   \n",
      "1             24      2      1      0      0      0      0      0      0   \n",
      "2              3      5      0      0      0      1      0      1      0   \n",
      "3              2      1      0      1      1      1      1      0      0   \n",
      "4              2      0      0      1      1      0      1      0      0   \n",
      "5              1      1      0      0      0      1      1      0      2   \n",
      "6              0      1      0      2      0      0      1      3      1   \n",
      "7              0      1      1      1      0      4      1      1      4   \n",
      "8              2      0      0      0      0      2      1      0      4   \n",
      "9              0      0      0      1      0      1      2      0      3   \n",
      "10             1      0      0      0      1      1      2      0      1   \n",
      "11             0      0      1      0      0      0      1      2      1   \n",
      "12             0      0      0      0      0      1      2      0      0   \n",
      "13             1      0      0      0      0      0      0      0      2   \n",
      "14             0      0      0      1      0      0      1      1      4   \n",
      "15             1      0      0      0      0      1      0      0      1   \n",
      "16             2      0      0      0      0      0      1      0      0   \n",
      "17             0      0      0      1      0      0      0      0      3   \n",
      "18             0      0      1      0      0      0      0      0      1   \n",
      "19             0      0      0      0      0      2      1      0      1   \n",
      "20             1      1      0      0      0      0      0      0      0   \n",
      "21             2      0      0      0      0      0      0      1      1   \n",
      "22             1      0      0      0      0      0      1      0      1   \n",
      "23             0      0      1      0      0      0      1      0      0   \n",
      "24             0      0      0      0      0      0      0      0      1   \n",
      "25             1      0      1      0      0      1      0      1      0   \n",
      "26             0      0      0      0      0      0      1      0      0   \n",
      "27             0      0      0      1      1      0      0      0      0   \n",
      "28             0      0      0      0      0      0      1      0      0   \n",
      "29             0      0      0      0      0      0      0      0      0   \n",
      "...          ...    ...    ...    ...    ...    ...    ...    ...    ...   \n",
      "6385           0      0      0      0      0      0      0      0      0   \n",
      "6687           0      0      0      0      0      0      0      0      0   \n",
      "6769           0      0      0      0      0      0      0      0      0   \n",
      "6884           0      0      0      0      0      0      0      0      0   \n",
      "7384           0      0      0      0      0      0      0      1      0   \n",
      "7794           0      0      0      0      0      0      0      0      0   \n",
      "7872           0      0      0      0      0      0      0      0      0   \n",
      "8195           0      0      0      0      0      0      0      1      0   \n",
      "8285           1      0      0      0      0      0      0      0      0   \n",
      "8991           0      0      0      0      0      0      0      0      0   \n",
      "9026           0      0      0      0      0      0      0      0      0   \n",
      "9710           0      0      0      0      0      0      0      0      0   \n",
      "10179          0      0      0      0      0      0      0      0      0   \n",
      "10497          0      0      0      0      0      0      0      0      0   \n",
      "11816          0      0      0      0      0      0      0      0      0   \n",
      "12022          0      0      0      0      0      0      0      0      0   \n",
      "12635          0      0      0      0      0      0      0      0      0   \n",
      "12818          0      0      0      0      0      0      0      0      0   \n",
      "12979          0      0      0      0      0      0      0      0      0   \n",
      "13106          1      0      0      0      0      0      0      0      0   \n",
      "13287          0      0      0      0      0      0      0      0      0   \n",
      "13877          0      0      0      0      0      0      0      0      0   \n",
      "16554          0      0      0      0      0      0      0      0      0   \n",
      "21812          0      0      0      0      0      0      0      0      0   \n",
      "24538          0      0      0      0      0      0      0      0      0   \n",
      "30824          0      0      0      0      0      0      0      0      0   \n",
      "56999          0      0      0      0      0      0      0      0      0   \n",
      "59029          0      0      0      0      0      0      0      0      0   \n",
      "70361          0      0      0      0      0      0      0      0      0   \n",
      "71694          1      0      0      0      0      0      0      0      0   \n",
      "\n",
      "Predicted  9      ...    4215   4356   4731   5741   5839   7714   11043  \\\n",
      "Actual            ...                                                      \n",
      "0              0  ...        0      0      0      0      0      0      0   \n",
      "1              0  ...        0      0      0      0      0      0      0   \n",
      "2              0  ...        0      0      0      0      0      0      0   \n",
      "3              0  ...        0      0      0      0      0      0      0   \n",
      "4              1  ...        0      0      0      0      0      0      0   \n",
      "5              1  ...        0      0      0      0      0      0      0   \n",
      "6              0  ...        0      0      0      0      0      0      0   \n",
      "7              0  ...        0      0      0      0      0      0      0   \n",
      "8              2  ...        0      0      0      0      0      0      0   \n",
      "9              0  ...        0      0      0      0      0      0      0   \n",
      "10             0  ...        0      0      0      0      0      0      0   \n",
      "11             1  ...        0      0      0      0      0      0      0   \n",
      "12             2  ...        0      0      0      0      0      0      0   \n",
      "13             0  ...        0      0      0      0      0      0      0   \n",
      "14             0  ...        0      0      0      0      0      0      0   \n",
      "15             0  ...        0      0      0      0      0      0      0   \n",
      "16             0  ...        0      0      0      0      0      0      0   \n",
      "17             0  ...        0      0      0      0      0      0      0   \n",
      "18             0  ...        0      0      0      0      0      0      0   \n",
      "19             0  ...        0      0      0      0      0      0      0   \n",
      "20             2  ...        0      0      0      0      0      0      0   \n",
      "21             0  ...        0      0      0      0      0      0      0   \n",
      "22             0  ...        0      0      0      0      0      0      0   \n",
      "23             1  ...        0      0      0      0      0      0      0   \n",
      "24             0  ...        0      0      0      0      0      0      0   \n",
      "25             0  ...        0      0      0      0      0      0      0   \n",
      "26             0  ...        0      0      0      0      0      0      0   \n",
      "27             0  ...        0      0      0      0      0      0      0   \n",
      "28             0  ...        0      0      0      0      0      0      0   \n",
      "29             0  ...        0      0      0      0      0      0      0   \n",
      "...          ...  ...      ...    ...    ...    ...    ...    ...    ...   \n",
      "6385           0  ...        0      0      0      0      0      0      0   \n",
      "6687           0  ...        0      0      0      0      0      0      0   \n",
      "6769           0  ...        0      0      0      0      0      0      0   \n",
      "6884           0  ...        0      0      0      0      0      1      0   \n",
      "7384           0  ...        0      0      0      0      0      0      0   \n",
      "7794           0  ...        0      0      0      0      0      0      0   \n",
      "7872           0  ...        0      0      0      0      0      0      0   \n",
      "8195           0  ...        0      0      0      0      0      0      0   \n",
      "8285           0  ...        0      0      0      0      0      0      0   \n",
      "8991           0  ...        0      0      1      0      0      0      0   \n",
      "9026           0  ...        0      0      0      0      0      0      0   \n",
      "9710           0  ...        0      0      0      0      0      0      0   \n",
      "10179          0  ...        0      0      0      0      0      0      0   \n",
      "10497          0  ...        0      0      0      0      0      0      0   \n",
      "11816          0  ...        0      0      0      0      0      0      0   \n",
      "12022          0  ...        0      0      0      0      0      0      0   \n",
      "12635          0  ...        0      0      0      0      0      0      0   \n",
      "12818          0  ...        0      0      0      0      0      0      0   \n",
      "12979          0  ...        0      0      0      0      0      0      0   \n",
      "13106          0  ...        0      0      0      0      0      0      0   \n",
      "13287          0  ...        0      0      0      0      0      0      0   \n",
      "13877          0  ...        0      0      0      0      0      0      0   \n",
      "16554          0  ...        0      0      1      0      0      0      0   \n",
      "21812          0  ...        0      0      0      0      0      0      0   \n",
      "24538          0  ...        0      0      1      0      0      0      0   \n",
      "30824          0  ...        0      0      0      0      0      0      0   \n",
      "56999          0  ...        0      0      0      0      0      0      0   \n",
      "59029          0  ...        0      0      0      0      0      0      0   \n",
      "70361          0  ...        0      0      0      1      0      0      0   \n",
      "71694          0  ...        0      0      0      0      0      0      0   \n",
      "\n",
      "Predicted  12143  22678  65825  \n",
      "Actual                          \n",
      "0              0      0      0  \n",
      "1              0      0      0  \n",
      "2              0      0      0  \n",
      "3              0      0      0  \n",
      "4              0      0      0  \n",
      "5              0      0      0  \n",
      "6              0      0      0  \n",
      "7              0      0      0  \n",
      "8              0      0      0  \n",
      "9              0      0      0  \n",
      "10             0      0      0  \n",
      "11             0      0      0  \n",
      "12             0      0      0  \n",
      "13             0      0      0  \n",
      "14             0      0      0  \n",
      "15             0      0      0  \n",
      "16             0      0      0  \n",
      "17             0      0      0  \n",
      "18             0      0      0  \n",
      "19             0      0      0  \n",
      "20             0      0      0  \n",
      "21             1      0      0  \n",
      "22             0      0      0  \n",
      "23             0      0      0  \n",
      "24             0      0      0  \n",
      "25             0      0      0  \n",
      "26             0      0      0  \n",
      "27             0      0      0  \n",
      "28             0      0      0  \n",
      "29             0      0      0  \n",
      "...          ...    ...    ...  \n",
      "6385           0      0      0  \n",
      "6687           0      0      0  \n",
      "6769           0      0      0  \n",
      "6884           0      0      0  \n",
      "7384           0      0      0  \n",
      "7794           0      0      0  \n",
      "7872           0      0      0  \n",
      "8195           0      0      0  \n",
      "8285           0      0      0  \n",
      "8991           0      0      0  \n",
      "9026           0      0      0  \n",
      "9710           0      0      0  \n",
      "10179          0      0      0  \n",
      "10497          0      0      0  \n",
      "11816          0      0      0  \n",
      "12022          0      0      0  \n",
      "12635          0      0      0  \n",
      "12818          0      0      0  \n",
      "12979          0      0      0  \n",
      "13106          0      0      0  \n",
      "13287          0      0      0  \n",
      "13877          0      0      0  \n",
      "16554          0      0      0  \n",
      "21812          0      0      0  \n",
      "24538          0      0      0  \n",
      "30824          0      0      0  \n",
      "56999          1      0      0  \n",
      "59029          0      0      1  \n",
      "70361          0      0      0  \n",
      "71694          0      0      0  \n",
      "\n",
      "[609 rows x 378 columns]\n",
      "\n",
      " \n",
      "\n"
     ]
    },
    {
     "ename": "NameError",
     "evalue": "name 'classification_report' is not defined",
     "output_type": "error",
     "traceback": [
      "\u001b[0;31m---------------------------------------------------------------------------\u001b[0m",
      "\u001b[0;31mNameError\u001b[0m                                 Traceback (most recent call last)",
      "\u001b[0;32m<ipython-input-29-80d510d8e14f>\u001b[0m in \u001b[0;36m<module>\u001b[0;34m()\u001b[0m\n\u001b[1;32m      5\u001b[0m     \u001b[0mprint\u001b[0m\u001b[0;34m(\u001b[0m\u001b[0mclassification_report\u001b[0m\u001b[0;34m(\u001b[0m\u001b[0mexp\u001b[0m\u001b[0;34m,\u001b[0m \u001b[0mpred\u001b[0m\u001b[0;34m)\u001b[0m\u001b[0;34m)\u001b[0m\u001b[0;34m\u001b[0m\u001b[0m\n\u001b[1;32m      6\u001b[0m \u001b[0;34m\u001b[0m\u001b[0m\n\u001b[0;32m----> 7\u001b[0;31m \u001b[0mprintreport\u001b[0m\u001b[0;34m(\u001b[0m\u001b[0my_test\u001b[0m\u001b[0;34m,\u001b[0m \u001b[0mpredicted\u001b[0m\u001b[0;34m)\u001b[0m\u001b[0;34m\u001b[0m\u001b[0m\n\u001b[0m",
      "\u001b[0;32m<ipython-input-29-80d510d8e14f>\u001b[0m in \u001b[0;36mprintreport\u001b[0;34m(exp, pred)\u001b[0m\n\u001b[1;32m      3\u001b[0m \u001b[0;34m\u001b[0m\u001b[0m\n\u001b[1;32m      4\u001b[0m     \u001b[0mprint\u001b[0m\u001b[0;34m(\u001b[0m\u001b[0;34m'\\n \\n'\u001b[0m\u001b[0;34m)\u001b[0m\u001b[0;34m\u001b[0m\u001b[0m\n\u001b[0;32m----> 5\u001b[0;31m     \u001b[0mprint\u001b[0m\u001b[0;34m(\u001b[0m\u001b[0mclassification_report\u001b[0m\u001b[0;34m(\u001b[0m\u001b[0mexp\u001b[0m\u001b[0;34m,\u001b[0m \u001b[0mpred\u001b[0m\u001b[0;34m)\u001b[0m\u001b[0;34m)\u001b[0m\u001b[0;34m\u001b[0m\u001b[0m\n\u001b[0m\u001b[1;32m      6\u001b[0m \u001b[0;34m\u001b[0m\u001b[0m\n\u001b[1;32m      7\u001b[0m \u001b[0mprintreport\u001b[0m\u001b[0;34m(\u001b[0m\u001b[0my_test\u001b[0m\u001b[0;34m,\u001b[0m \u001b[0mpredicted\u001b[0m\u001b[0;34m)\u001b[0m\u001b[0;34m\u001b[0m\u001b[0m\n",
      "\u001b[0;31mNameError\u001b[0m: name 'classification_report' is not defined"
     ]
    }
   ],
   "source": [
    "def printreport(exp, pred):\n",
    "    print(pd.crosstab(exp, pred, rownames=['Actual'], colnames=['Predicted']))\n",
    " \n",
    "    print('\\n \\n')\n",
    "    print(classification_report(exp, pred))\n",
    " \n",
    "printreport(y_test, predicted)"
   ]
  },
  {
   "cell_type": "code",
   "execution_count": 3,
   "metadata": {},
   "outputs": [],
   "source": [
    "df = pd.read_csv(\"feat.csv\")\n",
    "bf = df"
   ]
  },
  {
   "cell_type": "code",
   "execution_count": 15,
   "metadata": {},
   "outputs": [],
   "source": [
    "def rt(x):\n",
    "    for text in x:    \n",
    "        return vectorizer.transform(text)"
   ]
  },
  {
   "cell_type": "code",
   "execution_count": 16,
   "metadata": {},
   "outputs": [
    {
     "ename": "ValueError",
     "evalue": "Iterable over raw text documents expected, string object received.",
     "output_type": "error",
     "traceback": [
      "\u001b[0;31m---------------------------------------------------------------------------\u001b[0m",
      "\u001b[0;31mValueError\u001b[0m                                Traceback (most recent call last)",
      "\u001b[0;32m<ipython-input-16-77b78a86618d>\u001b[0m in \u001b[0;36m<module>\u001b[0;34m()\u001b[0m\n\u001b[0;32m----> 1\u001b[0;31m \u001b[0mdf\u001b[0m\u001b[0;34m[\u001b[0m\u001b[0;34m'z'\u001b[0m\u001b[0;34m]\u001b[0m \u001b[0;34m=\u001b[0m \u001b[0mdf\u001b[0m\u001b[0;34m.\u001b[0m\u001b[0mtext\u001b[0m\u001b[0;34m.\u001b[0m\u001b[0mapply\u001b[0m\u001b[0;34m(\u001b[0m\u001b[0mrt\u001b[0m\u001b[0;34m)\u001b[0m\u001b[0;34m\u001b[0m\u001b[0m\n\u001b[0m",
      "\u001b[0;32m~/anaconda3/lib/python3.6/site-packages/pandas/core/series.py\u001b[0m in \u001b[0;36mapply\u001b[0;34m(self, func, convert_dtype, args, **kwds)\u001b[0m\n\u001b[1;32m   3190\u001b[0m             \u001b[0;32melse\u001b[0m\u001b[0;34m:\u001b[0m\u001b[0;34m\u001b[0m\u001b[0m\n\u001b[1;32m   3191\u001b[0m                 \u001b[0mvalues\u001b[0m \u001b[0;34m=\u001b[0m \u001b[0mself\u001b[0m\u001b[0;34m.\u001b[0m\u001b[0mastype\u001b[0m\u001b[0;34m(\u001b[0m\u001b[0mobject\u001b[0m\u001b[0;34m)\u001b[0m\u001b[0;34m.\u001b[0m\u001b[0mvalues\u001b[0m\u001b[0;34m\u001b[0m\u001b[0m\n\u001b[0;32m-> 3192\u001b[0;31m                 \u001b[0mmapped\u001b[0m \u001b[0;34m=\u001b[0m \u001b[0mlib\u001b[0m\u001b[0;34m.\u001b[0m\u001b[0mmap_infer\u001b[0m\u001b[0;34m(\u001b[0m\u001b[0mvalues\u001b[0m\u001b[0;34m,\u001b[0m \u001b[0mf\u001b[0m\u001b[0;34m,\u001b[0m \u001b[0mconvert\u001b[0m\u001b[0;34m=\u001b[0m\u001b[0mconvert_dtype\u001b[0m\u001b[0;34m)\u001b[0m\u001b[0;34m\u001b[0m\u001b[0m\n\u001b[0m\u001b[1;32m   3193\u001b[0m \u001b[0;34m\u001b[0m\u001b[0m\n\u001b[1;32m   3194\u001b[0m         \u001b[0;32mif\u001b[0m \u001b[0mlen\u001b[0m\u001b[0;34m(\u001b[0m\u001b[0mmapped\u001b[0m\u001b[0;34m)\u001b[0m \u001b[0;32mand\u001b[0m \u001b[0misinstance\u001b[0m\u001b[0;34m(\u001b[0m\u001b[0mmapped\u001b[0m\u001b[0;34m[\u001b[0m\u001b[0;36m0\u001b[0m\u001b[0;34m]\u001b[0m\u001b[0;34m,\u001b[0m \u001b[0mSeries\u001b[0m\u001b[0;34m)\u001b[0m\u001b[0;34m:\u001b[0m\u001b[0;34m\u001b[0m\u001b[0m\n",
      "\u001b[0;32mpandas/_libs/src/inference.pyx\u001b[0m in \u001b[0;36mpandas._libs.lib.map_infer\u001b[0;34m()\u001b[0m\n",
      "\u001b[0;32m<ipython-input-15-bcd8ed237bb3>\u001b[0m in \u001b[0;36mrt\u001b[0;34m(x)\u001b[0m\n\u001b[1;32m      1\u001b[0m \u001b[0;32mdef\u001b[0m \u001b[0mrt\u001b[0m\u001b[0;34m(\u001b[0m\u001b[0mx\u001b[0m\u001b[0;34m)\u001b[0m\u001b[0;34m:\u001b[0m\u001b[0;34m\u001b[0m\u001b[0m\n\u001b[1;32m      2\u001b[0m     \u001b[0;32mfor\u001b[0m \u001b[0mtext\u001b[0m \u001b[0;32min\u001b[0m \u001b[0mx\u001b[0m\u001b[0;34m:\u001b[0m\u001b[0;34m\u001b[0m\u001b[0m\n\u001b[0;32m----> 3\u001b[0;31m         \u001b[0;32mreturn\u001b[0m \u001b[0mvectorizer\u001b[0m\u001b[0;34m.\u001b[0m\u001b[0mtransform\u001b[0m\u001b[0;34m(\u001b[0m\u001b[0mtext\u001b[0m\u001b[0;34m)\u001b[0m\u001b[0;34m\u001b[0m\u001b[0m\n\u001b[0m",
      "\u001b[0;32m~/anaconda3/lib/python3.6/site-packages/sklearn/feature_extraction/text.py\u001b[0m in \u001b[0;36mtransform\u001b[0;34m(self, raw_documents)\u001b[0m\n\u001b[1;32m    912\u001b[0m         \u001b[0;32mif\u001b[0m \u001b[0misinstance\u001b[0m\u001b[0;34m(\u001b[0m\u001b[0mraw_documents\u001b[0m\u001b[0;34m,\u001b[0m \u001b[0msix\u001b[0m\u001b[0;34m.\u001b[0m\u001b[0mstring_types\u001b[0m\u001b[0;34m)\u001b[0m\u001b[0;34m:\u001b[0m\u001b[0;34m\u001b[0m\u001b[0m\n\u001b[1;32m    913\u001b[0m             raise ValueError(\n\u001b[0;32m--> 914\u001b[0;31m                 \u001b[0;34m\"Iterable over raw text documents expected, \"\u001b[0m\u001b[0;34m\u001b[0m\u001b[0m\n\u001b[0m\u001b[1;32m    915\u001b[0m                 \"string object received.\")\n\u001b[1;32m    916\u001b[0m \u001b[0;34m\u001b[0m\u001b[0m\n",
      "\u001b[0;31mValueError\u001b[0m: Iterable over raw text documents expected, string object received."
     ]
    }
   ],
   "source": [
    "df['z'] = df.text.apply(rt)"
   ]
  },
  {
   "cell_type": "code",
   "execution_count": 8,
   "metadata": {},
   "outputs": [
    {
     "ename": "ValueError",
     "evalue": "np.nan is an invalid document, expected byte or unicode string.",
     "output_type": "error",
     "traceback": [
      "\u001b[0;31m---------------------------------------------------------------------------\u001b[0m",
      "\u001b[0;31mValueError\u001b[0m                                Traceback (most recent call last)",
      "\u001b[0;32m<ipython-input-8-0abc0412589f>\u001b[0m in \u001b[0;36m<module>\u001b[0;34m()\u001b[0m\n\u001b[1;32m      1\u001b[0m \u001b[0mvectorizer\u001b[0m \u001b[0;34m=\u001b[0m \u001b[0mCountVectorizer\u001b[0m\u001b[0;34m(\u001b[0m\u001b[0mmin_df\u001b[0m\u001b[0;34m=\u001b[0m\u001b[0;36m1\u001b[0m\u001b[0;34m)\u001b[0m\u001b[0;34m\u001b[0m\u001b[0m\n\u001b[0;32m----> 2\u001b[0;31m \u001b[0mX\u001b[0m \u001b[0;34m=\u001b[0m \u001b[0mvectorizer\u001b[0m\u001b[0;34m.\u001b[0m\u001b[0mfit_transform\u001b[0m\u001b[0;34m(\u001b[0m\u001b[0mdf\u001b[0m\u001b[0;34m[\u001b[0m\u001b[0;34m'text'\u001b[0m\u001b[0;34m]\u001b[0m\u001b[0;34m)\u001b[0m\u001b[0;34m.\u001b[0m\u001b[0mtolist\u001b[0m\u001b[0;34m(\u001b[0m\u001b[0;34m)\u001b[0m\u001b[0;34m\u001b[0m\u001b[0m\n\u001b[0m\u001b[1;32m      3\u001b[0m \u001b[0;31m#vectorizer.transform(['Something completely new.']).toarray()\u001b[0m\u001b[0;34m\u001b[0m\u001b[0;34m\u001b[0m\u001b[0m\n\u001b[1;32m      4\u001b[0m \u001b[0;31m#count_vect_df = pd.DataFrame(X.todense(), columns=vectorizer.get_feature_names())\u001b[0m\u001b[0;34m\u001b[0m\u001b[0;34m\u001b[0m\u001b[0m\n\u001b[1;32m      5\u001b[0m \u001b[0;31m#pd.concat([df, count_vect_df], axis=1)\u001b[0m\u001b[0;34m\u001b[0m\u001b[0;34m\u001b[0m\u001b[0m\n",
      "\u001b[0;32m~/anaconda3/lib/python3.6/site-packages/sklearn/feature_extraction/text.py\u001b[0m in \u001b[0;36mfit_transform\u001b[0;34m(self, raw_documents, y)\u001b[0m\n\u001b[1;32m    867\u001b[0m \u001b[0;34m\u001b[0m\u001b[0m\n\u001b[1;32m    868\u001b[0m         vocabulary, X = self._count_vocab(raw_documents,\n\u001b[0;32m--> 869\u001b[0;31m                                           self.fixed_vocabulary_)\n\u001b[0m\u001b[1;32m    870\u001b[0m \u001b[0;34m\u001b[0m\u001b[0m\n\u001b[1;32m    871\u001b[0m         \u001b[0;32mif\u001b[0m \u001b[0mself\u001b[0m\u001b[0;34m.\u001b[0m\u001b[0mbinary\u001b[0m\u001b[0;34m:\u001b[0m\u001b[0;34m\u001b[0m\u001b[0m\n",
      "\u001b[0;32m~/anaconda3/lib/python3.6/site-packages/sklearn/feature_extraction/text.py\u001b[0m in \u001b[0;36m_count_vocab\u001b[0;34m(self, raw_documents, fixed_vocab)\u001b[0m\n\u001b[1;32m    790\u001b[0m         \u001b[0;32mfor\u001b[0m \u001b[0mdoc\u001b[0m \u001b[0;32min\u001b[0m \u001b[0mraw_documents\u001b[0m\u001b[0;34m:\u001b[0m\u001b[0;34m\u001b[0m\u001b[0m\n\u001b[1;32m    791\u001b[0m             \u001b[0mfeature_counter\u001b[0m \u001b[0;34m=\u001b[0m \u001b[0;34m{\u001b[0m\u001b[0;34m}\u001b[0m\u001b[0;34m\u001b[0m\u001b[0m\n\u001b[0;32m--> 792\u001b[0;31m             \u001b[0;32mfor\u001b[0m \u001b[0mfeature\u001b[0m \u001b[0;32min\u001b[0m \u001b[0manalyze\u001b[0m\u001b[0;34m(\u001b[0m\u001b[0mdoc\u001b[0m\u001b[0;34m)\u001b[0m\u001b[0;34m:\u001b[0m\u001b[0;34m\u001b[0m\u001b[0m\n\u001b[0m\u001b[1;32m    793\u001b[0m                 \u001b[0;32mtry\u001b[0m\u001b[0;34m:\u001b[0m\u001b[0;34m\u001b[0m\u001b[0m\n\u001b[1;32m    794\u001b[0m                     \u001b[0mfeature_idx\u001b[0m \u001b[0;34m=\u001b[0m \u001b[0mvocabulary\u001b[0m\u001b[0;34m[\u001b[0m\u001b[0mfeature\u001b[0m\u001b[0;34m]\u001b[0m\u001b[0;34m\u001b[0m\u001b[0m\n",
      "\u001b[0;32m~/anaconda3/lib/python3.6/site-packages/sklearn/feature_extraction/text.py\u001b[0m in \u001b[0;36m<lambda>\u001b[0;34m(doc)\u001b[0m\n\u001b[1;32m    264\u001b[0m \u001b[0;34m\u001b[0m\u001b[0m\n\u001b[1;32m    265\u001b[0m             return lambda doc: self._word_ngrams(\n\u001b[0;32m--> 266\u001b[0;31m                 tokenize(preprocess(self.decode(doc))), stop_words)\n\u001b[0m\u001b[1;32m    267\u001b[0m \u001b[0;34m\u001b[0m\u001b[0m\n\u001b[1;32m    268\u001b[0m         \u001b[0;32melse\u001b[0m\u001b[0;34m:\u001b[0m\u001b[0;34m\u001b[0m\u001b[0m\n",
      "\u001b[0;32m~/anaconda3/lib/python3.6/site-packages/sklearn/feature_extraction/text.py\u001b[0m in \u001b[0;36mdecode\u001b[0;34m(self, doc)\u001b[0m\n\u001b[1;32m    117\u001b[0m \u001b[0;34m\u001b[0m\u001b[0m\n\u001b[1;32m    118\u001b[0m         \u001b[0;32mif\u001b[0m \u001b[0mdoc\u001b[0m \u001b[0;32mis\u001b[0m \u001b[0mnp\u001b[0m\u001b[0;34m.\u001b[0m\u001b[0mnan\u001b[0m\u001b[0;34m:\u001b[0m\u001b[0;34m\u001b[0m\u001b[0m\n\u001b[0;32m--> 119\u001b[0;31m             raise ValueError(\"np.nan is an invalid document, expected byte or \"\n\u001b[0m\u001b[1;32m    120\u001b[0m                              \"unicode string.\")\n\u001b[1;32m    121\u001b[0m \u001b[0;34m\u001b[0m\u001b[0m\n",
      "\u001b[0;31mValueError\u001b[0m: np.nan is an invalid document, expected byte or unicode string."
     ]
    }
   ],
   "source": [
    "vectorizer = CountVectorizer(min_df=1)\n",
    "X = vectorizer.fit_transform(df.text)\n",
    "count_vect_df = pd.DataFrame(X.todense(), columns=vectorizer.get_feature_names())\n",
    "pd.concat([df, count_vect_df], axis=1)"
   ]
  },
  {
   "cell_type": "code",
   "execution_count": null,
   "metadata": {},
   "outputs": [],
   "source": [
    "vectorizer.transform(['Something completely new.']).toarray()"
   ]
  },
  {
   "cell_type": "code",
   "execution_count": 31,
   "metadata": {},
   "outputs": [
    {
     "ename": "NameError",
     "evalue": "name 'CountVectorizer' is not defined",
     "output_type": "error",
     "traceback": [
      "\u001b[0;31m---------------------------------------------------------------------------\u001b[0m",
      "\u001b[0;31mNameError\u001b[0m                                 Traceback (most recent call last)",
      "\u001b[0;32m<ipython-input-31-98371fab4ada>\u001b[0m in \u001b[0;36m<module>\u001b[0;34m()\u001b[0m\n\u001b[1;32m      4\u001b[0m     ('features', FeatureUnion([\n\u001b[1;32m      5\u001b[0m         ('text', Pipeline([\n\u001b[0;32m----> 6\u001b[0;31m             \u001b[0;34m(\u001b[0m\u001b[0;34m'vectorizer'\u001b[0m\u001b[0;34m,\u001b[0m \u001b[0mCountVectorizer\u001b[0m\u001b[0;34m(\u001b[0m\u001b[0;34m)\u001b[0m\u001b[0;34m)\u001b[0m\u001b[0;34m,\u001b[0m\u001b[0;34m\u001b[0m\u001b[0m\n\u001b[0m\u001b[1;32m      7\u001b[0m         ])),\n\u001b[1;32m      8\u001b[0m         ('fav', Pipeline([\n",
      "\u001b[0;31mNameError\u001b[0m: name 'CountVectorizer' is not defined"
     ]
    }
   ],
   "source": [
    "from sklearn.pipeline import Pipeline, FeatureUnion\n",
    "X_train = df\n",
    "classifier = Pipeline([\n",
    "    ('features', FeatureUnion([\n",
    "        ('text', Pipeline([\n",
    "            ('vectorizer', CountVectorizer()),\n",
    "        ])),\n",
    "        ('fav', Pipeline([\n",
    "            ('urls_count', df.favorite_count),\n",
    "        ]))\n",
    "    ])),\n",
    "    ('clf',OneVsRestClassifier(LinearSVC()))])\n",
    "\n",
    "classifier.fit(X_train, y_train)\n",
    "y_pred_class = classifier.predict(X_test)\n",
    "y_pred_class"
   ]
  },
  {
   "cell_type": "code",
   "execution_count": 26,
   "metadata": {},
   "outputs": [
    {
     "name": "stdout",
     "output_type": "stream",
     "text": [
      "  (0, 67)\t1\n",
      "  (0, 28)\t1\n",
      "  (1, 73)\t1\n",
      "  (1, 61)\t1\n",
      "  (1, 56)\t1\n",
      "  (1, 64)\t1\n",
      "  (1, 88)\t1\n",
      "  (1, 30)\t1\n",
      "  (1, 80)\t1\n",
      "  (1, 23)\t1\n",
      "  (1, 35)\t1\n",
      "  (1, 34)\t1\n",
      "  (1, 90)\t1\n",
      "  (1, 78)\t1\n",
      "  (1, 31)\t1\n",
      "  (1, 85)\t1\n",
      "  (1, 13)\t1\n",
      "  (2, 15)\t1\n",
      "  (2, 83)\t1\n",
      "  (2, 6)\t1\n",
      "  (2, 87)\t1\n",
      "  (2, 21)\t1\n",
      "  (2, 69)\t1\n",
      "  (2, 0)\t1\n",
      "  (2, 50)\t1\n",
      "  :\t:\n",
      "  (8, 58)\t1\n",
      "  (8, 70)\t1\n",
      "  (8, 65)\t1\n",
      "  (8, 7)\t1\n",
      "  (8, 45)\t1\n",
      "  (8, 74)\t1\n",
      "  (8, 75)\t1\n",
      "  (8, 63)\t1\n",
      "  (8, 1)\t1\n",
      "  (8, 72)\t1\n",
      "  (8, 62)\t1\n",
      "  (8, 17)\t1\n",
      "  (8, 66)\t1\n",
      "  (8, 32)\t1\n",
      "  (8, 21)\t1\n",
      "  (8, 50)\t1\n",
      "  (8, 73)\t1\n",
      "  (8, 34)\t1\n",
      "  (8, 90)\t2\n",
      "  (9, 20)\t1\n",
      "  (9, 3)\t1\n",
      "  (9, 82)\t1\n",
      "  (9, 77)\t1\n",
      "  (9, 8)\t1\n",
      "  (9, 27)\t1\n"
     ]
    }
   ],
   "source": [
    "print(train_bow)"
   ]
  },
  {
   "cell_type": "code",
   "execution_count": 34,
   "metadata": {},
   "outputs": [
    {
     "name": "stdout",
     "output_type": "stream",
     "text": [
      "['and', 'document', 'first', 'is', 'one', 'second', 'the', 'third', 'this']\n",
      "[[0 1 1 1 0 0 1 0 1]\n",
      " [0 1 0 1 0 2 1 0 1]\n",
      " [1 0 0 0 1 0 1 1 0]\n",
      " [0 1 1 1 0 0 1 0 1]]\n",
      "[[0.         0.43877674 0.54197657 0.43877674 0.         0.\n",
      "  0.35872874 0.         0.43877674]\n",
      " [0.         0.27230147 0.         0.27230147 0.         0.85322574\n",
      "  0.22262429 0.         0.27230147]\n",
      " [0.55280532 0.         0.         0.         0.55280532 0.\n",
      "  0.28847675 0.55280532 0.        ]\n",
      " [0.         0.43877674 0.54197657 0.43877674 0.         0.\n",
      "  0.35872874 0.         0.43877674]]\n"
     ]
    }
   ],
   "source": [
    "vectorizer = CountVectorizer(min_df=1)\n",
    "corpus = [\n",
    "  'This is the first document.',\n",
    "  'This is the second second document.',\n",
    "  'And the third one',\n",
    "  'Is this the first document?',\n",
    "]\n",
    "X = vectorizer.fit_transform(corpus)\n",
    "\n",
    "words = vectorizer.get_feature_names()\n",
    "print(words)\n",
    "words_counts = X.toarray()\n",
    "print(words_counts)\n",
    "\n",
    "transformer = TfidfTransformer()\n",
    "tfidf = transformer.fit_transform(words_counts)\n",
    "print(tfidf.toarray())"
   ]
  },
  {
   "cell_type": "markdown",
   "metadata": {},
   "source": [
    "## check put each row into text and also put vector to each coloum try to use pandas within this or pipline form sklearn"
   ]
  },
  {
   "cell_type": "code",
   "execution_count": 23,
   "metadata": {},
   "outputs": [
    {
     "name": "stdout",
     "output_type": "stream",
     "text": [
      "{'the': 9, 'quick': 8, 'brown': 0, 'fox': 2, 'jumped': 4, 'over': 7, 'lazy': 5, 'dog': 1, 'me': 6, 'hi': 3}\n",
      "(2, 10)\n",
      "<class 'scipy.sparse.csr.csr_matrix'>\n",
      "[[1 1 1 0 1 1 0 1 1 2]\n",
      " [0 0 0 1 0 0 1 0 0 0]]\n"
     ]
    }
   ],
   "source": [
    "# list of text documents\n",
    "text = [\"The quick brown fox jumped over the lazy dog.\", \"me hi\"]\n",
    "# create the transform\n",
    "vectorizer = CountVectorizer()\n",
    "# tokenize and build vocab\n",
    "vectorizer.fit(text)\n",
    "# summarize\n",
    "print(vectorizer.vocabulary_)\n",
    "# encode document\n",
    "vector = vectorizer.transform(text)\n",
    "# summarize encoded vector\n",
    "print(vector.shape)\n",
    "print(type(vector))\n",
    "print(vector.toarray())"
   ]
  }
 ],
 "metadata": {
  "kernelspec": {
   "display_name": "Python 3",
   "language": "python",
   "name": "python3"
  },
  "language_info": {
   "codemirror_mode": {
    "name": "ipython",
    "version": 3
   },
   "file_extension": ".py",
   "mimetype": "text/x-python",
   "name": "python",
   "nbconvert_exporter": "python",
   "pygments_lexer": "ipython3",
   "version": "3.6.5"
  }
 },
 "nbformat": 4,
 "nbformat_minor": 2
}
