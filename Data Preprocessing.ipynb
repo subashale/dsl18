{
 "cells": [
  {
   "cell_type": "code",
   "execution_count": 42,
   "metadata": {},
   "outputs": [],
   "source": [
    "%config IPCompleter.greedy = True\n",
    "import pandas as pd\n",
    "import numpy as np\n",
    "import matplotlib.pyplot as plt\n",
    "import re\n",
    "import nltk\n",
    "from nltk.corpus import stopwords\n",
    "#nltk.download('stopwords') # one time\n",
    "\n",
    "# Helper class\n",
    "from Data_Preprocessing_Helper import *"
   ]
  },
  {
   "cell_type": "code",
   "execution_count": 43,
   "metadata": {},
   "outputs": [
    {
     "name": "stderr",
     "output_type": "stream",
     "text": [
      "/home/alemag/anaconda3/lib/python3.6/site-packages/IPython/core/interactiveshell.py:2785: DtypeWarning: Columns (0,1,5,6,7,8,9) have mixed types. Specify dtype option on import or set low_memory=False.\n",
      "  interactivity=interactivity, compiler=compiler, result=result)\n"
     ]
    }
   ],
   "source": [
    "dataFrame = pd.read_csv(\"data/raw/top100users.csv\")"
   ]
  },
  {
   "cell_type": "code",
   "execution_count": 44,
   "metadata": {},
   "outputs": [
    {
     "name": "stdout",
     "output_type": "stream",
     "text": [
      "user_name          0\n",
      "text               0\n",
      "retweet_count      0\n",
      "favorite_count     0\n",
      "is_quote_status    0\n",
      "favorited          0\n",
      "retweeted          0\n",
      "hastags            0\n",
      "urls               0\n",
      "user_mentions      0\n",
      "tweet_age          0\n",
      "dtype: int64\n"
     ]
    }
   ],
   "source": [
    "print(df.isnull().sum())"
   ]
  },
  {
   "cell_type": "code",
   "execution_count": 45,
   "metadata": {},
   "outputs": [
    {
     "name": "stdout",
     "output_type": "stream",
     "text": [
      "Index(['Unnamed: 0', 'id', 'user_name', 'text', 'created_at', 'retweet_count',\n",
      "       'favorite_count', 'is_quote_status', 'favorited', 'retweeted',\n",
      "       'hastags', 'urls', 'user_mentions', 'crawl_at'],\n",
      "      dtype='object')\n"
     ]
    },
    {
     "data": {
      "text/plain": [
       "293151"
      ]
     },
     "execution_count": 45,
     "metadata": {},
     "output_type": "execute_result"
    }
   ],
   "source": [
    "df = dataFrame\n",
    "print(df.keys())\n",
    "len(df)"
   ]
  },
  {
   "cell_type": "code",
   "execution_count": 46,
   "metadata": {},
   "outputs": [
    {
     "data": {
      "text/plain": [
       "293151"
      ]
     },
     "execution_count": 46,
     "metadata": {},
     "output_type": "execute_result"
    }
   ],
   "source": [
    "len(df['text'])"
   ]
  },
  {
   "cell_type": "code",
   "execution_count": 22,
   "metadata": {},
   "outputs": [
    {
     "data": {
      "text/html": [
       "<div>\n",
       "<style scoped>\n",
       "    .dataframe tbody tr th:only-of-type {\n",
       "        vertical-align: middle;\n",
       "    }\n",
       "\n",
       "    .dataframe tbody tr th {\n",
       "        vertical-align: top;\n",
       "    }\n",
       "\n",
       "    .dataframe thead th {\n",
       "        text-align: right;\n",
       "    }\n",
       "</style>\n",
       "<table border=\"1\" class=\"dataframe\">\n",
       "  <thead>\n",
       "    <tr style=\"text-align: right;\">\n",
       "      <th></th>\n",
       "      <th>Unnamed: 0</th>\n",
       "      <th>id</th>\n",
       "      <th>user_name</th>\n",
       "      <th>text</th>\n",
       "      <th>created_at</th>\n",
       "      <th>retweet_count</th>\n",
       "      <th>favorite_count</th>\n",
       "      <th>is_quote_status</th>\n",
       "      <th>favorited</th>\n",
       "      <th>retweeted</th>\n",
       "      <th>hastags</th>\n",
       "      <th>urls</th>\n",
       "      <th>user_mentions</th>\n",
       "      <th>crawl_at</th>\n",
       "    </tr>\n",
       "  </thead>\n",
       "  <tbody>\n",
       "    <tr>\n",
       "      <th>count</th>\n",
       "      <td>293151</td>\n",
       "      <td>293150</td>\n",
       "      <td>293150</td>\n",
       "      <td>293150</td>\n",
       "      <td>293143</td>\n",
       "      <td>293143</td>\n",
       "      <td>293143</td>\n",
       "      <td>293143</td>\n",
       "      <td>293143</td>\n",
       "      <td>293143</td>\n",
       "      <td>293143</td>\n",
       "      <td>293136</td>\n",
       "      <td>293136</td>\n",
       "      <td>293136</td>\n",
       "    </tr>\n",
       "    <tr>\n",
       "      <th>unique</th>\n",
       "      <td>293151</td>\n",
       "      <td>293150</td>\n",
       "      <td>107</td>\n",
       "      <td>291713</td>\n",
       "      <td>291375</td>\n",
       "      <td>27180</td>\n",
       "      <td>41318</td>\n",
       "      <td>8</td>\n",
       "      <td>9</td>\n",
       "      <td>3</td>\n",
       "      <td>79107</td>\n",
       "      <td>132688</td>\n",
       "      <td>107024</td>\n",
       "      <td>3</td>\n",
       "    </tr>\n",
       "    <tr>\n",
       "      <th>top</th>\n",
       "      <td>16918</td>\n",
       "      <td>593214110797443072</td>\n",
       "      <td>danieltosh</td>\n",
       "      <td>Lock in! #DubNation</td>\n",
       "      <td>False</td>\n",
       "      <td>0</td>\n",
       "      <td>0</td>\n",
       "      <td>False</td>\n",
       "      <td>False</td>\n",
       "      <td>False</td>\n",
       "      <td>[]</td>\n",
       "      <td>[]</td>\n",
       "      <td>[]</td>\n",
       "      <td>2018-07-04 03:22:09</td>\n",
       "    </tr>\n",
       "    <tr>\n",
       "      <th>freq</th>\n",
       "      <td>1</td>\n",
       "      <td>1</td>\n",
       "      <td>3247</td>\n",
       "      <td>230</td>\n",
       "      <td>7</td>\n",
       "      <td>4377</td>\n",
       "      <td>38924</td>\n",
       "      <td>179223</td>\n",
       "      <td>196593</td>\n",
       "      <td>196593</td>\n",
       "      <td>195597</td>\n",
       "      <td>158438</td>\n",
       "      <td>154070</td>\n",
       "      <td>153278</td>\n",
       "    </tr>\n",
       "  </tbody>\n",
       "</table>\n",
       "</div>"
      ],
      "text/plain": [
       "       Unnamed: 0                  id   user_name                 text  \\\n",
       "count      293151              293150      293150               293150   \n",
       "unique     293151              293150         107               291713   \n",
       "top         16918  593214110797443072  danieltosh  Lock in! #DubNation   \n",
       "freq            1                   1        3247                  230   \n",
       "\n",
       "       created_at  retweet_count favorite_count is_quote_status favorited  \\\n",
       "count      293143         293143         293143          293143    293143   \n",
       "unique     291375          27180          41318               8         9   \n",
       "top         False              0              0           False     False   \n",
       "freq            7           4377          38924          179223    196593   \n",
       "\n",
       "       retweeted hastags    urls user_mentions             crawl_at  \n",
       "count     293143  293143  293136        293136               293136  \n",
       "unique         3   79107  132688        107024                    3  \n",
       "top        False      []      []            []  2018-07-04 03:22:09  \n",
       "freq      196593  195597  158438        154070               153278  "
      ]
     },
     "execution_count": 22,
     "metadata": {},
     "output_type": "execute_result"
    }
   ],
   "source": [
    "df.describe()"
   ]
  },
  {
   "cell_type": "code",
   "execution_count": 23,
   "metadata": {},
   "outputs": [
    {
     "data": {
      "text/html": [
       "<div>\n",
       "<style scoped>\n",
       "    .dataframe tbody tr th:only-of-type {\n",
       "        vertical-align: middle;\n",
       "    }\n",
       "\n",
       "    .dataframe tbody tr th {\n",
       "        vertical-align: top;\n",
       "    }\n",
       "\n",
       "    .dataframe thead th {\n",
       "        text-align: right;\n",
       "    }\n",
       "</style>\n",
       "<table border=\"1\" class=\"dataframe\">\n",
       "  <thead>\n",
       "    <tr style=\"text-align: right;\">\n",
       "      <th></th>\n",
       "      <th>Unnamed: 0</th>\n",
       "      <th>id</th>\n",
       "      <th>user_name</th>\n",
       "      <th>text</th>\n",
       "      <th>created_at</th>\n",
       "      <th>retweet_count</th>\n",
       "      <th>favorite_count</th>\n",
       "      <th>is_quote_status</th>\n",
       "      <th>favorited</th>\n",
       "      <th>retweeted</th>\n",
       "      <th>hastags</th>\n",
       "      <th>urls</th>\n",
       "      <th>user_mentions</th>\n",
       "      <th>crawl_at</th>\n",
       "    </tr>\n",
       "  </thead>\n",
       "  <tbody>\n",
       "    <tr>\n",
       "      <th>0</th>\n",
       "      <td>0</td>\n",
       "      <td>1014234887094657024</td>\n",
       "      <td>katyperry</td>\n",
       "      <td>My ❤ was touched by Carter's story. If you're ...</td>\n",
       "      <td>2018-07-03 19:50:15</td>\n",
       "      <td>1381</td>\n",
       "      <td>5505</td>\n",
       "      <td>False</td>\n",
       "      <td>False</td>\n",
       "      <td>False</td>\n",
       "      <td>[]</td>\n",
       "      <td>[{'url': 'https://t.co/JkBmP7QJsZ', 'expanded_...</td>\n",
       "      <td>[]</td>\n",
       "      <td>2018-07-04 03:22:08</td>\n",
       "    </tr>\n",
       "    <tr>\n",
       "      <th>1</th>\n",
       "      <td>1</td>\n",
       "      <td>1010331219245125634</td>\n",
       "      <td>katyperry</td>\n",
       "      <td>Was so proud to give the gift of #transcendent...</td>\n",
       "      <td>2018-06-23 01:18:28</td>\n",
       "      <td>1652</td>\n",
       "      <td>10933</td>\n",
       "      <td>False</td>\n",
       "      <td>False</td>\n",
       "      <td>False</td>\n",
       "      <td>[{'text': 'transcendentalmeditation', 'indices...</td>\n",
       "      <td>[{'url': 'https://t.co/4EKlQMP9Wk', 'expanded_...</td>\n",
       "      <td>[]</td>\n",
       "      <td>2018-07-04 03:22:08</td>\n",
       "    </tr>\n",
       "    <tr>\n",
       "      <th>2</th>\n",
       "      <td>2</td>\n",
       "      <td>1010243008812470273</td>\n",
       "      <td>katyperry</td>\n",
       "      <td>found my first skin tag today. I think I’m an ...</td>\n",
       "      <td>2018-06-22 19:27:57</td>\n",
       "      <td>2184</td>\n",
       "      <td>18218</td>\n",
       "      <td>False</td>\n",
       "      <td>False</td>\n",
       "      <td>False</td>\n",
       "      <td>[{'text': 'TGIF', 'indices': [57, 62]}]</td>\n",
       "      <td>[]</td>\n",
       "      <td>[]</td>\n",
       "      <td>2018-07-04 03:22:08</td>\n",
       "    </tr>\n",
       "    <tr>\n",
       "      <th>3</th>\n",
       "      <td>3</td>\n",
       "      <td>1009619630695034881</td>\n",
       "      <td>katyperry</td>\n",
       "      <td>Never forget, everyone was once a child.</td>\n",
       "      <td>2018-06-21 02:10:52</td>\n",
       "      <td>14991</td>\n",
       "      <td>66913</td>\n",
       "      <td>False</td>\n",
       "      <td>False</td>\n",
       "      <td>False</td>\n",
       "      <td>[]</td>\n",
       "      <td>[]</td>\n",
       "      <td>[]</td>\n",
       "      <td>2018-07-04 03:22:08</td>\n",
       "    </tr>\n",
       "    <tr>\n",
       "      <th>4</th>\n",
       "      <td>4</td>\n",
       "      <td>1009544070631264256</td>\n",
       "      <td>katyperry</td>\n",
       "      <td>My Aussies 🐨 &amp;amp; Kiwis 🥝! For the FINALE of ...</td>\n",
       "      <td>2018-06-20 21:10:37</td>\n",
       "      <td>1551</td>\n",
       "      <td>9637</td>\n",
       "      <td>False</td>\n",
       "      <td>False</td>\n",
       "      <td>False</td>\n",
       "      <td>[{'text': 'WitnessTheTour', 'indices': [46, 61]}]</td>\n",
       "      <td>[{'url': 'https://t.co/tkXX44Dypk', 'expanded_...</td>\n",
       "      <td>[]</td>\n",
       "      <td>2018-07-04 03:22:08</td>\n",
       "    </tr>\n",
       "    <tr>\n",
       "      <th>5</th>\n",
       "      <td>5</td>\n",
       "      <td>1007711873075015680</td>\n",
       "      <td>katyperry</td>\n",
       "      <td>I 👁 you, @RoarForJess, and I ❤ you, and I’m si...</td>\n",
       "      <td>2018-06-15 19:50:07</td>\n",
       "      <td>2714</td>\n",
       "      <td>17974</td>\n",
       "      <td>False</td>\n",
       "      <td>False</td>\n",
       "      <td>False</td>\n",
       "      <td>[]</td>\n",
       "      <td>[]</td>\n",
       "      <td>[{'screen_name': 'RoarForJess', 'name': 'Help ...</td>\n",
       "      <td>2018-07-04 03:22:08</td>\n",
       "    </tr>\n",
       "    <tr>\n",
       "      <th>6</th>\n",
       "      <td>6</td>\n",
       "      <td>1005598398815375361</td>\n",
       "      <td>katyperry</td>\n",
       "      <td>Scandinavians have figured it out.</td>\n",
       "      <td>2018-06-09 23:51:56</td>\n",
       "      <td>2679</td>\n",
       "      <td>23315</td>\n",
       "      <td>False</td>\n",
       "      <td>False</td>\n",
       "      <td>False</td>\n",
       "      <td>[]</td>\n",
       "      <td>[]</td>\n",
       "      <td>[]</td>\n",
       "      <td>2018-07-04 03:22:08</td>\n",
       "    </tr>\n",
       "    <tr>\n",
       "      <th>7</th>\n",
       "      <td>7</td>\n",
       "      <td>1005450060581269505</td>\n",
       "      <td>katyperry</td>\n",
       "      <td>Oi oi @JackGarratt remember when we locked our...</td>\n",
       "      <td>2018-06-09 14:02:29</td>\n",
       "      <td>2215</td>\n",
       "      <td>10221</td>\n",
       "      <td>False</td>\n",
       "      <td>False</td>\n",
       "      <td>False</td>\n",
       "      <td>[]</td>\n",
       "      <td>[{'url': 'https://t.co/qosnSJtTr0', 'expanded_...</td>\n",
       "      <td>[{'screen_name': 'JackGarratt', 'name': 'Jack ...</td>\n",
       "      <td>2018-07-04 03:22:08</td>\n",
       "    </tr>\n",
       "    <tr>\n",
       "      <th>8</th>\n",
       "      <td>8</td>\n",
       "      <td>1005300569076989955</td>\n",
       "      <td>katyperry</td>\n",
       "      <td>WITNESS IS 1⃣❗🎂 🎈 https://t.co/fz83TjrJUr http...</td>\n",
       "      <td>2018-06-09 04:08:27</td>\n",
       "      <td>5660</td>\n",
       "      <td>24508</td>\n",
       "      <td>False</td>\n",
       "      <td>False</td>\n",
       "      <td>False</td>\n",
       "      <td>[]</td>\n",
       "      <td>[{'url': 'https://t.co/fz83TjrJUr', 'expanded_...</td>\n",
       "      <td>[]</td>\n",
       "      <td>2018-07-04 03:22:08</td>\n",
       "    </tr>\n",
       "    <tr>\n",
       "      <th>9</th>\n",
       "      <td>9</td>\n",
       "      <td>1004410509125353472</td>\n",
       "      <td>katyperry</td>\n",
       "      <td>IM SCREAMINGOSBEJRMF$&amp;amp;2@!K https://t.co/Sn...</td>\n",
       "      <td>2018-06-06 17:11:41</td>\n",
       "      <td>12033</td>\n",
       "      <td>48937</td>\n",
       "      <td>True</td>\n",
       "      <td>False</td>\n",
       "      <td>False</td>\n",
       "      <td>[]</td>\n",
       "      <td>[{'url': 'https://t.co/SnRrHLSSLR', 'expanded_...</td>\n",
       "      <td>[]</td>\n",
       "      <td>2018-07-04 03:22:08</td>\n",
       "    </tr>\n",
       "  </tbody>\n",
       "</table>\n",
       "</div>"
      ],
      "text/plain": [
       "  Unnamed: 0                   id  user_name  \\\n",
       "0          0  1014234887094657024  katyperry   \n",
       "1          1  1010331219245125634  katyperry   \n",
       "2          2  1010243008812470273  katyperry   \n",
       "3          3  1009619630695034881  katyperry   \n",
       "4          4  1009544070631264256  katyperry   \n",
       "5          5  1007711873075015680  katyperry   \n",
       "6          6  1005598398815375361  katyperry   \n",
       "7          7  1005450060581269505  katyperry   \n",
       "8          8  1005300569076989955  katyperry   \n",
       "9          9  1004410509125353472  katyperry   \n",
       "\n",
       "                                                text           created_at  \\\n",
       "0  My ❤ was touched by Carter's story. If you're ...  2018-07-03 19:50:15   \n",
       "1  Was so proud to give the gift of #transcendent...  2018-06-23 01:18:28   \n",
       "2  found my first skin tag today. I think I’m an ...  2018-06-22 19:27:57   \n",
       "3           Never forget, everyone was once a child.  2018-06-21 02:10:52   \n",
       "4  My Aussies 🐨 &amp; Kiwis 🥝! For the FINALE of ...  2018-06-20 21:10:37   \n",
       "5  I 👁 you, @RoarForJess, and I ❤ you, and I’m si...  2018-06-15 19:50:07   \n",
       "6                 Scandinavians have figured it out.  2018-06-09 23:51:56   \n",
       "7  Oi oi @JackGarratt remember when we locked our...  2018-06-09 14:02:29   \n",
       "8  WITNESS IS 1⃣❗🎂 🎈 https://t.co/fz83TjrJUr http...  2018-06-09 04:08:27   \n",
       "9  IM SCREAMINGOSBEJRMF$&amp;2@!K https://t.co/Sn...  2018-06-06 17:11:41   \n",
       "\n",
       "  retweet_count favorite_count is_quote_status favorited retweeted  \\\n",
       "0          1381           5505           False     False     False   \n",
       "1          1652          10933           False     False     False   \n",
       "2          2184          18218           False     False     False   \n",
       "3         14991          66913           False     False     False   \n",
       "4          1551           9637           False     False     False   \n",
       "5          2714          17974           False     False     False   \n",
       "6          2679          23315           False     False     False   \n",
       "7          2215          10221           False     False     False   \n",
       "8          5660          24508           False     False     False   \n",
       "9         12033          48937            True     False     False   \n",
       "\n",
       "                                             hastags  \\\n",
       "0                                                 []   \n",
       "1  [{'text': 'transcendentalmeditation', 'indices...   \n",
       "2            [{'text': 'TGIF', 'indices': [57, 62]}]   \n",
       "3                                                 []   \n",
       "4  [{'text': 'WitnessTheTour', 'indices': [46, 61]}]   \n",
       "5                                                 []   \n",
       "6                                                 []   \n",
       "7                                                 []   \n",
       "8                                                 []   \n",
       "9                                                 []   \n",
       "\n",
       "                                                urls  \\\n",
       "0  [{'url': 'https://t.co/JkBmP7QJsZ', 'expanded_...   \n",
       "1  [{'url': 'https://t.co/4EKlQMP9Wk', 'expanded_...   \n",
       "2                                                 []   \n",
       "3                                                 []   \n",
       "4  [{'url': 'https://t.co/tkXX44Dypk', 'expanded_...   \n",
       "5                                                 []   \n",
       "6                                                 []   \n",
       "7  [{'url': 'https://t.co/qosnSJtTr0', 'expanded_...   \n",
       "8  [{'url': 'https://t.co/fz83TjrJUr', 'expanded_...   \n",
       "9  [{'url': 'https://t.co/SnRrHLSSLR', 'expanded_...   \n",
       "\n",
       "                                       user_mentions             crawl_at  \n",
       "0                                                 []  2018-07-04 03:22:08  \n",
       "1                                                 []  2018-07-04 03:22:08  \n",
       "2                                                 []  2018-07-04 03:22:08  \n",
       "3                                                 []  2018-07-04 03:22:08  \n",
       "4                                                 []  2018-07-04 03:22:08  \n",
       "5  [{'screen_name': 'RoarForJess', 'name': 'Help ...  2018-07-04 03:22:08  \n",
       "6                                                 []  2018-07-04 03:22:08  \n",
       "7  [{'screen_name': 'JackGarratt', 'name': 'Jack ...  2018-07-04 03:22:08  \n",
       "8                                                 []  2018-07-04 03:22:08  \n",
       "9                                                 []  2018-07-04 03:22:08  "
      ]
     },
     "execution_count": 23,
     "metadata": {},
     "output_type": "execute_result"
    }
   ],
   "source": [
    "df.head(10)"
   ]
  },
  {
   "cell_type": "code",
   "execution_count": 64,
   "metadata": {},
   "outputs": [
    {
     "data": {
      "text/plain": [
       "0"
      ]
     },
     "execution_count": 64,
     "metadata": {},
     "output_type": "execute_result"
    }
   ],
   "source": [
    "df['created_at'].isnull().sum()"
   ]
  },
  {
   "cell_type": "code",
   "execution_count": 70,
   "metadata": {},
   "outputs": [
    {
     "data": {
      "text/plain": [
       "293143"
      ]
     },
     "execution_count": 70,
     "metadata": {},
     "output_type": "execute_result"
    }
   ],
   "source": [
    "len(df['created_at'])"
   ]
  },
  {
   "cell_type": "code",
   "execution_count": 68,
   "metadata": {},
   "outputs": [],
   "source": [
    "df['crawl_at'].dropna(inplace=True)"
   ]
  },
  {
   "cell_type": "code",
   "execution_count": 59,
   "metadata": {},
   "outputs": [],
   "source": [
    "# to remove nan from text only\n",
    "#df[(df.text!='nan')]"
   ]
  },
  {
   "cell_type": "code",
   "execution_count": 24,
   "metadata": {},
   "outputs": [],
   "source": [
    "#df.dropna(inplace=True)\n",
    "# drop column is nan exists \n",
    "#df.drop_duplicates().sum() #It will remove duplicates index "
   ]
  },
  {
   "cell_type": "code",
   "execution_count": 49,
   "metadata": {},
   "outputs": [
    {
     "ename": "ValueError",
     "evalue": "('Unknown string format:', 'False')",
     "output_type": "error",
     "traceback": [
      "\u001b[0;31m---------------------------------------------------------------------------\u001b[0m",
      "\u001b[0;31mTypeError\u001b[0m                                 Traceback (most recent call last)",
      "\u001b[0;32m~/anaconda3/lib/python3.6/site-packages/pandas/core/tools/datetimes.py\u001b[0m in \u001b[0;36m_convert_listlike\u001b[0;34m(arg, box, format, name, tz)\u001b[0m\n\u001b[1;32m    376\u001b[0m             \u001b[0;32mtry\u001b[0m\u001b[0;34m:\u001b[0m\u001b[0;34m\u001b[0m\u001b[0m\n\u001b[0;32m--> 377\u001b[0;31m                 \u001b[0mvalues\u001b[0m\u001b[0;34m,\u001b[0m \u001b[0mtz\u001b[0m \u001b[0;34m=\u001b[0m \u001b[0mconversion\u001b[0m\u001b[0;34m.\u001b[0m\u001b[0mdatetime_to_datetime64\u001b[0m\u001b[0;34m(\u001b[0m\u001b[0marg\u001b[0m\u001b[0;34m)\u001b[0m\u001b[0;34m\u001b[0m\u001b[0m\n\u001b[0m\u001b[1;32m    378\u001b[0m                 \u001b[0;32mreturn\u001b[0m \u001b[0mDatetimeIndex\u001b[0m\u001b[0;34m.\u001b[0m\u001b[0m_simple_new\u001b[0m\u001b[0;34m(\u001b[0m\u001b[0mvalues\u001b[0m\u001b[0;34m,\u001b[0m \u001b[0mname\u001b[0m\u001b[0;34m=\u001b[0m\u001b[0mname\u001b[0m\u001b[0;34m,\u001b[0m \u001b[0mtz\u001b[0m\u001b[0;34m=\u001b[0m\u001b[0mtz\u001b[0m\u001b[0;34m)\u001b[0m\u001b[0;34m\u001b[0m\u001b[0m\n",
      "\u001b[0;32mpandas/_libs/tslibs/conversion.pyx\u001b[0m in \u001b[0;36mpandas._libs.tslibs.conversion.datetime_to_datetime64\u001b[0;34m()\u001b[0m\n",
      "\u001b[0;31mTypeError\u001b[0m: Unrecognized value type: <class 'str'>",
      "\nDuring handling of the above exception, another exception occurred:\n",
      "\u001b[0;31mValueError\u001b[0m                                Traceback (most recent call last)",
      "\u001b[0;32m<ipython-input-49-a9d17eb34b17>\u001b[0m in \u001b[0;36m<module>\u001b[0;34m()\u001b[0m\n\u001b[1;32m      1\u001b[0m \u001b[0;31m#drop old tweet less than 7 days\u001b[0m\u001b[0;34m\u001b[0m\u001b[0;34m\u001b[0m\u001b[0m\n\u001b[1;32m      2\u001b[0m \u001b[0;31m# tweet age\u001b[0m\u001b[0;34m\u001b[0m\u001b[0;34m\u001b[0m\u001b[0m\n\u001b[0;32m----> 3\u001b[0;31m \u001b[0mdf\u001b[0m\u001b[0;34m[\u001b[0m\u001b[0;34m'created_at'\u001b[0m\u001b[0;34m]\u001b[0m \u001b[0;34m=\u001b[0m \u001b[0mpd\u001b[0m\u001b[0;34m.\u001b[0m\u001b[0mto_datetime\u001b[0m\u001b[0;34m(\u001b[0m\u001b[0mdf\u001b[0m\u001b[0;34m[\u001b[0m\u001b[0;34m'created_at'\u001b[0m\u001b[0;34m]\u001b[0m\u001b[0;34m)\u001b[0m\u001b[0;34m\u001b[0m\u001b[0m\n\u001b[0m\u001b[1;32m      4\u001b[0m \u001b[0mdf\u001b[0m\u001b[0;34m[\u001b[0m\u001b[0;34m'crawl_at'\u001b[0m\u001b[0;34m]\u001b[0m \u001b[0;34m=\u001b[0m \u001b[0mpd\u001b[0m\u001b[0;34m.\u001b[0m\u001b[0mto_datetime\u001b[0m\u001b[0;34m(\u001b[0m\u001b[0mdf\u001b[0m\u001b[0;34m[\u001b[0m\u001b[0;34m'crawl_at'\u001b[0m\u001b[0;34m]\u001b[0m\u001b[0;34m)\u001b[0m\u001b[0;34m\u001b[0m\u001b[0m\n\u001b[1;32m      5\u001b[0m \u001b[0mdf\u001b[0m\u001b[0;34m[\u001b[0m\u001b[0;34m'tweet_age'\u001b[0m\u001b[0;34m]\u001b[0m \u001b[0;34m=\u001b[0m \u001b[0;34m(\u001b[0m\u001b[0;34m(\u001b[0m\u001b[0mdf\u001b[0m\u001b[0;34m[\u001b[0m\u001b[0;34m'crawl_at'\u001b[0m\u001b[0;34m]\u001b[0m \u001b[0;34m-\u001b[0m \u001b[0mdf\u001b[0m\u001b[0;34m[\u001b[0m\u001b[0;34m'created_at'\u001b[0m\u001b[0;34m]\u001b[0m \u001b[0;34m)\u001b[0m \u001b[0;34m/\u001b[0m \u001b[0mpd\u001b[0m\u001b[0;34m.\u001b[0m\u001b[0mTimedelta\u001b[0m\u001b[0;34m(\u001b[0m\u001b[0;34m'24 hour'\u001b[0m\u001b[0;34m)\u001b[0m\u001b[0;34m)\u001b[0m\u001b[0;34m.\u001b[0m\u001b[0mastype\u001b[0m\u001b[0;34m(\u001b[0m\u001b[0mint\u001b[0m\u001b[0;34m)\u001b[0m\u001b[0;34m\u001b[0m\u001b[0m\n",
      "\u001b[0;32m~/anaconda3/lib/python3.6/site-packages/pandas/core/tools/datetimes.py\u001b[0m in \u001b[0;36mto_datetime\u001b[0;34m(arg, errors, dayfirst, yearfirst, utc, box, format, exact, unit, infer_datetime_format, origin, cache)\u001b[0m\n\u001b[1;32m    449\u001b[0m         \u001b[0;32melse\u001b[0m\u001b[0;34m:\u001b[0m\u001b[0;34m\u001b[0m\u001b[0m\n\u001b[1;32m    450\u001b[0m             \u001b[0;32mfrom\u001b[0m \u001b[0mpandas\u001b[0m \u001b[0;32mimport\u001b[0m \u001b[0mSeries\u001b[0m\u001b[0;34m\u001b[0m\u001b[0m\n\u001b[0;32m--> 451\u001b[0;31m             \u001b[0mvalues\u001b[0m \u001b[0;34m=\u001b[0m \u001b[0m_convert_listlike\u001b[0m\u001b[0;34m(\u001b[0m\u001b[0marg\u001b[0m\u001b[0;34m.\u001b[0m\u001b[0m_values\u001b[0m\u001b[0;34m,\u001b[0m \u001b[0;32mTrue\u001b[0m\u001b[0;34m,\u001b[0m \u001b[0mformat\u001b[0m\u001b[0;34m)\u001b[0m\u001b[0;34m\u001b[0m\u001b[0m\n\u001b[0m\u001b[1;32m    452\u001b[0m             \u001b[0mresult\u001b[0m \u001b[0;34m=\u001b[0m \u001b[0mSeries\u001b[0m\u001b[0;34m(\u001b[0m\u001b[0mvalues\u001b[0m\u001b[0;34m,\u001b[0m \u001b[0mindex\u001b[0m\u001b[0;34m=\u001b[0m\u001b[0marg\u001b[0m\u001b[0;34m.\u001b[0m\u001b[0mindex\u001b[0m\u001b[0;34m,\u001b[0m \u001b[0mname\u001b[0m\u001b[0;34m=\u001b[0m\u001b[0marg\u001b[0m\u001b[0;34m.\u001b[0m\u001b[0mname\u001b[0m\u001b[0;34m)\u001b[0m\u001b[0;34m\u001b[0m\u001b[0m\n\u001b[1;32m    453\u001b[0m     \u001b[0;32melif\u001b[0m \u001b[0misinstance\u001b[0m\u001b[0;34m(\u001b[0m\u001b[0marg\u001b[0m\u001b[0;34m,\u001b[0m \u001b[0;34m(\u001b[0m\u001b[0mABCDataFrame\u001b[0m\u001b[0;34m,\u001b[0m \u001b[0mMutableMapping\u001b[0m\u001b[0;34m)\u001b[0m\u001b[0;34m)\u001b[0m\u001b[0;34m:\u001b[0m\u001b[0;34m\u001b[0m\u001b[0m\n",
      "\u001b[0;32m~/anaconda3/lib/python3.6/site-packages/pandas/core/tools/datetimes.py\u001b[0m in \u001b[0;36m_convert_listlike\u001b[0;34m(arg, box, format, name, tz)\u001b[0m\n\u001b[1;32m    378\u001b[0m                 \u001b[0;32mreturn\u001b[0m \u001b[0mDatetimeIndex\u001b[0m\u001b[0;34m.\u001b[0m\u001b[0m_simple_new\u001b[0m\u001b[0;34m(\u001b[0m\u001b[0mvalues\u001b[0m\u001b[0;34m,\u001b[0m \u001b[0mname\u001b[0m\u001b[0;34m=\u001b[0m\u001b[0mname\u001b[0m\u001b[0;34m,\u001b[0m \u001b[0mtz\u001b[0m\u001b[0;34m=\u001b[0m\u001b[0mtz\u001b[0m\u001b[0;34m)\u001b[0m\u001b[0;34m\u001b[0m\u001b[0m\n\u001b[1;32m    379\u001b[0m             \u001b[0;32mexcept\u001b[0m \u001b[0;34m(\u001b[0m\u001b[0mValueError\u001b[0m\u001b[0;34m,\u001b[0m \u001b[0mTypeError\u001b[0m\u001b[0;34m)\u001b[0m\u001b[0;34m:\u001b[0m\u001b[0;34m\u001b[0m\u001b[0m\n\u001b[0;32m--> 380\u001b[0;31m                 \u001b[0;32mraise\u001b[0m \u001b[0me\u001b[0m\u001b[0;34m\u001b[0m\u001b[0m\n\u001b[0m\u001b[1;32m    381\u001b[0m \u001b[0;34m\u001b[0m\u001b[0m\n\u001b[1;32m    382\u001b[0m     \u001b[0;32mif\u001b[0m \u001b[0marg\u001b[0m \u001b[0;32mis\u001b[0m \u001b[0;32mNone\u001b[0m\u001b[0;34m:\u001b[0m\u001b[0;34m\u001b[0m\u001b[0m\n",
      "\u001b[0;32m~/anaconda3/lib/python3.6/site-packages/pandas/core/tools/datetimes.py\u001b[0m in \u001b[0;36m_convert_listlike\u001b[0;34m(arg, box, format, name, tz)\u001b[0m\n\u001b[1;32m    366\u001b[0m                     \u001b[0mdayfirst\u001b[0m\u001b[0;34m=\u001b[0m\u001b[0mdayfirst\u001b[0m\u001b[0;34m,\u001b[0m\u001b[0;34m\u001b[0m\u001b[0m\n\u001b[1;32m    367\u001b[0m                     \u001b[0myearfirst\u001b[0m\u001b[0;34m=\u001b[0m\u001b[0myearfirst\u001b[0m\u001b[0;34m,\u001b[0m\u001b[0;34m\u001b[0m\u001b[0m\n\u001b[0;32m--> 368\u001b[0;31m                     \u001b[0mrequire_iso8601\u001b[0m\u001b[0;34m=\u001b[0m\u001b[0mrequire_iso8601\u001b[0m\u001b[0;34m\u001b[0m\u001b[0m\n\u001b[0m\u001b[1;32m    369\u001b[0m                 )\n\u001b[1;32m    370\u001b[0m \u001b[0;34m\u001b[0m\u001b[0m\n",
      "\u001b[0;32mpandas/_libs/tslib.pyx\u001b[0m in \u001b[0;36mpandas._libs.tslib.array_to_datetime\u001b[0;34m()\u001b[0m\n",
      "\u001b[0;32mpandas/_libs/tslib.pyx\u001b[0m in \u001b[0;36mpandas._libs.tslib.array_to_datetime\u001b[0;34m()\u001b[0m\n",
      "\u001b[0;32mpandas/_libs/tslib.pyx\u001b[0m in \u001b[0;36mpandas._libs.tslib.array_to_datetime\u001b[0;34m()\u001b[0m\n",
      "\u001b[0;32mpandas/_libs/tslibs/parsing.pyx\u001b[0m in \u001b[0;36mpandas._libs.tslibs.parsing.parse_datetime_string\u001b[0;34m()\u001b[0m\n",
      "\u001b[0;32m~/anaconda3/lib/python3.6/site-packages/dateutil/parser/_parser.py\u001b[0m in \u001b[0;36mparse\u001b[0;34m(timestr, parserinfo, **kwargs)\u001b[0m\n\u001b[1;32m   1354\u001b[0m         \u001b[0;32mreturn\u001b[0m \u001b[0mparser\u001b[0m\u001b[0;34m(\u001b[0m\u001b[0mparserinfo\u001b[0m\u001b[0;34m)\u001b[0m\u001b[0;34m.\u001b[0m\u001b[0mparse\u001b[0m\u001b[0;34m(\u001b[0m\u001b[0mtimestr\u001b[0m\u001b[0;34m,\u001b[0m \u001b[0;34m**\u001b[0m\u001b[0mkwargs\u001b[0m\u001b[0;34m)\u001b[0m\u001b[0;34m\u001b[0m\u001b[0m\n\u001b[1;32m   1355\u001b[0m     \u001b[0;32melse\u001b[0m\u001b[0;34m:\u001b[0m\u001b[0;34m\u001b[0m\u001b[0m\n\u001b[0;32m-> 1356\u001b[0;31m         \u001b[0;32mreturn\u001b[0m \u001b[0mDEFAULTPARSER\u001b[0m\u001b[0;34m.\u001b[0m\u001b[0mparse\u001b[0m\u001b[0;34m(\u001b[0m\u001b[0mtimestr\u001b[0m\u001b[0;34m,\u001b[0m \u001b[0;34m**\u001b[0m\u001b[0mkwargs\u001b[0m\u001b[0;34m)\u001b[0m\u001b[0;34m\u001b[0m\u001b[0m\n\u001b[0m\u001b[1;32m   1357\u001b[0m \u001b[0;34m\u001b[0m\u001b[0m\n\u001b[1;32m   1358\u001b[0m \u001b[0;34m\u001b[0m\u001b[0m\n",
      "\u001b[0;32m~/anaconda3/lib/python3.6/site-packages/dateutil/parser/_parser.py\u001b[0m in \u001b[0;36mparse\u001b[0;34m(self, timestr, default, ignoretz, tzinfos, **kwargs)\u001b[0m\n\u001b[1;32m    646\u001b[0m \u001b[0;34m\u001b[0m\u001b[0m\n\u001b[1;32m    647\u001b[0m         \u001b[0;32mif\u001b[0m \u001b[0mres\u001b[0m \u001b[0;32mis\u001b[0m \u001b[0;32mNone\u001b[0m\u001b[0;34m:\u001b[0m\u001b[0;34m\u001b[0m\u001b[0m\n\u001b[0;32m--> 648\u001b[0;31m             \u001b[0;32mraise\u001b[0m \u001b[0mValueError\u001b[0m\u001b[0;34m(\u001b[0m\u001b[0;34m\"Unknown string format:\"\u001b[0m\u001b[0;34m,\u001b[0m \u001b[0mtimestr\u001b[0m\u001b[0;34m)\u001b[0m\u001b[0;34m\u001b[0m\u001b[0m\n\u001b[0m\u001b[1;32m    649\u001b[0m \u001b[0;34m\u001b[0m\u001b[0m\n\u001b[1;32m    650\u001b[0m         \u001b[0;32mif\u001b[0m \u001b[0mlen\u001b[0m\u001b[0;34m(\u001b[0m\u001b[0mres\u001b[0m\u001b[0;34m)\u001b[0m \u001b[0;34m==\u001b[0m \u001b[0;36m0\u001b[0m\u001b[0;34m:\u001b[0m\u001b[0;34m\u001b[0m\u001b[0m\n",
      "\u001b[0;31mValueError\u001b[0m: ('Unknown string format:', 'False')"
     ]
    }
   ],
   "source": [
    "#drop old tweet less than 7 days\n",
    "# tweet age\n",
    "df['created_at'] = pd.to_datetime(df['created_at'])\n",
    "df['crawl_at'] = pd.to_datetime(df['crawl_at'])\n",
    "df['tweet_age'] = ((df['crawl_at'] - df['created_at'] ) / pd.Timedelta('24 hour')).astype(int)\n",
    "df = df.drop(df[df.tweet_age > 7].index)"
   ]
  },
  {
   "cell_type": "code",
   "execution_count": 26,
   "metadata": {},
   "outputs": [
    {
     "data": {
      "text/plain": [
       "10585"
      ]
     },
     "execution_count": 26,
     "metadata": {},
     "output_type": "execute_result"
    }
   ],
   "source": [
    "len(df)"
   ]
  },
  {
   "cell_type": "code",
   "execution_count": 27,
   "metadata": {},
   "outputs": [],
   "source": [
    "# one time only\n",
    "df = df.drop(['Unnamed: 0', 'id', 'created_at', 'crawl_at'], axis=1)"
   ]
  },
  {
   "cell_type": "code",
   "execution_count": 28,
   "metadata": {},
   "outputs": [
    {
     "name": "stdout",
     "output_type": "stream",
     "text": [
      "user_name          0\n",
      "text               0\n",
      "retweet_count      0\n",
      "favorite_count     0\n",
      "is_quote_status    0\n",
      "favorited          0\n",
      "retweeted          0\n",
      "hastags            0\n",
      "urls               0\n",
      "user_mentions      0\n",
      "tweet_age          0\n",
      "dtype: int64\n",
      "10585\n",
      "Index(['user_name', 'text', 'retweet_count', 'favorite_count',\n",
      "       'is_quote_status', 'favorited', 'retweeted', 'hastags', 'urls',\n",
      "       'user_mentions', 'tweet_age'],\n",
      "      dtype='object')\n"
     ]
    }
   ],
   "source": [
    "print(df.isnull().sum())\n",
    "print(len(df))\n",
    "print(df.keys())"
   ]
  },
  {
   "cell_type": "code",
   "execution_count": 31,
   "metadata": {},
   "outputs": [],
   "source": [
    "# Remove emojis\n",
    "#df.text = df.text.apply(removeEmoj)\n",
    "df[\"text\"] =  df.text.str.replace('[^\\x00-\\x7F]','')\n",
    "df.text = df.text.apply(removeEmoj)"
   ]
  },
  {
   "cell_type": "code",
   "execution_count": 32,
   "metadata": {},
   "outputs": [],
   "source": [
    "#df['text'] = df['text'].str.lower() # make lower case to every character\n",
    "df.text = df.text.apply(lambda x: x.lower())\n",
    "\n",
    "#remove stop words, but length of text is short so better not remove\n",
    "stop = stopwords.words('english')\n",
    "df['text'] = df['text'].apply(lambda x: ' '.join([word for word in x.split() if word not in (stop)]))\n",
    "\n",
    "# remove url from text\n",
    "urlPattern = \"(https?:\\/\\/(?:www\\.|(?!www))[a-zA-Z0-9][a-zA-Z0-9-]+[a-zA-Z0-9]\\.[^\\s]{2,}|www\\.[a-zA-Z0-9][a-zA-Z0-9-]+[a-zA-Z0-9]\\.[^\\s]{2,}|https?:\\/\\/(?:www\\.|(?!www))[a-zA-Z0-9]\\.[^\\s]{2,}|www\\.[a-zA-Z0-9]\\.[^\\s]{2,})\"\n",
    "df.text = df.text.str.replace(urlPattern, '')\n",
    "\n",
    "# remove punctutation\n",
    "df.text = df.text.apply(removePunctuations)\n",
    "\n",
    "# remove non ASCII\n",
    "df.text = df.text.apply(removeNonAscii)"
   ]
  },
  {
   "cell_type": "code",
   "execution_count": 33,
   "metadata": {},
   "outputs": [],
   "source": [
    "# Get only clean urls\n",
    "urlPattern = \"(https?:\\/\\/(?:www\\.|(?!www))[a-zA-Z0-9][a-zA-Z0-9-]+[a-zA-Z0-9]\\.[^\\s]{2,}|www\\.[a-zA-Z0-9][a-zA-Z0-9-]+[a-zA-Z0-9]\\.[^\\s]{2,}|https?:\\/\\/(?:www\\.|(?!www))[a-zA-Z0-9]\\.[^\\s]{2,}|www\\.[a-zA-Z0-9]\\.[^\\s]{2,})\"\n",
    "df.urls = df.urls.str.extract(urlPattern, expand = True)\n",
    "df.urls = df.urls.str.replace(\"',\", \"\")\n",
    "df['urls']=df['urls'].fillna('')"
   ]
  },
  {
   "cell_type": "code",
   "execution_count": 34,
   "metadata": {},
   "outputs": [],
   "source": [
    "# Get only users mentioned screen names\n",
    "def usersMentions(mentionUsers):\n",
    "    regex = r'\\b\\w+\\b'\n",
    "    list1=re.findall(regex, mentionUsers)\n",
    "    mention = []    \n",
    "    for i, name in enumerate(list1):\n",
    "        if 'screen_name' in name:\n",
    "            mention.append(i+1)        \n",
    "    #print(mention)    \n",
    "    a = np.array(list1)\n",
    "    return list(a[mention])"
   ]
  },
  {
   "cell_type": "code",
   "execution_count": 35,
   "metadata": {},
   "outputs": [],
   "source": [
    "# one time if for converison of list\n",
    "df.user_mentions = df.user_mentions.apply(usersMentions)"
   ]
  },
  {
   "cell_type": "code",
   "execution_count": 36,
   "metadata": {},
   "outputs": [],
   "source": [
    "df.user_mentions = df.user_mentions.apply(', '.join)"
   ]
  },
  {
   "cell_type": "code",
   "execution_count": 37,
   "metadata": {},
   "outputs": [],
   "source": [
    "# Get only users mentioned screen names\n",
    "def getHasTags(hasTags):\n",
    "    regex = r'\\b\\w+\\b'\n",
    "    list2 = re.findall(regex, hasTags)\n",
    "    mention = []    \n",
    "    for i, name in enumerate(list2):\n",
    "        if 'text' in name:\n",
    "            mention.append(i+1)        \n",
    "    #print(mention)    \n",
    "    a = np.array(list2)\n",
    "    return list(a[mention])"
   ]
  },
  {
   "cell_type": "code",
   "execution_count": 38,
   "metadata": {},
   "outputs": [],
   "source": [
    "# one time if for converison of list\n",
    "df.hastags = df.hastags.apply(getHasTags)"
   ]
  },
  {
   "cell_type": "code",
   "execution_count": 39,
   "metadata": {},
   "outputs": [],
   "source": [
    "df.hastags = df.hastags.apply(', '.join)"
   ]
  },
  {
   "cell_type": "code",
   "execution_count": 40,
   "metadata": {},
   "outputs": [],
   "source": [
    "# finally save to preprocessed folder\n",
    "df.to_csv(\"data/processed/\" + \"processed.csv\", sep=',', encoding='utf-8', index=False)"
   ]
  },
  {
   "cell_type": "code",
   "execution_count": 41,
   "metadata": {},
   "outputs": [
    {
     "data": {
      "text/plain": [
       "10585"
      ]
     },
     "execution_count": 41,
     "metadata": {},
     "output_type": "execute_result"
    }
   ],
   "source": []
  }
 ],
 "metadata": {
  "kernelspec": {
   "display_name": "Python 3",
   "language": "python",
   "name": "python3"
  },
  "language_info": {
   "codemirror_mode": {
    "name": "ipython",
    "version": 3
   },
   "file_extension": ".py",
   "mimetype": "text/x-python",
   "name": "python",
   "nbconvert_exporter": "python",
   "pygments_lexer": "ipython3",
   "version": "3.6.5"
  }
 },
 "nbformat": 4,
 "nbformat_minor": 2
}
