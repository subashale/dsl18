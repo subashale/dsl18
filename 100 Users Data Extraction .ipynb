{
 "cells": [
  {
   "cell_type": "code",
   "execution_count": 1,
   "metadata": {},
   "outputs": [],
   "source": [
    "%config IPCompleter.greedy = True\n",
    "import tweepy\n",
    "import pandas as pd\n",
    "import matplotlib.pyplot as plt\n",
    "from datetime import datetime\n",
    "pd.options.display.max_columns = 50\n",
    "pd.options.display.max_rows= 50\n",
    "pd.options.display.width= 120"
   ]
  },
  {
   "cell_type": "code",
   "execution_count": 7,
   "metadata": {},
   "outputs": [],
   "source": [
    "consumer_key = \"AMaPn12NstF4kTlDou6jDzoYM\" # Use your own key. To get a key https://apps.twitter.com/\n",
    "consumer_secret = \"8NGFFyBcXA4CsBGrYDjwN9h7clcY1CuLmtEizAcQ7zw3C9MvOW\"\n",
    "\n",
    "auth = tweepy.OAuthHandler(consumer_key=consumer_key, consumer_secret=consumer_secret)\n",
    "api = tweepy.API(auth, wait_on_rate_limit=True)"
   ]
  },
  {
   "cell_type": "code",
   "execution_count": 8,
   "metadata": {},
   "outputs": [],
   "source": [
    "# Reading top 100 users\n",
    "with open(\"top100users\", \"r\") as ins:\n",
    "    array = []\n",
    "    for line in ins:        \n",
    "        array.append(line)\n",
    "top100UsersName = [s.replace('\\n', '') for s in array]"
   ]
  },
  {
   "cell_type": "code",
   "execution_count": 9,
   "metadata": {},
   "outputs": [
    {
     "name": "stdout",
     "output_type": "stream",
     "text": [
      "293143\n",
      "CPU times: user 6min 2s, sys: 37.1 s, total: 6min 39s\n",
      "Wall time: 2h 35min 12s\n"
     ]
    }
   ],
   "source": [
    "# %%time\n",
    "# results = []\n",
    "# for username in top100UsersName:\n",
    "#     for tweet in tweepy.Cursor(api.user_timeline,\n",
    "#                                screen_name = username,\n",
    "#                                since='2015-11-25',\n",
    "#                                until='2017-11-27',                           \n",
    "#                                lang='en').items():\n",
    "#         results.append(tweet)\n",
    "\n",
    "# print(len(results))"
   ]
  },
  {
   "cell_type": "code",
   "execution_count": 10,
   "metadata": {},
   "outputs": [],
   "source": [
    "def process_results(results):\n",
    "    # Processing Tweet Data\n",
    "    # Basic tweet properites\n",
    "    id_list = [tweet.id for tweet in results]\n",
    "    data_set = pd.DataFrame(id_list, columns=[\"id\"])\n",
    "    data_set[\"user_name\"] = [tweet.user.screen_name for tweet in results]\n",
    "    data_set[\"text\"] = [tweet.text for tweet in results]\n",
    "    data_set[\"created_at\"] = [pd.to_datetime(tweet.created_at) for tweet in results]\n",
    "    data_set[\"retweet_count\"] = [tweet.retweet_count for tweet in results]\n",
    "    data_set[\"favorite_count\"] = [tweet.favorite_count for tweet in results]            \n",
    "    data_set[\"is_quote_status\"] = [tweet.is_quote_status for tweet in results]\n",
    "    data_set[\"favorited\"] = [tweet.favorited for tweet in results]\n",
    "    data_set[\"retweeted\"] = [tweet.retweeted for tweet in results]    \n",
    "    \n",
    "    # Entities objects\n",
    "    data_set[\"hastags\"] = [tweet.entities['hashtags'] for tweet in results]\n",
    "    data_set[\"urls\"] = [tweet.entities['urls'] for tweet in results]\n",
    "    data_set[\"user_mentions\"] = [tweet.entities['user_mentions'] for tweet in results]\n",
    "\n",
    "    # Other entities\n",
    "    data_set[\"crawl_at\"] = [datetime.now().strftime('%Y-%m-%d %H:%M:%S') for tweet in results]    \n",
    "\n",
    "    return data_set\n",
    "\n",
    "    # crwal data and dump to csv as raw data_set\n",
    "data_set = process_results(results)\n",
    "data_set.to_csv(\"top100users.csv\", sep=',', encoding='utf-8')"
   ]
  },
  {
   "cell_type": "code",
   "execution_count": 11,
   "metadata": {},
   "outputs": [],
   "source": [
    "data_set.to_csv(\"top100users.csv\", sep=',', encoding='utf-8')"
   ]
  },
  {
   "cell_type": "code",
   "execution_count": 2,
   "metadata": {},
   "outputs": [],
   "source": [
    "import json\n",
    "import pickle"
   ]
  },
  {
   "cell_type": "code",
   "execution_count": 16,
   "metadata": {},
   "outputs": [],
   "source": [
    "# Saving results to pickle\n",
    "with open('100UsersResults.data', 'wb') as filehandle:  \n",
    "    # store the data as binary data stream\n",
    "    pickle.dump(results, filehandle)"
   ]
  },
  {
   "cell_type": "code",
   "execution_count": 3,
   "metadata": {},
   "outputs": [],
   "source": [
    "# Reading from pickle\n",
    "with open('100UsersResults.data', 'rb') as filehandle:  \n",
    "    # read the data as binary data stream\n",
    "    result = pickle.load(filehandle)"
   ]
  },
  {
   "cell_type": "code",
   "execution_count": 6,
   "metadata": {},
   "outputs": [
    {
     "data": {
      "text/plain": [
       "list"
      ]
     },
     "execution_count": 6,
     "metadata": {},
     "output_type": "execute_result"
    }
   ],
   "source": [
    "type(result)"
   ]
  },
  {
   "cell_type": "code",
   "execution_count": null,
   "metadata": {},
   "outputs": [],
   "source": [
    "imp\n",
    "fixData = 2018-06-22 19:27:57"
   ]
  },
  {
   "cell_type": "code",
   "execution_count": 11,
   "metadata": {},
   "outputs": [],
   "source": []
  },
  {
   "cell_type": "code",
   "execution_count": 13,
   "metadata": {},
   "outputs": [
    {
     "name": "stdout",
     "output_type": "stream",
     "text": [
      "2018-06-22 19:27:57\n"
     ]
    }
   ],
   "source": [
    "print(crawalData)"
   ]
  },
  {
   "cell_type": "code",
   "execution_count": null,
   "metadata": {},
   "outputs": [],
   "source": [
    "id_list = [tweet.id for tweet in results]\n",
    "data_set = pd.DataFrame(id_list, columns=[\"id\"])"
   ]
  },
  {
   "cell_type": "code",
   "execution_count": null,
   "metadata": {},
   "outputs": [],
   "source": [
    "id_list = [tweet.id for tweet in result]\n",
    "data_set = pd.DataFrame(id_list, columns=[\"id\"])"
   ]
  },
  {
   "cell_type": "code",
   "execution_count": null,
   "metadata": {},
   "outputs": [],
   "source": [
    "userName = data[\"screen_name\"].value_counts()[:5][::-1]\n",
    "\n",
    "plt.barh(range(len(userName)), userName.values)\n",
    "plt.yticks(np.arange(len(userName)) + 0.4, userName.index)\n",
    "plt.show()"
   ]
  }
 ],
 "metadata": {
  "kernelspec": {
   "display_name": "Python 3",
   "language": "python",
   "name": "python3"
  },
  "language_info": {
   "codemirror_mode": {
    "name": "ipython",
    "version": 3
   },
   "file_extension": ".py",
   "mimetype": "text/x-python",
   "name": "python",
   "nbconvert_exporter": "python",
   "pygments_lexer": "ipython3",
   "version": "3.6.5"
  }
 },
 "nbformat": 4,
 "nbformat_minor": 2
}
